{
 "cells": [
  {
   "cell_type": "markdown",
   "metadata": {},
   "source": [
    "## This is less about Julia and more about JavaScript\n",
    "\n",
    "When working within the IJulia interface, we often need to write JavaScript that will manipulate nodes that we've created in the past.  Using the `display` method and some creative JavaScript, we can achieve this in a way that persists."
   ]
  },
  {
   "cell_type": "markdown",
   "metadata": {},
   "source": [
    "### 1. Create an id for the display node"
   ]
  },
  {
   "cell_type": "code",
   "execution_count": 1,
   "metadata": {
    "collapsed": false
   },
   "outputs": [
    {
     "data": {
      "text/plain": [
       "\"demo-node-0.976430733131741\""
      ]
     },
     "execution_count": 1,
     "metadata": {},
     "output_type": "execute_result"
    }
   ],
   "source": [
    "displayid = \"demo-node-\" * string(rand())"
   ]
  },
  {
   "cell_type": "markdown",
   "metadata": {},
   "source": [
    "### 2. Create a node with that id"
   ]
  },
  {
   "cell_type": "code",
   "execution_count": 11,
   "metadata": {
    "collapsed": false
   },
   "outputs": [
    {
     "data": {
      "text/html": [
       "<p id=\"demo-node-0.976430733131741\" style=\"background-color:red; color:white; padding: 5px;\">nothing here</p>"
      ]
     },
     "metadata": {},
     "output_type": "display_data"
    }
   ],
   "source": [
    "display(\"text/html\", \"\"\"<p id=\"$(displayid)\" style=\"background-color:red; color:white; padding: 5px;\">nothing here</p>\"\"\")"
   ]
  },
  {
   "cell_type": "markdown",
   "metadata": {},
   "source": [
    "### 3. Create a JavaScript function named with that ID\n",
    "\n",
    "Note that this would be illegal in pure JavaScript, but we can do it by treating the function name as a property of the `window` object.  This sort of also ensures that we do not collide with existing JavaScript functions."
   ]
  },
  {
   "cell_type": "code",
   "execution_count": 4,
   "metadata": {
    "collapsed": false
   },
   "outputs": [
    {
     "data": {
      "text/html": [
       "<script>\n",
       "    window[\"demo-node-0.976430733131741\"] = function(text) {\n",
       "        var p = document.getElementById(\"demo-node-0.976430733131741\");\n",
       "        if(p) {\n",
       "            p.innerText = text;\n",
       "        }\n",
       "    };\n",
       "</script>\n"
      ]
     },
     "metadata": {},
     "output_type": "display_data"
    }
   ],
   "source": [
    "display(\"text/html\", \"\"\"\n",
    "<script>\n",
    "    window[\"$(displayid)\"] = function(text) {\n",
    "        var p = document.getElementById(\"$(displayid)\");\n",
    "        if(p) {\n",
    "            p.innerText = text;\n",
    "        }\n",
    "    };\n",
    "</script>\n",
    "\"\"\")"
   ]
  },
  {
   "cell_type": "markdown",
   "metadata": {},
   "source": [
    "### 4. Later in our code we can update that node using its ID"
   ]
  },
  {
   "cell_type": "code",
   "execution_count": 10,
   "metadata": {
    "collapsed": false
   },
   "outputs": [
    {
     "data": {
      "text/html": [
       "<script>window[\"demo-node-0.976430733131741\"](\"hello, world\");</script>"
      ]
     },
     "metadata": {},
     "output_type": "display_data"
    }
   ],
   "source": [
    "display(\"text/html\", \"\"\"<script>window[\"$(displayid)\"](\"hello, world\");</script>\"\"\")"
   ]
  },
  {
   "cell_type": "markdown",
   "metadata": {},
   "source": [
    "### This technique can be used when interacting with D3\n",
    "\n",
    "We often run D3 visualisations within an iframe, and this method allows us to have multiple copies of the same viz without having data go to the wrong one."
   ]
  },
  {
   "cell_type": "code",
   "execution_count": null,
   "metadata": {
    "collapsed": true
   },
   "outputs": [],
   "source": []
  }
 ],
 "metadata": {
  "kernelspec": {
   "display_name": "Julia 0.3.8",
   "language": "julia",
   "name": "julia-0.3"
  },
  "language_info": {
   "name": "julia",
   "version": "0.3.8"
  }
 },
 "nbformat": 4,
 "nbformat_minor": 0
}
