{
 "cells": [
  {
   "cell_type": "markdown",
   "metadata": {},
   "source": [
    "## We'll follow our previous examples\n",
    "\n",
    "Looking at [04 - JavaScript to update a Node.ipynb](04%20-%20JavaScript%20to%20update%20a%20Node.ipynb), we can reuse most of that code to add an IFrame that we can reference later.  At this point we do not need to update the IFrame, but it helps to have the scaffolding in place.\n",
    "\n",
    "At this point we'll just include a static IFrame that points to a fixed URL (https://soasta.github.io/osbridge-julia-d3/d3/06-data-driven-bars.html).\n",
    "\n",
    "You may need to change this URL to your own if you've cloned the `github` repository and are working on your own copy."
   ]
  },
  {
   "cell_type": "code",
   "execution_count": 4,
   "metadata": {
    "collapsed": false
   },
   "outputs": [
    {
     "data": {
      "text/plain": [
       "createIFrame (generic function with 1 method)"
      ]
     },
     "execution_count": 4,
     "metadata": {},
     "output_type": "execute_result"
    }
   ],
   "source": [
    "function createIFrame()\n",
    "    displayid = \"demo-iframe-\" * string(rand())\n",
    "    \n",
    "    display(\n",
    "        \"text/html\", \n",
    "        \"\"\"\n",
    "    <!-- First create an empty iframe that's 500px high and has this id -->\n",
    "    <iframe\n",
    "        id=\"$(displayid)\"\n",
    "        height=\"500\"\n",
    "        style=\"border:none;\"\n",
    "        src=\"about:blank\">\n",
    "    </iframe>\n",
    "\n",
    "\n",
    "    <!-- Next create a JavaScript function with the same name as the node -->\n",
    "    <script>\n",
    "        window[\"$(displayid)\"] = function(url) {\n",
    "            var iframe = document.getElementById(\"$(displayid)\");\n",
    "            if(iframe) {\n",
    "                iframe.width = iframe.parentNode.offsetWidth * 0.99;\n",
    "                iframe.src = url;\n",
    "            }\n",
    "        };\n",
    "    </script>\n",
    "        \"\"\"\n",
    "    )\n",
    "    \n",
    "    return displayid\n",
    "end"
   ]
  },
  {
   "cell_type": "markdown",
   "metadata": {},
   "source": [
    "## We've done a few things here\n",
    "\n",
    "1. We combined most of the code from our previous example into a single `display` call\n",
    "2. We encapsulated it all into a function that we can reuse, and that function returns the `displayid` that we can use later to update the iframe\n",
    "3. We set the iframe's width via JavaScript because our Julia code has no idea how wide the browser window is\n",
    "\n",
    "We'll also add another function, this one is just a Julia encapsulation of a JavaScript function to change the iframe's URL"
   ]
  },
  {
   "cell_type": "code",
   "execution_count": 5,
   "metadata": {
    "collapsed": false
   },
   "outputs": [
    {
     "data": {
      "text/plain": [
       "updateIFrame (generic function with 1 method)"
      ]
     },
     "execution_count": 5,
     "metadata": {},
     "output_type": "execute_result"
    }
   ],
   "source": [
    "function updateIFrame(displayid, url)\n",
    "    display(\n",
    "        \"text/html\",\n",
    "        \"\"\"<script>window[\"$(displayid)\"](\"$(url)\");</script>\"\"\"\n",
    "    )\n",
    "end"
   ]
  },
  {
   "cell_type": "markdown",
   "metadata": {},
   "source": [
    "## Tying these two together, we can draw and update the iframe"
   ]
  },
  {
   "cell_type": "code",
   "execution_count": 8,
   "metadata": {
    "collapsed": false
   },
   "outputs": [
    {
     "data": {
      "text/html": [
       "<!-- First create an empty iframe that's 500px high and has this id -->\n",
       "<iframe\n",
       "    id=\"demo-iframe-0.8045349162625421\"\n",
       "    height=\"500\"\n",
       "    style=\"border:none;\"\n",
       "    src=\"about:blank\">\n",
       "</iframe>\n",
       "\n",
       "\n",
       "<!-- Next create a JavaScript function with the same name as the node -->\n",
       "<script>\n",
       "    window[\"demo-iframe-0.8045349162625421\"] = function(url) {\n",
       "        var iframe = document.getElementById(\"demo-iframe-0.8045349162625421\");\n",
       "        if(iframe) {\n",
       "            iframe.width = iframe.parentNode.offsetWidth * 0.99;\n",
       "            iframe.src = url;\n",
       "        }\n",
       "    };\n",
       "</script>\n",
       "    "
      ]
     },
     "metadata": {},
     "output_type": "display_data"
    },
    {
     "data": {
      "text/html": [
       "<script>window[\"demo-iframe-0.8045349162625421\"](\"https://soasta.github.io/julia-d3-tutorial/d3/06-data-driven-bars.html\");</script>"
      ]
     },
     "metadata": {},
     "output_type": "display_data"
    }
   ],
   "source": [
    "id = createIFrame()\n",
    "\n",
    "updateIFrame(id, \"https://soasta.github.io/julia-d3-tutorial/d3/06-data-driven-bars.html\")"
   ]
  },
  {
   "cell_type": "markdown",
   "metadata": {},
   "source": [
    "## We can change the URL now\n",
    "\n",
    "By calling `updateIFrame` with a new url, we can change what's displayed"
   ]
  },
  {
   "cell_type": "code",
   "execution_count": 9,
   "metadata": {
    "collapsed": false
   },
   "outputs": [
    {
     "data": {
      "text/html": [
       "<script>window[\"demo-iframe-0.8045349162625421\"](\"https://soasta.github.io/julia-d3-tutorial/d3/05-data-driven-documents.html\");</script>"
      ]
     },
     "metadata": {},
     "output_type": "display_data"
    }
   ],
   "source": [
    "updateIFrame(id, \"https://soasta.github.io/julia-d3-tutorial/d3/05-data-driven-documents.html\")"
   ]
  },
  {
   "cell_type": "code",
   "execution_count": null,
   "metadata": {
    "collapsed": true
   },
   "outputs": [],
   "source": []
  }
 ],
 "metadata": {
  "kernelspec": {
   "display_name": "Julia 0.4.3",
   "language": "julia",
   "name": "julia-0.4"
  },
  "language_info": {
   "file_extension": ".jl",
   "mimetype": "application/julia",
   "name": "julia",
   "version": "0.4.3"
  }
 },
 "nbformat": 4,
 "nbformat_minor": 0
}
