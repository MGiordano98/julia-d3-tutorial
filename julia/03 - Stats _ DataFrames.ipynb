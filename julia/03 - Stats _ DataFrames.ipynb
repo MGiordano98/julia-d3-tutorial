{
 "cells": [
  {
   "cell_type": "code",
   "execution_count": 1,
   "metadata": {
    "collapsed": false
   },
   "outputs": [
    {
     "name": "stderr",
     "output_type": "stream",
     "text": [
      "INFO: Precompiling module DataFrames...\n"
     ]
    }
   ],
   "source": [
    "using DataFrames"
   ]
  },
  {
   "cell_type": "code",
   "execution_count": 9,
   "metadata": {
    "collapsed": false
   },
   "outputs": [],
   "source": [
    "df = readtable(\"data.csv\");"
   ]
  },
  {
   "cell_type": "markdown",
   "metadata": {},
   "source": [
    "## DataFrames\n",
    "\n",
    "### DataFrame Methods\n",
    "\n",
    "There are various simple methods you can use to inspect a `DataFrame`"
   ]
  },
  {
   "cell_type": "code",
   "execution_count": 10,
   "metadata": {
    "collapsed": false
   },
   "outputs": [
    {
     "data": {
      "text/plain": [
       "(250000,20)"
      ]
     },
     "execution_count": 10,
     "metadata": {},
     "output_type": "execute_result"
    }
   ],
   "source": [
    "size(df)"
   ]
  },
  {
   "cell_type": "code",
   "execution_count": 11,
   "metadata": {
    "collapsed": false
   },
   "outputs": [
    {
     "data": {
      "text/plain": [
       "20-element Array{Symbol,1}:\n",
       " :timestamp             \n",
       " :page_group            \n",
       " :geo_cc                \n",
       " :geo_rg                \n",
       " :geo_org               \n",
       " :geo_netspeed          \n",
       " :user_agent_family     \n",
       " :user_agent_major      \n",
       " :user_agent_minor      \n",
       " :user_agent_os         \n",
       " :user_agent_osversion  \n",
       " :user_agent_device_type\n",
       " :user_agent_model      \n",
       " :params_dom_sz         \n",
       " :params_dom_ln         \n",
       " :params_dom_script     \n",
       " :params_dom_img        \n",
       " :timers_t_done         \n",
       " :timers_t_resp         \n",
       " :timers_t_page         "
      ]
     },
     "execution_count": 11,
     "metadata": {},
     "output_type": "execute_result"
    }
   ],
   "source": [
    "names(df)"
   ]
  },
  {
   "cell_type": "markdown",
   "metadata": {},
   "source": [
    "### Each column of a DataFrame is a DataArray\n",
    "\n",
    "You can reference a column using the column name as a `Symbol` subscript.  A `DataArray` is just a regular array that can contain `NA`, which is Juliaspeak for `NULL`."
   ]
  },
  {
   "cell_type": "code",
   "execution_count": 12,
   "metadata": {
    "collapsed": false
   },
   "outputs": [
    {
     "data": {
      "text/plain": [
       "250000-element DataArrays.DataArray{Int64,1}:\n",
       "  6257\n",
       "  5955\n",
       " 14750\n",
       " 12266\n",
       " 10773\n",
       "  6604\n",
       "  3502\n",
       "  6073\n",
       "  6554\n",
       "  6546\n",
       " 12472\n",
       " 10238\n",
       " 10995\n",
       "     ⋮\n",
       "  7827\n",
       "  6673\n",
       "  6624\n",
       "  6189\n",
       "  4699\n",
       "  2968\n",
       "  7348\n",
       "  7265\n",
       "  8626\n",
       "  3756\n",
       "  3836\n",
       "  4439"
      ]
     },
     "execution_count": 12,
     "metadata": {},
     "output_type": "execute_result"
    }
   ],
   "source": [
    "df[:timers_t_done]"
   ]
  },
  {
   "cell_type": "code",
   "execution_count": 13,
   "metadata": {
    "collapsed": false
   },
   "outputs": [
    {
     "data": {
      "text/plain": [
       "11-element DataArrays.DataArray{Int64,1}:\n",
       "  2857\n",
       "  3056\n",
       "  5124\n",
       "  3188\n",
       "  4841\n",
       "  4680\n",
       "  4879\n",
       "  6106\n",
       "  4516\n",
       "  5557\n",
       " 12049"
      ]
     },
     "execution_count": 13,
     "metadata": {},
     "output_type": "execute_result"
    }
   ],
   "source": [
    "df[30:40, :timers_t_done]"
   ]
  },
  {
   "cell_type": "code",
   "execution_count": 14,
   "metadata": {
    "collapsed": false
   },
   "outputs": [
    {
     "data": {
      "text/html": [
       "<table class=\"data-frame\"><tr><th></th><th>timestamp</th><th>geo_cc</th><th>geo_netspeed</th><th>user_agent_family</th><th>timers_t_done</th></tr><tr><th>1</th><td>1455611221592</td><td>PL</td><td>NA</td><td>IE</td><td>2857</td></tr><tr><th>2</th><td>1455611283782</td><td>PL</td><td>NA</td><td>IE</td><td>3056</td></tr><tr><th>3</th><td>1455611355679</td><td>PL</td><td>NA</td><td>IE</td><td>5124</td></tr><tr><th>4</th><td>1455612940770</td><td>GB</td><td>Cable/DSL</td><td>Safari</td><td>3188</td></tr><tr><th>5</th><td>1455613685100</td><td>IE</td><td>Dialup</td><td>IE</td><td>4841</td></tr><tr><th>6</th><td>1455613730994</td><td>IE</td><td>Dialup</td><td>IE</td><td>4680</td></tr><tr><th>7</th><td>1455614657272</td><td>UA</td><td>NA</td><td>Firefox</td><td>4879</td></tr><tr><th>8</th><td>1455614335263</td><td>UA</td><td>NA</td><td>Firefox</td><td>6106</td></tr><tr><th>9</th><td>1455614452250</td><td>UA</td><td>NA</td><td>Firefox</td><td>4516</td></tr><tr><th>10</th><td>1455612605862</td><td>GB</td><td>Cable/DSL</td><td>Safari</td><td>5557</td></tr><tr><th>11</th><td>1455613527347</td><td>SA</td><td>NA</td><td>Chrome</td><td>12049</td></tr></table>"
      ],
      "text/plain": [
       "11x5 DataFrames.DataFrame\n",
       "| Row | timestamp     | geo_cc | geo_netspeed | user_agent_family |\n",
       "|-----|---------------|--------|--------------|-------------------|\n",
       "| 1   | 1455611221592 | \"PL\"   | NA           | \"IE\"              |\n",
       "| 2   | 1455611283782 | \"PL\"   | NA           | \"IE\"              |\n",
       "| 3   | 1455611355679 | \"PL\"   | NA           | \"IE\"              |\n",
       "| 4   | 1455612940770 | \"GB\"   | \"Cable/DSL\"  | \"Safari\"          |\n",
       "| 5   | 1455613685100 | \"IE\"   | \"Dialup\"     | \"IE\"              |\n",
       "| 6   | 1455613730994 | \"IE\"   | \"Dialup\"     | \"IE\"              |\n",
       "| 7   | 1455614657272 | \"UA\"   | NA           | \"Firefox\"         |\n",
       "| 8   | 1455614335263 | \"UA\"   | NA           | \"Firefox\"         |\n",
       "| 9   | 1455614452250 | \"UA\"   | NA           | \"Firefox\"         |\n",
       "| 10  | 1455612605862 | \"GB\"   | \"Cable/DSL\"  | \"Safari\"          |\n",
       "| 11  | 1455613527347 | \"SA\"   | NA           | \"Chrome\"          |\n",
       "\n",
       "| Row | timers_t_done |\n",
       "|-----|---------------|\n",
       "| 1   | 2857          |\n",
       "| 2   | 3056          |\n",
       "| 3   | 5124          |\n",
       "| 4   | 3188          |\n",
       "| 5   | 4841          |\n",
       "| 6   | 4680          |\n",
       "| 7   | 4879          |\n",
       "| 8   | 6106          |\n",
       "| 9   | 4516          |\n",
       "| 10  | 5557          |\n",
       "| 11  | 12049         |"
      ]
     },
     "execution_count": 14,
     "metadata": {},
     "output_type": "execute_result"
    }
   ],
   "source": [
    "df[30:40, [:timestamp, :geo_cc, :geo_netspeed, :user_agent_family, :timers_t_done]]"
   ]
  },
  {
   "cell_type": "markdown",
   "metadata": {},
   "source": [
    "## Stats on DataFrames\n",
    "\n",
    "Most Julia stats functions run on `AbstractArray`, which is the base type for `Array` as well as `DataArray`, so you can run them on any column of a `DataFrame` that contains numbers. You will probably need to remove `NA`s first using the `dropna` function.\n",
    "\n",
    "Our test dataset doesn't contain any `NA` values for the `timers_t_done` column, so we're safe."
   ]
  },
  {
   "cell_type": "code",
   "execution_count": 15,
   "metadata": {
    "collapsed": false
   },
   "outputs": [
    {
     "data": {
      "text/plain": [
       "Summary Stats:\n",
       "Mean:         5858.974556\n",
       "Minimum:      8.000000\n",
       "1st Quartile: 2357.000000\n",
       "Median:       3973.000000\n",
       "3rd Quartile: 6688.000000\n",
       "Maximum:      2536087.000000\n"
      ]
     },
     "execution_count": 15,
     "metadata": {},
     "output_type": "execute_result"
    }
   ],
   "source": [
    "summarystats(df[:timers_t_done])"
   ]
  },
  {
   "cell_type": "markdown",
   "metadata": {},
   "source": [
    "## Histograms\n",
    "\n",
    "The `hist` function will by default split the dataset into equal sized buckets based on the data's range.  This may not always be what you want, so you can pass in a list of thresholds as the second parameter.\n",
    "\n",
    "The `hist` function returns a tuple.  The first element is the thresholds used, which might be a `Range` object or an `Array`.  The second element is the list of bucket frequencies."
   ]
  },
  {
   "cell_type": "code",
   "execution_count": 16,
   "metadata": {
    "collapsed": false
   },
   "outputs": [
    {
     "data": {
      "text/plain": [
       "(0.0:200000.0:2.6e6,[249866,84,44,2,1,1,0,1,0,0,0,0,1])"
      ]
     },
     "execution_count": 16,
     "metadata": {},
     "output_type": "execute_result"
    }
   ],
   "source": [
    "hist(df[:timers_t_done])"
   ]
  },
  {
   "cell_type": "markdown",
   "metadata": {},
   "source": [
    "### Creating thresholds based on the data\n",
    "\n",
    "We could use static thresholds, but that wouldn't adapt to different data sets.  In this case, we develop a Julia function that determines thresholds based on the dataset.\n",
    "\n",
    "Rather than divide the entire range into a fixed set of buckets, we divide the Inter-Quartile Range.  This has the advantage of excluding outliers from the basic range.  We then include outliers in their own buckets, one for the low bound and one for the high bound.\n",
    "\n",
    "This is very similar to a box and whiskers plot."
   ]
  },
  {
   "cell_type": "code",
   "execution_count": 17,
   "metadata": {
    "collapsed": false
   },
   "outputs": [
    {
     "data": {
      "text/plain": [
       "getSymmetricThresholds (generic function with 1 method)"
      ]
     },
     "execution_count": 17,
     "metadata": {},
     "output_type": "execute_result"
    }
   ],
   "source": [
    "# Function to set histogram thresholds after dropping outliers based on IQR\n",
    "function getSymmetricThresholds(results::DataFrame; timer::Symbol=:timers_t_done)\n",
    "    summary = summarystats(results[timer])\n",
    "    fw  = (summary.q75-summary.q25)*1.5\n",
    "\n",
    "    low = round(Int64, max(summary.min, summary.q25-fw))\n",
    "    high = round(Int64, min(summary.max, summary.q75+fw))+1\n",
    "\n",
    "    thresholds::Array{Int64, 1} = []\n",
    "\n",
    "    nthresholds=25\n",
    "\n",
    "    range = high - low\n",
    "\n",
    "    for i in 0:nthresholds-1\n",
    "        push!(thresholds, round(Int64, low + i * range/nthresholds))\n",
    "    end\n",
    "\n",
    "    push!(thresholds, high)\n",
    "    if high < round(Int64, summary.max)\n",
    "        push!(thresholds, round(Int64, summary.max))\n",
    "    end\n",
    "\n",
    "    return thresholds\n",
    "end"
   ]
  },
  {
   "cell_type": "markdown",
   "metadata": {},
   "source": [
    "#### Julia Functions\n",
    "\n",
    "Notice that Julia functions are declared using the `function` keyword.  Function parameters may have types attached to them, this is optional, and mainly useful when you overload function names.\n",
    "\n",
    "Functions may have optional parameters, a `;` separates required parameters from optional ones.\n",
    "\n",
    "When passing optional parameters to a function, they need to be passed by name, and order doesn't matter.\n",
    "\n",
    "A function typically only returns a single value, though that value may be a tuple of multiple objects.  The caller can then receive the return value into a single tuple or multiple values enclosed in `()`."
   ]
  },
  {
   "cell_type": "code",
   "execution_count": 18,
   "metadata": {
    "collapsed": false
   },
   "outputs": [
    {
     "data": {
      "text/plain": [
       "27-element Array{Int64,1}:\n",
       "       8\n",
       "     535\n",
       "    1062\n",
       "    1589\n",
       "    2116\n",
       "    2643\n",
       "    3170\n",
       "    3698\n",
       "    4225\n",
       "    4752\n",
       "    5279\n",
       "    5806\n",
       "    6333\n",
       "       ⋮\n",
       "    7914\n",
       "    8441\n",
       "    8968\n",
       "    9495\n",
       "   10023\n",
       "   10550\n",
       "   11077\n",
       "   11604\n",
       "   12131\n",
       "   12658\n",
       "   13185\n",
       " 2536087"
      ]
     },
     "execution_count": 18,
     "metadata": {},
     "output_type": "execute_result"
    }
   ],
   "source": [
    "thresholds = getSymmetricThresholds(df)"
   ]
  },
  {
   "cell_type": "markdown",
   "metadata": {},
   "source": [
    "Running the `hist` function using our new thresholds gets us much better granularity into the data."
   ]
  },
  {
   "cell_type": "code",
   "execution_count": 19,
   "metadata": {
    "collapsed": false
   },
   "outputs": [
    {
     "data": {
      "text/plain": [
       "26-element Array{Int64,1}:\n",
       "   252\n",
       "  6337\n",
       " 19357\n",
       " 25199\n",
       " 24620\n",
       " 21891\n",
       " 18662\n",
       " 16302\n",
       " 14786\n",
       " 12989\n",
       " 11284\n",
       "  9803\n",
       "  8566\n",
       "  7237\n",
       "  6349\n",
       "  5424\n",
       "  4757\n",
       "  4204\n",
       "  3728\n",
       "  3096\n",
       "  2669\n",
       "  2429\n",
       "  2098\n",
       "  1729\n",
       "  1529\n",
       " 14702"
      ]
     },
     "execution_count": 19,
     "metadata": {},
     "output_type": "execute_result"
    }
   ],
   "source": [
    "hist_global = hist(df[:timers_t_done], thresholds)[2]"
   ]
  },
  {
   "cell_type": "markdown",
   "metadata": {},
   "source": [
    "## Filtering DataFrames\n",
    "\n",
    "We can also filter a `DataFrame` on the value of one or more fields.  In the following example, we filter on all `:geo_rg` that are not `NA` and equal to `US:: OR`."
   ]
  },
  {
   "cell_type": "code",
   "execution_count": 22,
   "metadata": {
    "collapsed": true
   },
   "outputs": [],
   "source": [
    "results_US = df[!isna(df[:geo_cc]) & (df[:geo_cc] .== \"US\"), :];"
   ]
  },
  {
   "cell_type": "code",
   "execution_count": 23,
   "metadata": {
    "collapsed": false
   },
   "outputs": [
    {
     "data": {
      "text/plain": [
       "26-element Array{Int64,1}:\n",
       "   249\n",
       "  6243\n",
       " 19010\n",
       " 24561\n",
       " 23830\n",
       " 21014\n",
       " 17859\n",
       " 15578\n",
       " 14051\n",
       " 12363\n",
       " 10758\n",
       "  9309\n",
       "  8103\n",
       "  6823\n",
       "  6006\n",
       "  5101\n",
       "  4462\n",
       "  3903\n",
       "  3483\n",
       "  2896\n",
       "  2473\n",
       "  2265\n",
       "  1926\n",
       "  1584\n",
       "  1419\n",
       " 13249"
      ]
     },
     "execution_count": 23,
     "metadata": {},
     "output_type": "execute_result"
    }
   ],
   "source": [
    "hist_US = hist(results_US[:timers_t_done], thresholds)[2]"
   ]
  },
  {
   "cell_type": "markdown",
   "metadata": {},
   "source": [
    "### Statistical Correlation\n",
    "\n",
    "The `cor` function lets us run a correlation between the two histograms that we have"
   ]
  },
  {
   "cell_type": "code",
   "execution_count": 24,
   "metadata": {
    "collapsed": false
   },
   "outputs": [
    {
     "data": {
      "text/plain": [
       "0.9995864880638793"
      ]
     },
     "execution_count": 24,
     "metadata": {},
     "output_type": "execute_result"
    }
   ],
   "source": [
    "cor(hist_global, hist_US)"
   ]
  },
  {
   "cell_type": "markdown",
   "metadata": {},
   "source": [
    "We could also run `cumsum` to generate the `CDF` from the histogram and correlate those values."
   ]
  },
  {
   "cell_type": "code",
   "execution_count": 25,
   "metadata": {
    "collapsed": false
   },
   "outputs": [
    {
     "data": {
      "text/plain": [
       "0.9999733633808021"
      ]
     },
     "execution_count": 25,
     "metadata": {},
     "output_type": "execute_result"
    }
   ],
   "source": [
    "cor(cumsum(hist_global), cumsum(hist_US))"
   ]
  },
  {
   "cell_type": "markdown",
   "metadata": {},
   "source": [
    "## Splitting/Grouping a DataFrame\n",
    "\n",
    "Use the `by` function to run an aggregation on a DataFrame grouped by one or more columns"
   ]
  },
  {
   "cell_type": "code",
   "execution_count": 26,
   "metadata": {
    "collapsed": false
   },
   "outputs": [
    {
     "data": {
      "text/html": [
       "<table class=\"data-frame\"><tr><th></th><th>user_agent_family</th><th>x1</th></tr><tr><th>1</th><td>(Unknown)</td><td>3740.0</td></tr><tr><th>2</th><td>AOL</td><td>4857.0</td></tr><tr><th>3</th><td>Amazon Silk</td><td>7599.0</td></tr><tr><th>4</th><td>Android Browser</td><td>11886.0</td></tr><tr><th>5</th><td>BlackBerry WebKit</td><td>8684.0</td></tr><tr><th>6</th><td>Chrome</td><td>3129.0</td></tr><tr><th>7</th><td>Chrome Frame</td><td>4067.0</td></tr><tr><th>8</th><td>Chrome Mobile</td><td>6776.0</td></tr><tr><th>9</th><td>Chrome Mobile iOS</td><td>4257.0</td></tr><tr><th>10</th><td>Chromium</td><td>2772.0</td></tr><tr><th>11</th><td>Edge</td><td>3187.0</td></tr><tr><th>12</th><td>Firefox</td><td>3412.0</td></tr><tr><th>13</th><td>Firefox Alpha</td><td>3747.0</td></tr><tr><th>14</th><td>Firefox Beta</td><td>10278.0</td></tr><tr><th>15</th><td>Firefox Mobile</td><td>8456.0</td></tr><tr><th>16</th><td>Halebot</td><td>4654.0</td></tr><tr><th>17</th><td>IE</td><td>2862.0</td></tr><tr><th>18</th><td>IE Mobile</td><td>6265.5</td></tr><tr><th>19</th><td>Iron</td><td>2738.0</td></tr><tr><th>20</th><td>Maxthon</td><td>3961.0</td></tr><tr><th>21</th><td>Mobile Safari</td><td>4147.0</td></tr><tr><th>22</th><td>Nokia Services (WAP) Browser</td><td>11402.0</td></tr><tr><th>23</th><td>Opera</td><td>12211.0</td></tr><tr><th>24</th><td>Opera Coast</td><td>6091.0</td></tr><tr><th>25</th><td>Opera Mini</td><td>3835.0</td></tr><tr><th>26</th><td>Opera Mobile</td><td>12235.0</td></tr><tr><th>27</th><td>Other</td><td>4855.5</td></tr><tr><th>28</th><td>Pale Moon (Firefox Variant)</td><td>4797.5</td></tr><tr><th>29</th><td>PhantomJS</td><td>1660.5</td></tr><tr><th>30</th><td>Puffin</td><td>922.0</td></tr><tr><th>&vellip;</th><td>&vellip;</td><td>&vellip;</td></tr></table>"
      ],
      "text/plain": [
       "36x2 DataFrames.DataFrame\n",
       "| Row | user_agent_family             | x1      |\n",
       "|-----|-------------------------------|---------|\n",
       "| 1   | \"(Unknown)\"                   | 3740.0  |\n",
       "| 2   | \"AOL\"                         | 4857.0  |\n",
       "| 3   | \"Amazon Silk\"                 | 7599.0  |\n",
       "| 4   | \"Android Browser\"             | 11886.0 |\n",
       "| 5   | \"BlackBerry WebKit\"           | 8684.0  |\n",
       "| 6   | \"Chrome\"                      | 3129.0  |\n",
       "| 7   | \"Chrome Frame\"                | 4067.0  |\n",
       "| 8   | \"Chrome Mobile\"               | 6776.0  |\n",
       "| 9   | \"Chrome Mobile iOS\"           | 4257.0  |\n",
       "| 10  | \"Chromium\"                    | 2772.0  |\n",
       "| 11  | \"Edge\"                        | 3187.0  |\n",
       "⋮\n",
       "| 25  | \"Opera Mini\"                  | 3835.0  |\n",
       "| 26  | \"Opera Mobile\"                | 12235.0 |\n",
       "| 27  | \"Other\"                       | 4855.5  |\n",
       "| 28  | \"Pale Moon (Firefox Variant)\" | 4797.5  |\n",
       "| 29  | \"PhantomJS\"                   | 1660.5  |\n",
       "| 30  | \"Puffin\"                      | 922.0   |\n",
       "| 31  | \"Safari\"                      | 2605.0  |\n",
       "| 32  | \"SeaMonkey\"                   | 1996.0  |\n",
       "| 33  | \"UC Browser\"                  | 34914.0 |\n",
       "| 34  | \"Yandex Browser\"              | 8513.0  |\n",
       "| 35  | \"moatbot\"                     | 4904.0  |\n",
       "| 36  | \"webOS Browser\"               | 17555.5 |"
      ]
     },
     "execution_count": 26,
     "metadata": {},
     "output_type": "execute_result"
    }
   ],
   "source": [
    "by(df, :user_agent_family, rows -> median(rows[:timers_t_done]))"
   ]
  },
  {
   "cell_type": "markdown",
   "metadata": {},
   "source": [
    "### Problems if the aggregation function returns an array\n",
    "\n",
    "If the aggregation function returns an array, like the `hist` function does, then we'll actually end up with one row per array element.  Instead we need to serialize the array to a string or create a custom data type that encapsulates the array.  The string method is easier albeit a little slower, but if we're going to export our data to JavaScript, we may need to do this anyway."
   ]
  },
  {
   "cell_type": "code",
   "execution_count": 27,
   "metadata": {
    "collapsed": false
   },
   "outputs": [
    {
     "data": {
      "text/html": [
       "<table class=\"data-frame\"><tr><th></th><th>user_agent_family</th><th>count</th><th>median</th><th>hist</th></tr><tr><th>1</th><td>(Unknown)</td><td>73</td><td>3740.0</td><td>[0,1,8,9,6,5,7,5,0,2,1,2,4,0,0,3,1,5,3,1,2,2,0,1,0,5]</td></tr><tr><th>2</th><td>AOL</td><td>15</td><td>4857.0</td><td>[0,0,1,1,1,1,1,0,2,2,0,1,0,1,2,0,0,0,0,0,0,0,0,0,0,2]</td></tr><tr><th>3</th><td>Amazon Silk</td><td>2323</td><td>7599.0</td><td>[0,0,0,1,15,39,84,117,133,147,145,165,155,113,141,113,108,90,78,70,67,76,53,49,49,315]</td></tr><tr><th>4</th><td>Android Browser</td><td>1752</td><td>11886.0</td><td>[0,1,0,0,0,3,17,29,43,50,66,63,76,65,80,46,64,55,52,48,44,41,52,46,32,779]</td></tr><tr><th>5</th><td>BlackBerry WebKit</td><td>43</td><td>8684.0</td><td>[0,0,0,0,1,1,1,0,2,1,2,1,3,3,4,1,3,0,2,1,0,2,2,0,1,12]</td></tr><tr><th>6</th><td>Chrome</td><td>53086</td><td>3129.0</td><td>[65,2116,6133,7217,6356,5033,3894,3216,2735,2225,1788,1558,1398,1164,993,872,711,606,563,464,437,342,322,275,246,2357]</td></tr><tr><th>7</th><td>Chrome Frame</td><td>37</td><td>4067.0</td><td>[0,0,1,4,4,5,3,4,4,2,1,0,1,0,2,0,1,1,0,1,0,1,0,0,0,2]</td></tr><tr><th>8</th><td>Chrome Mobile</td><td>31477</td><td>6776.0</td><td>[0,1,23,60,230,594,1106,1698,2232,2663,2709,2494,2268,2082,1793,1607,1356,1140,997,835,671,612,504,402,369,3031]</td></tr><tr><th>9</th><td>Chrome Mobile iOS</td><td>1987</td><td>4257.0</td><td>[0,22,86,184,182,198,179,132,107,101,82,69,60,48,42,36,37,39,39,37,26,21,18,31,17,194]</td></tr><tr><th>10</th><td>Chromium</td><td>5</td><td>2772.0</td><td>[0,0,0,0,2,1,0,0,0,1,0,0,0,0,0,1,0,0,0,0,0,0,0,0,0,0]</td></tr><tr><th>11</th><td>Edge</td><td>6150</td><td>3187.0</td><td>[3,151,632,843,800,633,513,434,353,272,225,182,149,122,104,88,72,74,54,42,62,39,43,26,24,210]</td></tr><tr><th>12</th><td>Firefox</td><td>11984</td><td>3412.0</td><td>[14,372,1051,1392,1398,1255,1085,832,803,575,548,383,322,267,220,156,148,115,134,99,74,82,64,38,52,505]</td></tr><tr><th>13</th><td>Firefox Alpha</td><td>1</td><td>3747.0</td><td>[0,0,0,0,0,0,0,1,0,0,0,0,0,0,0,0,0,0,0,0,0,0,0,0,0,0]</td></tr><tr><th>14</th><td>Firefox Beta</td><td>9</td><td>10278.0</td><td>[0,0,0,0,0,0,0,0,1,0,0,1,0,0,0,1,0,0,1,1,0,0,0,0,1,3]</td></tr><tr><th>15</th><td>Firefox Mobile</td><td>204</td><td>8456.0</td><td>[0,0,0,0,2,4,5,8,8,9,12,13,11,13,6,10,9,10,13,7,6,10,8,7,3,30]</td></tr><tr><th>16</th><td>Halebot</td><td>10</td><td>4654.0</td><td>[0,0,0,2,1,1,0,0,2,1,0,0,1,0,0,0,0,2,0,0,0,0,0,0,0,0]</td></tr><tr><th>17</th><td>IE</td><td>35360</td><td>2862.0</td><td>[30,1305,4636,5553,4614,3543,2714,2141,1811,1395,1151,971,782,688,581,412,350,335,274,253,201,186,156,106,93,1079]</td></tr><tr><th>18</th><td>IE Mobile</td><td>226</td><td>6265.5</td><td>[0,0,0,0,0,2,6,10,15,18,34,30,14,15,10,6,13,5,7,2,4,4,1,2,1,27]</td></tr><tr><th>19</th><td>Iron</td><td>10</td><td>2738.0</td><td>[0,0,0,1,3,3,0,1,2,0,0,0,0,0,0,0,0,0,0,0,0,0,0,0,0,0]</td></tr><tr><th>20</th><td>Maxthon</td><td>6</td><td>3961.0</td><td>[0,0,0,0,1,1,1,0,1,0,0,0,0,1,0,0,0,0,0,0,0,0,0,0,1,0]</td></tr><tr><th>21</th><td>Mobile Safari</td><td>87775</td><td>4147.0</td><td>[32,1018,4282,7212,8901,9018,7763,6621,5638,4906,4083,3472,2948,2340,2165,1890,1706,1601,1398,1157,1018,937,805,704,597,5562]</td></tr><tr><th>22</th><td>Nokia Services (WAP) Browser</td><td>1</td><td>11402.0</td><td>[0,0,0,0,0,0,0,0,0,0,0,0,0,0,0,0,0,0,0,0,0,1,0,0,0,0]</td></tr><tr><th>23</th><td>Opera</td><td>123</td><td>12211.0</td><td>[0,0,1,2,2,4,9,6,3,5,4,4,4,1,4,1,4,1,2,0,1,0,3,2,1,59]</td></tr><tr><th>24</th><td>Opera Coast</td><td>3</td><td>6091.0</td><td>[0,0,0,0,0,0,0,1,0,0,0,1,0,0,0,0,1,0,0,0,0,0,0,0,0,0]</td></tr><tr><th>25</th><td>Opera Mini</td><td>7</td><td>3835.0</td><td>[0,0,0,1,1,0,1,2,0,0,2,0,0,0,0,0,0,0,0,0,0,0,0,0,0,0]</td></tr><tr><th>26</th><td>Opera Mobile</td><td>9</td><td>12235.0</td><td>[0,0,0,0,0,0,0,0,0,0,0,0,0,1,1,0,0,0,0,1,0,0,1,2,0,3]</td></tr><tr><th>27</th><td>Other</td><td>86</td><td>4855.5</td><td>[0,0,0,3,3,5,7,8,15,14,4,4,4,1,1,1,1,1,1,1,1,1,1,1,0,8]</td></tr><tr><th>28</th><td>Pale Moon (Firefox Variant)</td><td>18</td><td>4797.5</td><td>[0,0,0,1,1,2,0,4,1,1,2,4,0,1,0,0,0,1,0,0,0,0,0,0,0,0]</td></tr><tr><th>29</th><td>PhantomJS</td><td>78</td><td>1660.5</td><td>[0,7,27,26,10,7,1,0,0,0,0,0,0,0,0,0,0,0,0,0,0,0,0,0,0,0]</td></tr><tr><th>30</th><td>Puffin</td><td>5</td><td>922.0</td><td>[0,4,0,0,0,1,0,0,0,0,0,0,0,0,0,0,0,0,0,0,0,0,0,0,0,0]</td></tr><tr><th>&vellip;</th><td>&vellip;</td><td>&vellip;</td><td>&vellip;</td><td>&vellip;</td></tr></table>"
      ],
      "text/plain": [
       "36x4 DataFrames.DataFrame\n",
       "| Row | user_agent_family             | count | median  |\n",
       "|-----|-------------------------------|-------|---------|\n",
       "| 1   | \"(Unknown)\"                   | 73    | 3740.0  |\n",
       "| 2   | \"AOL\"                         | 15    | 4857.0  |\n",
       "| 3   | \"Amazon Silk\"                 | 2323  | 7599.0  |\n",
       "| 4   | \"Android Browser\"             | 1752  | 11886.0 |\n",
       "| 5   | \"BlackBerry WebKit\"           | 43    | 8684.0  |\n",
       "| 6   | \"Chrome\"                      | 53086 | 3129.0  |\n",
       "| 7   | \"Chrome Frame\"                | 37    | 4067.0  |\n",
       "| 8   | \"Chrome Mobile\"               | 31477 | 6776.0  |\n",
       "| 9   | \"Chrome Mobile iOS\"           | 1987  | 4257.0  |\n",
       "| 10  | \"Chromium\"                    | 5     | 2772.0  |\n",
       "| 11  | \"Edge\"                        | 6150  | 3187.0  |\n",
       "⋮\n",
       "| 25  | \"Opera Mini\"                  | 7     | 3835.0  |\n",
       "| 26  | \"Opera Mobile\"                | 9     | 12235.0 |\n",
       "| 27  | \"Other\"                       | 86    | 4855.5  |\n",
       "| 28  | \"Pale Moon (Firefox Variant)\" | 18    | 4797.5  |\n",
       "| 29  | \"PhantomJS\"                   | 78    | 1660.5  |\n",
       "| 30  | \"Puffin\"                      | 5     | 922.0   |\n",
       "| 31  | \"Safari\"                      | 17116 | 2605.0  |\n",
       "| 32  | \"SeaMonkey\"                   | 1     | 1996.0  |\n",
       "| 33  | \"UC Browser\"                  | 3     | 34914.0 |\n",
       "| 34  | \"Yandex Browser\"              | 13    | 8513.0  |\n",
       "| 35  | \"moatbot\"                     | 2     | 4904.0  |\n",
       "| 36  | \"webOS Browser\"               | 2     | 17555.5 |\n",
       "\n",
       "| Row | hist                                                                                                                     |\n",
       "|-----|--------------------------------------------------------------------------------------------------------------------------|\n",
       "| 1   | \"[0,1,8,9,6,5,7,5,0,2,1,2,4,0,0,3,1,5,3,1,2,2,0,1,0,5]\"                                                                  |\n",
       "| 2   | \"[0,0,1,1,1,1,1,0,2,2,0,1,0,1,2,0,0,0,0,0,0,0,0,0,0,2]\"                                                                  |\n",
       "| 3   | \"[0,0,0,1,15,39,84,117,133,147,145,165,155,113,141,113,108,90,78,70,67,76,53,49,49,315]\"                                 |\n",
       "| 4   | \"[0,1,0,0,0,3,17,29,43,50,66,63,76,65,80,46,64,55,52,48,44,41,52,46,32,779]\"                                             |\n",
       "| 5   | \"[0,0,0,0,1,1,1,0,2,1,2,1,3,3,4,1,3,0,2,1,0,2,2,0,1,12]\"                                                                 |\n",
       "| 6   | \"[65,2116,6133,7217,6356,5033,3894,3216,2735,2225,1788,1558,1398,1164,993,872,711,606,563,464,437,342,322,275,246,2357]\" |\n",
       "| 7   | \"[0,0,1,4,4,5,3,4,4,2,1,0,1,0,2,0,1,1,0,1,0,1,0,0,0,2]\"                                                                  |\n",
       "| 8   | \"[0,1,23,60,230,594,1106,1698,2232,2663,2709,2494,2268,2082,1793,1607,1356,1140,997,835,671,612,504,402,369,3031]\"       |\n",
       "| 9   | \"[0,22,86,184,182,198,179,132,107,101,82,69,60,48,42,36,37,39,39,37,26,21,18,31,17,194]\"                                 |\n",
       "| 10  | \"[0,0,0,0,2,1,0,0,0,1,0,0,0,0,0,1,0,0,0,0,0,0,0,0,0,0]\"                                                                  |\n",
       "| 11  | \"[3,151,632,843,800,633,513,434,353,272,225,182,149,122,104,88,72,74,54,42,62,39,43,26,24,210]\"                          |\n",
       "⋮\n",
       "| 25  | \"[0,0,0,1,1,0,1,2,0,0,2,0,0,0,0,0,0,0,0,0,0,0,0,0,0,0]\"                                                                  |\n",
       "| 26  | \"[0,0,0,0,0,0,0,0,0,0,0,0,0,1,1,0,0,0,0,1,0,0,1,2,0,3]\"                                                                  |\n",
       "| 27  | \"[0,0,0,3,3,5,7,8,15,14,4,4,4,1,1,1,1,1,1,1,1,1,1,1,0,8]\"                                                                |\n",
       "| 28  | \"[0,0,0,1,1,2,0,4,1,1,2,4,0,1,0,0,0,1,0,0,0,0,0,0,0,0]\"                                                                  |\n",
       "| 29  | \"[0,7,27,26,10,7,1,0,0,0,0,0,0,0,0,0,0,0,0,0,0,0,0,0,0,0]\"                                                               |\n",
       "| 30  | \"[0,4,0,0,0,1,0,0,0,0,0,0,0,0,0,0,0,0,0,0,0,0,0,0,0,0]\"                                                                  |\n",
       "| 31  | \"[108,1339,2476,2686,2085,1532,1262,1032,875,598,424,385,366,310,199,180,171,122,110,74,55,72,65,36,42,512]\"             |\n",
       "| 32  | \"[0,0,0,1,0,0,0,0,0,0,0,0,0,0,0,0,0,0,0,0,0,0,0,0,0,0]\"                                                                  |\n",
       "| 33  | \"[0,0,0,0,0,0,0,0,0,0,0,0,0,0,0,0,0,0,0,0,0,0,0,0,0,3]\"                                                                  |\n",
       "| 34  | \"[0,0,0,0,0,0,3,0,0,1,1,0,0,0,1,0,1,1,0,2,0,0,0,1,0,2]\"                                                                  |\n",
       "| 35  | \"[0,0,0,0,1,0,0,0,0,0,0,0,0,1,0,0,0,0,0,0,0,0,0,0,0,0]\"                                                                  |\n",
       "| 36  | \"[0,0,0,0,0,0,0,0,0,0,0,0,0,0,0,0,0,0,0,0,0,0,0,0,0,2]\"                                                                  |"
      ]
     },
     "execution_count": 27,
     "metadata": {},
     "output_type": "execute_result"
    }
   ],
   "source": [
    "by(\n",
    "    df,\n",
    "    :user_agent_family, \n",
    "    rows -> DataFrame(\n",
    "        count = size(rows, 1),\n",
    "        median = median(rows[:timers_t_done]),\n",
    "        hist = JSON.json(hist(rows[:timers_t_done], thresholds)[2])\n",
    "    )\n",
    ")"
   ]
  },
  {
   "cell_type": "markdown",
   "metadata": {},
   "source": [
    "### Copy the JSON to a JavaScript file when first testing D3 code\n",
    "\n",
    "It's easier to start your D3 experimentation with a standalone file rather than within the IJulia interface.  A simpler dev setup is easier to debug."
   ]
  },
  {
   "cell_type": "code",
   "execution_count": 28,
   "metadata": {
    "collapsed": false
   },
   "outputs": [
    {
     "name": "stdout",
     "output_type": "stream",
     "text": [
      "Histogram:\n",
      "[252,6337,19357,25199,24620,21891,18662,16302,14786,12989,11284,9803,8566,7237,6349,5424,4757,4204,3728,3096,2669,2429,2098,1729,1529,14702]\n",
      "\n",
      "Thresholds:\n",
      "[8,535,1062,1589,2116,2643,3170,3698,4225,4752,5279,5806,6333,6860,7387,7914,8441,8968,9495,10023,10550,11077,11604,12131,12658,13185,2536087]\n"
     ]
    }
   ],
   "source": [
    "println(\"Histogram:\\n\", JSON.json(hist_global))\n",
    "println()\n",
    "println(\"Thresholds:\\n\", JSON.json(thresholds))"
   ]
  },
  {
   "cell_type": "code",
   "execution_count": null,
   "metadata": {
    "collapsed": true
   },
   "outputs": [],
   "source": []
  }
 ],
 "metadata": {
  "kernelspec": {
   "display_name": "Julia 0.4.3",
   "language": "julia",
   "name": "julia-0.4"
  },
  "language_info": {
   "file_extension": ".jl",
   "mimetype": "application/julia",
   "name": "julia",
   "version": "0.4.3"
  }
 },
 "nbformat": 4,
 "nbformat_minor": 0
}
