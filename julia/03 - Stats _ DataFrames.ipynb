{
 "cells": [
  {
   "cell_type": "code",
   "execution_count": 2,
   "metadata": {
    "collapsed": true
   },
   "outputs": [],
   "source": [
    "using DataFrames"
   ]
  },
  {
   "cell_type": "code",
   "execution_count": 3,
   "metadata": {
    "collapsed": false
   },
   "outputs": [],
   "source": [
    "df = readtable(\"data.csv\");"
   ]
  },
  {
   "cell_type": "code",
   "execution_count": 4,
   "metadata": {
    "collapsed": false
   },
   "outputs": [
    {
     "data": {
      "text/plain": [
       "(9998,39)"
      ]
     },
     "execution_count": 4,
     "metadata": {},
     "output_type": "execute_result"
    }
   ],
   "source": [
    "size(df)"
   ]
  },
  {
   "cell_type": "code",
   "execution_count": 5,
   "metadata": {
    "collapsed": false
   },
   "outputs": [
    {
     "data": {
      "text/plain": [
       "39-element Array{Symbol,1}:\n",
       " :timestamp           \n",
       " :page_group          \n",
       " :geo_cc              \n",
       " :geo_rg              \n",
       " :geo_city            \n",
       " :geo_org             \n",
       " :geo_netspeed        \n",
       " :user_agent_family   \n",
       " :user_agent_major    \n",
       " :user_agent_os       \n",
       " :user_agent_osversion\n",
       " :user_agent_model    \n",
       " :referrer            \n",
       " ⋮                    \n",
       " :dt_year             \n",
       " :dt_month            \n",
       " :dt_week             \n",
       " :dt_day              \n",
       " :dt_hour             \n",
       " :dt_6hour            \n",
       " :dt_12hour           \n",
       " :dt_minute           \n",
       " :dt_5min             \n",
       " :dt_15min            \n",
       " :dt_20min            \n",
       " :dt_30min            "
      ]
     },
     "execution_count": 5,
     "metadata": {},
     "output_type": "execute_result"
    }
   ],
   "source": [
    "names(df)"
   ]
  },
  {
   "cell_type": "code",
   "execution_count": 6,
   "metadata": {
    "collapsed": false
   },
   "outputs": [
    {
     "data": {
      "text/plain": [
       "9998-element DataArray{Int64,1}:\n",
       "  5568\n",
       "  7853\n",
       "  2662\n",
       "  1605\n",
       "  6674\n",
       "  2289\n",
       " 11595\n",
       "  5019\n",
       " 31749\n",
       "  9041\n",
       "  4844\n",
       " 14059\n",
       "  7482\n",
       "     ⋮\n",
       "   732\n",
       "  3383\n",
       "  3070\n",
       " 26517\n",
       "  9474\n",
       "  6867\n",
       "  4547\n",
       "   530\n",
       "  1655\n",
       "  7021\n",
       "  4693\n",
       "  1790"
      ]
     },
     "execution_count": 6,
     "metadata": {},
     "output_type": "execute_result"
    }
   ],
   "source": [
    "df[:timers_t_done]"
   ]
  },
  {
   "cell_type": "code",
   "execution_count": 7,
   "metadata": {
    "collapsed": false
   },
   "outputs": [
    {
     "data": {
      "text/plain": [
       "Summary Stats:\n",
       "Mean:         6190.443989\n",
       "Minimum:      15.000000\n",
       "1st Quartile: 3078.250000\n",
       "Median:       4449.500000\n",
       "3rd Quartile: 6639.250000\n",
       "Maximum:      551767.000000\n"
      ]
     },
     "execution_count": 7,
     "metadata": {},
     "output_type": "execute_result"
    }
   ],
   "source": [
    "summarystats(df[:timers_t_done])"
   ]
  },
  {
   "cell_type": "code",
   "execution_count": 8,
   "metadata": {
    "collapsed": false
   },
   "outputs": [
    {
     "data": {
      "text/plain": [
       "(0.0:50000.0:600000.0,[9954,32,5,0,2,3,1,0,0,0,0,1])"
      ]
     },
     "execution_count": 8,
     "metadata": {},
     "output_type": "execute_result"
    }
   ],
   "source": [
    "hist(df[:timers_t_done])"
   ]
  },
  {
   "cell_type": "code",
   "execution_count": 9,
   "metadata": {
    "collapsed": false
   },
   "outputs": [
    {
     "data": {
      "text/plain": [
       "getSymmetricThresholds (generic function with 1 method)"
      ]
     },
     "execution_count": 9,
     "metadata": {},
     "output_type": "execute_result"
    }
   ],
   "source": [
    "# Function to set histogram thresholds after dropping outliers based on IQR\n",
    "function getSymmetricThresholds(results::DataFrame; timer::Symbol=:timers_t_done)\n",
    "    summary = summarystats(results[timer])\n",
    "    fw  = (summary.q75-summary.q25)*1.5\n",
    "\n",
    "    low = round(Int64, max(summary.min, summary.q25-fw))\n",
    "    high = round(Int64, min(summary.max, summary.q75+fw))+1\n",
    "\n",
    "    thresholds::Array{Int64, 1} = []\n",
    "\n",
    "    nthresholds=25\n",
    "\n",
    "    range = high - low\n",
    "\n",
    "    for i in 0:nthresholds-1\n",
    "        push!(thresholds, round(Int64, low + i * range/nthresholds))\n",
    "    end\n",
    "\n",
    "    push!(thresholds, high)\n",
    "    if high < round(Int64, summary.max)\n",
    "        push!(thresholds, round(Int64, summary.max))\n",
    "    end\n",
    "\n",
    "    return thresholds\n",
    "end"
   ]
  },
  {
   "cell_type": "code",
   "execution_count": 10,
   "metadata": {
    "collapsed": false
   },
   "outputs": [
    {
     "data": {
      "text/plain": [
       "27-element Array{Int64,1}:\n",
       "     15\n",
       "    494\n",
       "    972\n",
       "   1451\n",
       "   1930\n",
       "   2408\n",
       "   2887\n",
       "   3366\n",
       "   3844\n",
       "   4323\n",
       "   4802\n",
       "   5280\n",
       "   5759\n",
       "      ⋮\n",
       "   7195\n",
       "   7674\n",
       "   8153\n",
       "   8631\n",
       "   9110\n",
       "   9589\n",
       "  10067\n",
       "  10546\n",
       "  11025\n",
       "  11503\n",
       "  11982\n",
       " 551767"
      ]
     },
     "execution_count": 10,
     "metadata": {},
     "output_type": "execute_result"
    }
   ],
   "source": [
    "thresholds = getSymmetricThresholds(df)"
   ]
  },
  {
   "cell_type": "code",
   "execution_count": 11,
   "metadata": {
    "collapsed": false
   },
   "outputs": [
    {
     "data": {
      "text/plain": [
       "26-element Array{Int64,1}:\n",
       "  36\n",
       "  90\n",
       " 168\n",
       " 370\n",
       " 589\n",
       " 867\n",
       " 951\n",
       " 873\n",
       " 838\n",
       " 752\n",
       " 637\n",
       " 542\n",
       " 479\n",
       " 359\n",
       " 303\n",
       " 291\n",
       " 199\n",
       " 186\n",
       " 146\n",
       " 119\n",
       " 115\n",
       " 100\n",
       "  77\n",
       "  90\n",
       "  67\n",
       " 753"
      ]
     },
     "execution_count": 11,
     "metadata": {},
     "output_type": "execute_result"
    }
   ],
   "source": [
    "hist_global = hist(df[:timers_t_done], thresholds)[2]"
   ]
  },
  {
   "cell_type": "code",
   "execution_count": 12,
   "metadata": {
    "collapsed": false
   },
   "outputs": [],
   "source": [
    "results_OR = df[!isna(df[:geo_rg]) & (df[:geo_rg] .== \"US:: OR\"), :];"
   ]
  },
  {
   "cell_type": "code",
   "execution_count": 13,
   "metadata": {
    "collapsed": false
   },
   "outputs": [
    {
     "data": {
      "text/plain": [
       "26-element Array{Int64,1}:\n",
       "  2\n",
       "  0\n",
       "  0\n",
       "  2\n",
       "  4\n",
       "  6\n",
       "  6\n",
       "  5\n",
       "  6\n",
       "  3\n",
       "  3\n",
       "  7\n",
       "  0\n",
       "  7\n",
       "  6\n",
       "  3\n",
       "  3\n",
       "  1\n",
       "  0\n",
       "  1\n",
       "  2\n",
       "  4\n",
       "  1\n",
       "  1\n",
       "  2\n",
       " 14"
      ]
     },
     "execution_count": 13,
     "metadata": {},
     "output_type": "execute_result"
    }
   ],
   "source": [
    "hist_OR = hist(results_OR[:timers_t_done], thresholds)[2]"
   ]
  },
  {
   "cell_type": "code",
   "execution_count": 14,
   "metadata": {
    "collapsed": false
   },
   "outputs": [
    {
     "data": {
      "text/plain": [
       "0.6190857138462522"
      ]
     },
     "execution_count": 14,
     "metadata": {},
     "output_type": "execute_result"
    }
   ],
   "source": [
    "cor(hist_global, hist_OR)"
   ]
  },
  {
   "cell_type": "code",
   "execution_count": 15,
   "metadata": {
    "collapsed": false
   },
   "outputs": [
    {
     "data": {
      "text/plain": [
       "0.9836407166342165"
      ]
     },
     "execution_count": 15,
     "metadata": {},
     "output_type": "execute_result"
    }
   ],
   "source": [
    "cor(cumsum(hist_global), cumsum(hist_OR))"
   ]
  },
  {
   "cell_type": "markdown",
   "metadata": {},
   "source": [
    "### Copy the JSON to a JavaScript file when first testing D3 code\n",
    "\n",
    "It's easier to start your D3 experimentation with a standalone file rather than within the IJulia interface.  A simpler dev setup is easier to debug."
   ]
  },
  {
   "cell_type": "code",
   "execution_count": 21,
   "metadata": {
    "collapsed": false
   },
   "outputs": [
    {
     "name": "stdout",
     "output_type": "stream",
     "text": [
      "Histogram:\n",
      "[36,90,168,370,589,867,951,873,838,752,637,542,479,359,303,291,199,186,146,119,115,100,77,90,67,753]\n",
      "\n",
      "Thresholds:\n",
      "[15,494,972,1451,1930,2408,2887,3366,3844,4323,4802,5280,5759,6238,6717,7195,7674,8153,8631,9110,9589,10067,10546,11025,11503,11982,551767]\n"
     ]
    }
   ],
   "source": [
    "println(\"Histogram:\\n\", JSON.json(hist_global))\n",
    "println()\n",
    "println(\"Thresholds:\\n\", JSON.json(thresholds))"
   ]
  },
  {
   "cell_type": "code",
   "execution_count": null,
   "metadata": {
    "collapsed": true
   },
   "outputs": [],
   "source": []
  }
 ],
 "metadata": {
  "kernelspec": {
   "display_name": "Julia 0.3.8",
   "language": "julia",
   "name": "julia-0.3"
  },
  "language_info": {
   "name": "julia",
   "version": "0.3.8"
  }
 },
 "nbformat": 4,
 "nbformat_minor": 0
}
