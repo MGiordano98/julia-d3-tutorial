{
 "cells": [
  {
   "cell_type": "code",
   "execution_count": 2,
   "metadata": {
    "collapsed": true
   },
   "outputs": [],
   "source": [
    "using DataFrames"
   ]
  },
  {
   "cell_type": "code",
   "execution_count": 3,
   "metadata": {
    "collapsed": false
   },
   "outputs": [],
   "source": [
    "df = readtable(\"data.csv\");"
   ]
  },
  {
   "cell_type": "markdown",
   "metadata": {},
   "source": [
    "## DataFrames\n",
    "\n",
    "### DataFrame Methods\n",
    "\n",
    "There are various simple methods you can use to inspect a `DataFrame`"
   ]
  },
  {
   "cell_type": "code",
   "execution_count": 4,
   "metadata": {
    "collapsed": false
   },
   "outputs": [
    {
     "data": {
      "text/plain": [
       "(9998,39)"
      ]
     },
     "execution_count": 4,
     "metadata": {},
     "output_type": "execute_result"
    }
   ],
   "source": [
    "size(df)"
   ]
  },
  {
   "cell_type": "code",
   "execution_count": 5,
   "metadata": {
    "collapsed": false
   },
   "outputs": [
    {
     "data": {
      "text/plain": [
       "39-element Array{Symbol,1}:\n",
       " :timestamp           \n",
       " :page_group          \n",
       " :geo_cc              \n",
       " :geo_rg              \n",
       " :geo_city            \n",
       " :geo_org             \n",
       " :geo_netspeed        \n",
       " :user_agent_family   \n",
       " :user_agent_major    \n",
       " :user_agent_os       \n",
       " :user_agent_osversion\n",
       " :user_agent_model    \n",
       " :referrer            \n",
       " ⋮                    \n",
       " :dt_year             \n",
       " :dt_month            \n",
       " :dt_week             \n",
       " :dt_day              \n",
       " :dt_hour             \n",
       " :dt_6hour            \n",
       " :dt_12hour           \n",
       " :dt_minute           \n",
       " :dt_5min             \n",
       " :dt_15min            \n",
       " :dt_20min            \n",
       " :dt_30min            "
      ]
     },
     "execution_count": 5,
     "metadata": {},
     "output_type": "execute_result"
    }
   ],
   "source": [
    "names(df)"
   ]
  },
  {
   "cell_type": "markdown",
   "metadata": {},
   "source": [
    "### Each column of a DataFrame is a DataArray\n",
    "\n",
    "You can reference a column using the column name as a `Symbol` subscript.  A `DataArray` is just a regular array that can contain `NA`, which is Juliaspeak for `NULL`."
   ]
  },
  {
   "cell_type": "code",
   "execution_count": 6,
   "metadata": {
    "collapsed": false
   },
   "outputs": [
    {
     "data": {
      "text/plain": [
       "9998-element DataArray{Int64,1}:\n",
       "  5568\n",
       "  7853\n",
       "  2662\n",
       "  1605\n",
       "  6674\n",
       "  2289\n",
       " 11595\n",
       "  5019\n",
       " 31749\n",
       "  9041\n",
       "  4844\n",
       " 14059\n",
       "  7482\n",
       "     ⋮\n",
       "   732\n",
       "  3383\n",
       "  3070\n",
       " 26517\n",
       "  9474\n",
       "  6867\n",
       "  4547\n",
       "   530\n",
       "  1655\n",
       "  7021\n",
       "  4693\n",
       "  1790"
      ]
     },
     "execution_count": 6,
     "metadata": {},
     "output_type": "execute_result"
    }
   ],
   "source": [
    "df[:timers_t_done]"
   ]
  },
  {
   "cell_type": "code",
   "execution_count": 7,
   "metadata": {
    "collapsed": false
   },
   "outputs": [
    {
     "data": {
      "text/plain": [
       "11-element DataArray{Int64,1}:\n",
       " 44053\n",
       "  2164\n",
       "  1845\n",
       "  5315\n",
       "  3701\n",
       "  7582\n",
       "  2754\n",
       "   973\n",
       "  2914\n",
       " 11527\n",
       "  7947"
      ]
     },
     "execution_count": 7,
     "metadata": {},
     "output_type": "execute_result"
    }
   ],
   "source": [
    "df[30:40, :timers_t_done]"
   ]
  },
  {
   "cell_type": "code",
   "execution_count": 11,
   "metadata": {
    "collapsed": false
   },
   "outputs": [
    {
     "data": {
      "text/html": [
       "<table class=\"data-frame\"><tr><th></th><th>timestamp</th><th>geo_cc</th><th>geo_netspeed</th><th>user_agent_family</th><th>timers_t_done</th></tr><tr><th>1</th><td>1409608800725</td><td>US</td><td>Cellular</td><td>Mobile Safari</td><td>44053</td></tr><tr><th>2</th><td>1409608800738</td><td>US</td><td>Cable/DSL</td><td>Firefox</td><td>2164</td></tr><tr><th>3</th><td>1409608800767</td><td>US</td><td>Cable/DSL</td><td>Chrome</td><td>1845</td></tr><tr><th>4</th><td>1409608800771</td><td>US</td><td>Cable/DSL</td><td>Chrome</td><td>5315</td></tr><tr><th>5</th><td>1409608800782</td><td>US</td><td>Cable/DSL</td><td>Chrome</td><td>3701</td></tr><tr><th>6</th><td>1409608800814</td><td>US</td><td>Cable/DSL</td><td>IE</td><td>7582</td></tr><tr><th>7</th><td>1409608800817</td><td>US</td><td>Cable/DSL</td><td>Chrome</td><td>2754</td></tr><tr><th>8</th><td>1409608800872</td><td>US</td><td>Cable/DSL</td><td>IE</td><td>973</td></tr><tr><th>9</th><td>1409608800930</td><td>US</td><td>Cable/DSL</td><td>Safari</td><td>2914</td></tr><tr><th>10</th><td>1409608800956</td><td>US</td><td>Cable/DSL</td><td>IE</td><td>11527</td></tr><tr><th>11</th><td>1409608800978</td><td>US</td><td>Cable/DSL</td><td>IE</td><td>7947</td></tr></table>"
      ],
      "text/plain": [
       "11x5 DataFrame\n",
       "| Row | timestamp     | geo_cc | geo_netspeed | user_agent_family |\n",
       "|-----|---------------|--------|--------------|-------------------|\n",
       "| 1   | 1409608800725 | \"US\"   | \"Cellular\"   | \"Mobile Safari\"   |\n",
       "| 2   | 1409608800738 | \"US\"   | \"Cable/DSL\"  | \"Firefox\"         |\n",
       "| 3   | 1409608800767 | \"US\"   | \"Cable/DSL\"  | \"Chrome\"          |\n",
       "| 4   | 1409608800771 | \"US\"   | \"Cable/DSL\"  | \"Chrome\"          |\n",
       "| 5   | 1409608800782 | \"US\"   | \"Cable/DSL\"  | \"Chrome\"          |\n",
       "| 6   | 1409608800814 | \"US\"   | \"Cable/DSL\"  | \"IE\"              |\n",
       "| 7   | 1409608800817 | \"US\"   | \"Cable/DSL\"  | \"Chrome\"          |\n",
       "| 8   | 1409608800872 | \"US\"   | \"Cable/DSL\"  | \"IE\"              |\n",
       "| 9   | 1409608800930 | \"US\"   | \"Cable/DSL\"  | \"Safari\"          |\n",
       "| 10  | 1409608800956 | \"US\"   | \"Cable/DSL\"  | \"IE\"              |\n",
       "| 11  | 1409608800978 | \"US\"   | \"Cable/DSL\"  | \"IE\"              |\n",
       "\n",
       "| Row | timers_t_done |\n",
       "|-----|---------------|\n",
       "| 1   | 44053         |\n",
       "| 2   | 2164          |\n",
       "| 3   | 1845          |\n",
       "| 4   | 5315          |\n",
       "| 5   | 3701          |\n",
       "| 6   | 7582          |\n",
       "| 7   | 2754          |\n",
       "| 8   | 973           |\n",
       "| 9   | 2914          |\n",
       "| 10  | 11527         |\n",
       "| 11  | 7947          |"
      ]
     },
     "execution_count": 11,
     "metadata": {},
     "output_type": "execute_result"
    }
   ],
   "source": [
    "df[30:40, [:timestamp, :geo_cc, :geo_netspeed, :user_agent_family, :timers_t_done]]"
   ]
  },
  {
   "cell_type": "markdown",
   "metadata": {},
   "source": [
    "## Stats on DataFrames\n",
    "\n",
    "Most Julia stats functions run on `AbstractArray`, which is the base type for `Array` as well as `DataArray`, so you can run them on any column of a `DataFrame` that contains numbers. You will probably need to remove `NA`s first using the `dropna` function.\n",
    "\n",
    "Our test dataset doesn't contain any `NA` values for the `timers_t_done` column, so we're safe."
   ]
  },
  {
   "cell_type": "code",
   "execution_count": 7,
   "metadata": {
    "collapsed": false
   },
   "outputs": [
    {
     "data": {
      "text/plain": [
       "Summary Stats:\n",
       "Mean:         6190.443989\n",
       "Minimum:      15.000000\n",
       "1st Quartile: 3078.250000\n",
       "Median:       4449.500000\n",
       "3rd Quartile: 6639.250000\n",
       "Maximum:      551767.000000\n"
      ]
     },
     "execution_count": 7,
     "metadata": {},
     "output_type": "execute_result"
    }
   ],
   "source": [
    "summarystats(df[:timers_t_done])"
   ]
  },
  {
   "cell_type": "markdown",
   "metadata": {},
   "source": [
    "## Histograms\n",
    "\n",
    "The `hist` function will by default split the dataset into equal sized buckets based on the data's range.  This may not always be what you want, so you can pass in a list of thresholds as the second parameter.\n",
    "\n",
    "The `hist` function returns a tuple.  The first element is the thresholds used, which might be a `Range` object or an `Array`.  The second element is the list of bucket frequencies."
   ]
  },
  {
   "cell_type": "code",
   "execution_count": 8,
   "metadata": {
    "collapsed": false
   },
   "outputs": [
    {
     "data": {
      "text/plain": [
       "(0.0:50000.0:600000.0,[9954,32,5,0,2,3,1,0,0,0,0,1])"
      ]
     },
     "execution_count": 8,
     "metadata": {},
     "output_type": "execute_result"
    }
   ],
   "source": [
    "hist(df[:timers_t_done])"
   ]
  },
  {
   "cell_type": "markdown",
   "metadata": {},
   "source": [
    "### Creating thresholds based on the data\n",
    "\n",
    "We could use static thresholds, but that wouldn't adapt to different data sets.  In this case, we develop a Julia function that determines thresholds based on the dataset.\n",
    "\n",
    "Rather than divide the entire range into a fixed set of buckets, we divide the Inter-Quartile Range.  This has the advantage of excluding outliers from the basic range.  We then include outliers in their own buckets, one for the low bound and one for the high bound.\n",
    "\n",
    "This is very similar to a box and whiskers plot."
   ]
  },
  {
   "cell_type": "code",
   "execution_count": 17,
   "metadata": {
    "collapsed": false
   },
   "outputs": [
    {
     "data": {
      "text/plain": [
       "getSymmetricThresholds (generic function with 1 method)"
      ]
     },
     "execution_count": 17,
     "metadata": {},
     "output_type": "execute_result"
    }
   ],
   "source": [
    "# Function to set histogram thresholds after dropping outliers based on IQR\n",
    "function getSymmetricThresholds(results::DataFrame; timer::Symbol=:timers_t_done)\n",
    "    summary = summarystats(results[timer])\n",
    "    fw  = (summary.q75-summary.q25)*1.5\n",
    "\n",
    "    low = round(Int64, max(summary.min, summary.q25-fw))\n",
    "    high = round(Int64, min(summary.max, summary.q75+fw))+1\n",
    "\n",
    "    thresholds::Array{Int64, 1} = []\n",
    "\n",
    "    nthresholds=25\n",
    "\n",
    "    range = high - low\n",
    "\n",
    "    for i in 0:nthresholds-1\n",
    "        push!(thresholds, round(Int64, low + i * range/nthresholds))\n",
    "    end\n",
    "\n",
    "    push!(thresholds, high)\n",
    "    if high < round(Int64, summary.max)\n",
    "        push!(thresholds, round(Int64, summary.max))\n",
    "    end\n",
    "\n",
    "    return thresholds\n",
    "end"
   ]
  },
  {
   "cell_type": "markdown",
   "metadata": {},
   "source": [
    "#### Julia Functions\n",
    "\n",
    "Notice that Julia functions are declared using the `function` keyword.  Function parameters may have types attached to them, this is optional, and mainly useful when you use overload function names.\n",
    "\n",
    "Functions may have optional parameters, a `;` separates required parameters from optional ones.\n",
    "\n",
    "When passing optional parameters to a function, they need to be passed by name, and order doesn't matter.\n",
    "\n",
    "A function typically only returns a single value, though that value may be a tuple of multiple objects.  The caller can then receive the return value into a single tuple or multiple values enclosed in `()`."
   ]
  },
  {
   "cell_type": "code",
   "execution_count": 18,
   "metadata": {
    "collapsed": false
   },
   "outputs": [
    {
     "data": {
      "text/plain": [
       "27-element Array{Int64,1}:\n",
       "     15\n",
       "    494\n",
       "    972\n",
       "   1451\n",
       "   1930\n",
       "   2408\n",
       "   2887\n",
       "   3366\n",
       "   3844\n",
       "   4323\n",
       "   4802\n",
       "   5280\n",
       "   5759\n",
       "      ⋮\n",
       "   7195\n",
       "   7674\n",
       "   8153\n",
       "   8631\n",
       "   9110\n",
       "   9589\n",
       "  10067\n",
       "  10546\n",
       "  11025\n",
       "  11503\n",
       "  11982\n",
       " 551767"
      ]
     },
     "execution_count": 18,
     "metadata": {},
     "output_type": "execute_result"
    }
   ],
   "source": [
    "thresholds = getSymmetricThresholds(df)"
   ]
  },
  {
   "cell_type": "markdown",
   "metadata": {},
   "source": [
    "Running the `hist` function using our new thresholds gets us much better granularity into the data."
   ]
  },
  {
   "cell_type": "code",
   "execution_count": 11,
   "metadata": {
    "collapsed": false
   },
   "outputs": [
    {
     "data": {
      "text/plain": [
       "26-element Array{Int64,1}:\n",
       "  36\n",
       "  90\n",
       " 168\n",
       " 370\n",
       " 589\n",
       " 867\n",
       " 951\n",
       " 873\n",
       " 838\n",
       " 752\n",
       " 637\n",
       " 542\n",
       " 479\n",
       " 359\n",
       " 303\n",
       " 291\n",
       " 199\n",
       " 186\n",
       " 146\n",
       " 119\n",
       " 115\n",
       " 100\n",
       "  77\n",
       "  90\n",
       "  67\n",
       " 753"
      ]
     },
     "execution_count": 11,
     "metadata": {},
     "output_type": "execute_result"
    }
   ],
   "source": [
    "hist_global = hist(df[:timers_t_done], thresholds)[2]"
   ]
  },
  {
   "cell_type": "markdown",
   "metadata": {},
   "source": [
    "## Filtering DataFrames\n",
    "\n",
    "We can also filter a `DataFrame` on the value of one or more fields.  In the following example, we filter on all `:geo_rg` that are not `NA` and equal to `US:: OR`."
   ]
  },
  {
   "cell_type": "code",
   "execution_count": null,
   "metadata": {
    "collapsed": true
   },
   "outputs": [],
   "source": [
    "results_OR = df[!isna(df[:geo_rg]) & (df[:geo_rg] .== \"US:: OR\"), :];"
   ]
  },
  {
   "cell_type": "code",
   "execution_count": 13,
   "metadata": {
    "collapsed": false
   },
   "outputs": [
    {
     "data": {
      "text/plain": [
       "26-element Array{Int64,1}:\n",
       "  2\n",
       "  0\n",
       "  0\n",
       "  2\n",
       "  4\n",
       "  6\n",
       "  6\n",
       "  5\n",
       "  6\n",
       "  3\n",
       "  3\n",
       "  7\n",
       "  0\n",
       "  7\n",
       "  6\n",
       "  3\n",
       "  3\n",
       "  1\n",
       "  0\n",
       "  1\n",
       "  2\n",
       "  4\n",
       "  1\n",
       "  1\n",
       "  2\n",
       " 14"
      ]
     },
     "execution_count": 13,
     "metadata": {},
     "output_type": "execute_result"
    }
   ],
   "source": [
    "hist_OR = hist(results_OR[:timers_t_done], thresholds)[2]"
   ]
  },
  {
   "cell_type": "markdown",
   "metadata": {},
   "source": [
    "### Statistical Correlation\n",
    "\n",
    "The `cor` function lets us run a correlation between the two histograms that we have"
   ]
  },
  {
   "cell_type": "code",
   "execution_count": 14,
   "metadata": {
    "collapsed": false
   },
   "outputs": [
    {
     "data": {
      "text/plain": [
       "0.6190857138462522"
      ]
     },
     "execution_count": 14,
     "metadata": {},
     "output_type": "execute_result"
    }
   ],
   "source": [
    "cor(hist_global, hist_OR)"
   ]
  },
  {
   "cell_type": "markdown",
   "metadata": {},
   "source": [
    "We could also run `cumsum` to generate the `CDF` from the histogram and correlate those values."
   ]
  },
  {
   "cell_type": "code",
   "execution_count": 15,
   "metadata": {
    "collapsed": false
   },
   "outputs": [
    {
     "data": {
      "text/plain": [
       "0.9836407166342165"
      ]
     },
     "execution_count": 15,
     "metadata": {},
     "output_type": "execute_result"
    }
   ],
   "source": [
    "cor(cumsum(hist_global), cumsum(hist_OR))"
   ]
  },
  {
   "cell_type": "markdown",
   "metadata": {},
   "source": [
    "## Splitting/Grouping a DataFrame\n",
    "\n",
    "Use the `by` function to run an aggregation on a DataFrame grouped by one or more columns"
   ]
  },
  {
   "cell_type": "code",
   "execution_count": 23,
   "metadata": {
    "collapsed": false
   },
   "outputs": [
    {
     "data": {
      "text/html": [
       "<table class=\"data-frame\"><tr><th></th><th>user_agent_family</th><th>x1</th></tr><tr><th>1</th><td>AOL</td><td>7119.0</td></tr><tr><th>2</th><td>Android Browser</td><td>14062.0</td></tr><tr><th>3</th><td>BlackBerry WebKit</td><td>11658.0</td></tr><tr><th>4</th><td>Chrome</td><td>3961.0</td></tr><tr><th>5</th><td>Chrome Mobile</td><td>8059.0</td></tr><tr><th>6</th><td>Chrome Mobile iOS</td><td>8589.0</td></tr><tr><th>7</th><td>Firefox</td><td>4978.0</td></tr><tr><th>8</th><td>IE</td><td>5047.0</td></tr><tr><th>9</th><td>IE Mobile</td><td>14156.0</td></tr><tr><th>10</th><td>Iceweasel</td><td>5657.0</td></tr><tr><th>11</th><td>Mobile Safari</td><td>5479.0</td></tr><tr><th>12</th><td>Opera</td><td>5841.0</td></tr><tr><th>13</th><td>Pale Moon (Firefox Variant)</td><td>6097.0</td></tr><tr><th>14</th><td>Safari</td><td>3574.5</td></tr></table>"
      ],
      "text/plain": [
       "14x2 DataFrame\n",
       "| Row | user_agent_family             | x1      |\n",
       "|-----|-------------------------------|---------|\n",
       "| 1   | \"AOL\"                         | 7119.0  |\n",
       "| 2   | \"Android Browser\"             | 14062.0 |\n",
       "| 3   | \"BlackBerry WebKit\"           | 11658.0 |\n",
       "| 4   | \"Chrome\"                      | 3961.0  |\n",
       "| 5   | \"Chrome Mobile\"               | 8059.0  |\n",
       "| 6   | \"Chrome Mobile iOS\"           | 8589.0  |\n",
       "| 7   | \"Firefox\"                     | 4978.0  |\n",
       "| 8   | \"IE\"                          | 5047.0  |\n",
       "| 9   | \"IE Mobile\"                   | 14156.0 |\n",
       "| 10  | \"Iceweasel\"                   | 5657.0  |\n",
       "| 11  | \"Mobile Safari\"               | 5479.0  |\n",
       "| 12  | \"Opera\"                       | 5841.0  |\n",
       "| 13  | \"Pale Moon (Firefox Variant)\" | 6097.0  |\n",
       "| 14  | \"Safari\"                      | 3574.5  |"
      ]
     },
     "execution_count": 23,
     "metadata": {},
     "output_type": "execute_result"
    }
   ],
   "source": [
    "by(df, :user_agent_family, rows -> median(rows[:timers_t_done]))"
   ]
  },
  {
   "cell_type": "markdown",
   "metadata": {},
   "source": [
    "### Problems if the aggregation function returns an array\n",
    "\n",
    "If the aggregation function returns an array, like the `hist` function does, then we'll actually end up with one row per array element.  Instead we need to serialize the array to a string or create a custom data type that encapsulates the array.  The string method is easier albeit a little slower, but if we're going to export our data to JavaScript, we may need to do this anyway."
   ]
  },
  {
   "cell_type": "code",
   "execution_count": 28,
   "metadata": {
    "collapsed": false
   },
   "outputs": [
    {
     "data": {
      "text/html": [
       "<table class=\"data-frame\"><tr><th></th><th>user_agent_family</th><th>count</th><th>median</th><th>hist</th></tr><tr><th>1</th><td>AOL</td><td>5</td><td>7119.0</td><td>[0,0,0,0,0,0,0,1,0,0,0,1,0,0,1,0,0,1,1,0,0,0,0,0,0,0]</td></tr><tr><th>2</th><td>Android Browser</td><td>32</td><td>14062.0</td><td>[0,0,0,0,1,0,0,0,1,1,1,2,0,0,1,0,0,2,1,0,1,1,0,0,0,20]</td></tr><tr><th>3</th><td>BlackBerry WebKit</td><td>3</td><td>11658.0</td><td>[0,0,0,0,0,0,0,0,0,0,0,0,0,0,0,0,0,1,0,0,0,0,0,0,1,1]</td></tr><tr><th>4</th><td>Chrome</td><td>3423</td><td>3961.0</td><td>[15,39,81,174,283,367,371,311,309,255,208,161,135,100,89,75,69,52,27,27,28,16,20,21,12,178]</td></tr><tr><th>5</th><td>Chrome Mobile</td><td>57</td><td>8059.0</td><td>[1,0,0,0,0,0,0,1,2,2,1,4,2,0,6,8,2,1,5,1,1,0,3,2,3,12]</td></tr><tr><th>6</th><td>Chrome Mobile iOS</td><td>3</td><td>8589.0</td><td>[0,0,0,0,0,0,0,0,0,0,0,1,0,0,0,0,0,1,0,0,0,0,0,0,0,1]</td></tr><tr><th>7</th><td>Firefox</td><td>1609</td><td>4978.0</td><td>[5,8,17,32,62,95,112,148,153,121,122,93,75,58,61,66,40,33,38,28,21,29,8,19,10,155]</td></tr><tr><th>8</th><td>IE</td><td>3309</td><td>5047.0</td><td>[6,25,34,75,136,234,270,253,243,268,226,214,204,152,122,110,69,68,50,46,54,48,37,37,36,291]</td></tr><tr><th>9</th><td>IE Mobile</td><td>20</td><td>14156.0</td><td>[0,0,0,0,0,0,0,0,0,0,0,0,0,1,0,0,0,0,0,0,2,0,2,2,1,12]</td></tr><tr><th>10</th><td>Iceweasel</td><td>1</td><td>5657.0</td><td>[0,0,0,0,0,0,0,0,0,0,0,1,0,0,0,0,0,0,0,0,0,0,0,0,0,0]</td></tr><tr><th>11</th><td>Mobile Safari</td><td>198</td><td>5479.0</td><td>[0,0,0,2,6,5,10,11,15,18,25,11,19,8,4,8,3,10,6,6,2,2,1,1,1,24]</td></tr><tr><th>12</th><td>Opera</td><td>19</td><td>5841.0</td><td>[0,1,1,2,0,0,0,3,1,0,1,0,3,0,3,0,1,0,1,0,1,0,0,0,0,1]</td></tr><tr><th>13</th><td>Pale Moon (Firefox Variant)</td><td>1</td><td>6097.0</td><td>[0,0,0,0,0,0,0,0,0,0,0,0,1,0,0,0,0,0,0,0,0,0,0,0,0,0]</td></tr><tr><th>14</th><td>Safari</td><td>1318</td><td>3574.5</td><td>[9,17,35,85,101,166,188,145,114,87,53,54,40,40,16,24,15,17,17,11,5,4,6,8,3,58]</td></tr></table>"
      ],
      "text/plain": [
       "14x4 DataFrame\n",
       "| Row | user_agent_family             | count | median  |\n",
       "|-----|-------------------------------|-------|---------|\n",
       "| 1   | \"AOL\"                         | 5     | 7119.0  |\n",
       "| 2   | \"Android Browser\"             | 32    | 14062.0 |\n",
       "| 3   | \"BlackBerry WebKit\"           | 3     | 11658.0 |\n",
       "| 4   | \"Chrome\"                      | 3423  | 3961.0  |\n",
       "| 5   | \"Chrome Mobile\"               | 57    | 8059.0  |\n",
       "| 6   | \"Chrome Mobile iOS\"           | 3     | 8589.0  |\n",
       "| 7   | \"Firefox\"                     | 1609  | 4978.0  |\n",
       "| 8   | \"IE\"                          | 3309  | 5047.0  |\n",
       "| 9   | \"IE Mobile\"                   | 20    | 14156.0 |\n",
       "| 10  | \"Iceweasel\"                   | 1     | 5657.0  |\n",
       "| 11  | \"Mobile Safari\"               | 198   | 5479.0  |\n",
       "| 12  | \"Opera\"                       | 19    | 5841.0  |\n",
       "| 13  | \"Pale Moon (Firefox Variant)\" | 1     | 6097.0  |\n",
       "| 14  | \"Safari\"                      | 1318  | 3574.5  |\n",
       "\n",
       "| Row | hist                                                                                          |\n",
       "|-----|-----------------------------------------------------------------------------------------------|\n",
       "| 1   | \"[0,0,0,0,0,0,0,1,0,0,0,1,0,0,1,0,0,1,1,0,0,0,0,0,0,0]\"                                       |\n",
       "| 2   | \"[0,0,0,0,1,0,0,0,1,1,1,2,0,0,1,0,0,2,1,0,1,1,0,0,0,20]\"                                      |\n",
       "| 3   | \"[0,0,0,0,0,0,0,0,0,0,0,0,0,0,0,0,0,1,0,0,0,0,0,0,1,1]\"                                       |\n",
       "| 4   | \"[15,39,81,174,283,367,371,311,309,255,208,161,135,100,89,75,69,52,27,27,28,16,20,21,12,178]\" |\n",
       "| 5   | \"[1,0,0,0,0,0,0,1,2,2,1,4,2,0,6,8,2,1,5,1,1,0,3,2,3,12]\"                                      |\n",
       "| 6   | \"[0,0,0,0,0,0,0,0,0,0,0,1,0,0,0,0,0,1,0,0,0,0,0,0,0,1]\"                                       |\n",
       "| 7   | \"[5,8,17,32,62,95,112,148,153,121,122,93,75,58,61,66,40,33,38,28,21,29,8,19,10,155]\"          |\n",
       "| 8   | \"[6,25,34,75,136,234,270,253,243,268,226,214,204,152,122,110,69,68,50,46,54,48,37,37,36,291]\" |\n",
       "| 9   | \"[0,0,0,0,0,0,0,0,0,0,0,0,0,1,0,0,0,0,0,0,2,0,2,2,1,12]\"                                      |\n",
       "| 10  | \"[0,0,0,0,0,0,0,0,0,0,0,1,0,0,0,0,0,0,0,0,0,0,0,0,0,0]\"                                       |\n",
       "| 11  | \"[0,0,0,2,6,5,10,11,15,18,25,11,19,8,4,8,3,10,6,6,2,2,1,1,1,24]\"                              |\n",
       "| 12  | \"[0,1,1,2,0,0,0,3,1,0,1,0,3,0,3,0,1,0,1,0,1,0,0,0,0,1]\"                                       |\n",
       "| 13  | \"[0,0,0,0,0,0,0,0,0,0,0,0,1,0,0,0,0,0,0,0,0,0,0,0,0,0]\"                                       |\n",
       "| 14  | \"[9,17,35,85,101,166,188,145,114,87,53,54,40,40,16,24,15,17,17,11,5,4,6,8,3,58]\"              |"
      ]
     },
     "execution_count": 28,
     "metadata": {},
     "output_type": "execute_result"
    }
   ],
   "source": [
    "by(\n",
    "    df,\n",
    "    :user_agent_family, \n",
    "    rows -> DataFrame(\n",
    "        count = size(rows, 1),\n",
    "        median = median(rows[:timers_t_done]),\n",
    "        hist = JSON.json(hist(rows[:timers_t_done], thresholds)[2])\n",
    "    )\n",
    ")"
   ]
  },
  {
   "cell_type": "markdown",
   "metadata": {},
   "source": [
    "### Copy the JSON to a JavaScript file when first testing D3 code\n",
    "\n",
    "It's easier to start your D3 experimentation with a standalone file rather than within the IJulia interface.  A simpler dev setup is easier to debug."
   ]
  },
  {
   "cell_type": "code",
   "execution_count": 21,
   "metadata": {
    "collapsed": false
   },
   "outputs": [
    {
     "name": "stdout",
     "output_type": "stream",
     "text": [
      "Histogram:\n",
      "[36,90,168,370,589,867,951,873,838,752,637,542,479,359,303,291,199,186,146,119,115,100,77,90,67,753]\n",
      "\n",
      "Thresholds:\n",
      "[15,494,972,1451,1930,2408,2887,3366,3844,4323,4802,5280,5759,6238,6717,7195,7674,8153,8631,9110,9589,10067,10546,11025,11503,11982,551767]\n"
     ]
    }
   ],
   "source": [
    "println(\"Histogram:\\n\", JSON.json(hist_global))\n",
    "println()\n",
    "println(\"Thresholds:\\n\", JSON.json(thresholds))"
   ]
  },
  {
   "cell_type": "code",
   "execution_count": null,
   "metadata": {
    "collapsed": true
   },
   "outputs": [],
   "source": []
  }
 ],
 "metadata": {
  "kernelspec": {
   "display_name": "Julia 0.3.8",
   "language": "julia",
   "name": "julia-0.3"
  },
  "language_info": {
   "name": "julia",
   "version": "0.3.8"
  }
 },
 "nbformat": 4,
 "nbformat_minor": 0
}
