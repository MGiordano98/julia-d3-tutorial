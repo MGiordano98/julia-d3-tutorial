{
 "cells": [
  {
   "cell_type": "code",
   "execution_count": 1,
   "metadata": {
    "collapsed": true
   },
   "outputs": [],
   "source": [
    "using JSON"
   ]
  },
  {
   "cell_type": "code",
   "execution_count": 2,
   "metadata": {
    "collapsed": false
   },
   "outputs": [
    {
     "data": {
      "text/plain": [
       "3x3 Array{Int64,2}:\n",
       "  1   2   3\n",
       "  4   5   6\n",
       " 12  13  19"
      ]
     },
     "execution_count": 2,
     "metadata": {},
     "output_type": "execute_result"
    }
   ],
   "source": [
    "a = [1 2 3; 4 5 6; 12 13 19]"
   ]
  },
  {
   "cell_type": "code",
   "execution_count": 3,
   "metadata": {
    "collapsed": false
   },
   "outputs": [
    {
     "data": {
      "text/plain": [
       "\"[[1,4,12],[2,5,13],[3,6,19]]\""
      ]
     },
     "execution_count": 3,
     "metadata": {},
     "output_type": "execute_result"
    }
   ],
   "source": [
    "JSON.json(a)"
   ]
  },
  {
   "cell_type": "markdown",
   "metadata": {},
   "source": [
    "### This JSON is fairly simple\n",
    "Simple datastructures result in simple JSON that the `JSON` module can handle on its own.  For more complex datastructures, especially those involving `DataFrames`, you may have to write your own helper function.\n",
    "\n",
    "Keep in mind that Julia's arrays are stored in column major order, which means iterating over a single column at a time is very fast compared to iterating a row at a time."
   ]
  },
  {
   "cell_type": "markdown",
   "metadata": {},
   "source": [
    "### We'll now send this data to the client\n",
    "We use the `display` method to write something from the `julia` kernel to the browser running `IPython`"
   ]
  },
  {
   "cell_type": "code",
   "execution_count": 4,
   "metadata": {
    "collapsed": false
   },
   "outputs": [
    {
     "data": {
      "text/html": [
       "Adding script tag here:\n",
       "<script type=\"text/javascript\">\n",
       "    var a = [[1,4,12],[2,5,13],[3,6,19]];\n",
       "    if (typeof window.console !== \"undefined\") {\n",
       "        console.log(a);\n",
       "    }\n",
       "</script>\n",
       ":done: <em>Inspect this DOM element and the elements around it</em>\n"
      ]
     },
     "metadata": {},
     "output_type": "display_data"
    }
   ],
   "source": [
    "display(\"text/html\", \"\"\"\n",
    "Adding script tag here:\n",
    "<script type=\"text/javascript\">\n",
    "    var a = $(JSON.json(a));\n",
    "    if (typeof window.console !== \"undefined\") {\n",
    "        console.log(a);\n",
    "    }\n",
    "</script>\n",
    ":done: <em>Inspect this DOM element and the elements around it</em>\n",
    "\"\"\")"
   ]
  },
  {
   "cell_type": "markdown",
   "metadata": {},
   "source": [
    "### Check your webdev console\n",
    "\n",
    "At this point it is useful to open your webdev console and see the output of the `console.log` command.  You should also inspect the DOM node for the script"
   ]
  },
  {
   "cell_type": "code",
   "execution_count": null,
   "metadata": {
    "collapsed": true
   },
   "outputs": [],
   "source": []
  }
 ],
 "metadata": {
  "kernelspec": {
   "display_name": "Julia 0.4.3",
   "language": "julia",
   "name": "julia-0.4"
  },
  "language_info": {
   "file_extension": ".jl",
   "mimetype": "application/julia",
   "name": "julia",
   "version": "0.4.3"
  }
 },
 "nbformat": 4,
 "nbformat_minor": 0
}
