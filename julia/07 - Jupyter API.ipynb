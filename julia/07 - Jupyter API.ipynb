{
 "cells": [
  {
   "cell_type": "markdown",
   "metadata": {},
   "source": [
    "# Using the Jupyter API\n",
    "\n",
    "The code in this notebook will be executed by JavaScript using the Jupyter API.  The docs for Jupyter itself aren't easy to navigate, but the API is identical to the older IPython project, so refer to https://github.com/ipython/ipython/wiki/Dev:-URL-mapping-of-IPython-notebook for details on all that's possible."
   ]
  },
  {
   "cell_type": "code",
   "execution_count": 1,
   "metadata": {
    "collapsed": false
   },
   "outputs": [
    {
     "data": {
      "text/html": [
       "<table class=\"data-frame\"><tr><th></th><th>user_agent_family</th><th>count</th><th>median</th><th>hist</th></tr><tr><th>1</th><td>Mobile Safari</td><td>87775</td><td>4147.0</td><td>[32,1018,4282,7212,8901,9018,7763,6621,5638,4906,4083,3472,2948,2340,2165,1890,1706,1601,1398,1157,1018,937,805,704,597,5562]</td></tr><tr><th>2</th><td>Chrome</td><td>53086</td><td>3129.0</td><td>[65,2116,6133,7217,6356,5033,3894,3216,2735,2225,1788,1558,1398,1164,993,872,711,606,563,464,437,342,322,275,246,2357]</td></tr><tr><th>3</th><td>IE</td><td>35360</td><td>2862.0</td><td>[30,1305,4636,5553,4614,3543,2714,2141,1811,1395,1151,971,782,688,581,412,350,335,274,253,201,186,156,106,93,1079]</td></tr><tr><th>4</th><td>Chrome Mobile</td><td>31477</td><td>6776.0</td><td>[0,1,23,60,230,594,1106,1698,2232,2663,2709,2494,2268,2082,1793,1607,1356,1140,997,835,671,612,504,402,369,3031]</td></tr><tr><th>5</th><td>Safari</td><td>17116</td><td>2605.0</td><td>[108,1339,2476,2686,2085,1532,1262,1032,875,598,424,385,366,310,199,180,171,122,110,74,55,72,65,36,42,512]</td></tr><tr><th>6</th><td>Firefox</td><td>11984</td><td>3412.0</td><td>[14,372,1051,1392,1398,1255,1085,832,803,575,548,383,322,267,220,156,148,115,134,99,74,82,64,38,52,505]</td></tr><tr><th>7</th><td>Edge</td><td>6150</td><td>3187.0</td><td>[3,151,632,843,800,633,513,434,353,272,225,182,149,122,104,88,72,74,54,42,62,39,43,26,24,210]</td></tr><tr><th>8</th><td>Amazon Silk</td><td>2323</td><td>7599.0</td><td>[0,0,0,1,15,39,84,117,133,147,145,165,155,113,141,113,108,90,78,70,67,76,53,49,49,315]</td></tr><tr><th>9</th><td>Chrome Mobile iOS</td><td>1987</td><td>4257.0</td><td>[0,22,86,184,182,198,179,132,107,101,82,69,60,48,42,36,37,39,39,37,26,21,18,31,17,194]</td></tr><tr><th>10</th><td>Android Browser</td><td>1752</td><td>11886.0</td><td>[0,1,0,0,0,3,17,29,43,50,66,63,76,65,80,46,64,55,52,48,44,41,52,46,32,779]</td></tr><tr><th>11</th><td>IE Mobile</td><td>226</td><td>6265.5</td><td>[0,0,0,0,0,2,6,10,15,18,34,30,14,15,10,6,13,5,7,2,4,4,1,2,1,27]</td></tr><tr><th>12</th><td>Firefox Mobile</td><td>204</td><td>8456.0</td><td>[0,0,0,0,2,4,5,8,8,9,12,13,11,13,6,10,9,10,13,7,6,10,8,7,3,30]</td></tr><tr><th>13</th><td>Opera</td><td>123</td><td>12211.0</td><td>[0,0,1,2,2,4,9,6,3,5,4,4,4,1,4,1,4,1,2,0,1,0,3,2,1,59]</td></tr><tr><th>14</th><td>Other</td><td>86</td><td>4855.5</td><td>[0,0,0,3,3,5,7,8,15,14,4,4,4,1,1,1,1,1,1,1,1,1,1,1,0,8]</td></tr><tr><th>15</th><td>PhantomJS</td><td>78</td><td>1660.5</td><td>[0,7,27,26,10,7,1,0,0,0,0,0,0,0,0,0,0,0,0,0,0,0,0,0,0,0]</td></tr><tr><th>16</th><td>(Unknown)</td><td>73</td><td>3740.0</td><td>[0,1,8,9,6,5,7,5,0,2,1,2,4,0,0,3,1,5,3,1,2,2,0,1,0,5]</td></tr><tr><th>17</th><td>BlackBerry WebKit</td><td>43</td><td>8684.0</td><td>[0,0,0,0,1,1,1,0,2,1,2,1,3,3,4,1,3,0,2,1,0,2,2,0,1,12]</td></tr><tr><th>18</th><td>Chrome Frame</td><td>37</td><td>4067.0</td><td>[0,0,1,4,4,5,3,4,4,2,1,0,1,0,2,0,1,1,0,1,0,1,0,0,0,2]</td></tr><tr><th>19</th><td>Pale Moon (Firefox Variant)</td><td>18</td><td>4797.5</td><td>[0,0,0,1,1,2,0,4,1,1,2,4,0,1,0,0,0,1,0,0,0,0,0,0,0,0]</td></tr><tr><th>20</th><td>AOL</td><td>15</td><td>4857.0</td><td>[0,0,1,1,1,1,1,0,2,2,0,1,0,1,2,0,0,0,0,0,0,0,0,0,0,2]</td></tr><tr><th>21</th><td>Yandex Browser</td><td>13</td><td>8513.0</td><td>[0,0,0,0,0,0,3,0,0,1,1,0,0,0,1,0,1,1,0,2,0,0,0,1,0,2]</td></tr><tr><th>22</th><td>Halebot</td><td>10</td><td>4654.0</td><td>[0,0,0,2,1,1,0,0,2,1,0,0,1,0,0,0,0,2,0,0,0,0,0,0,0,0]</td></tr><tr><th>23</th><td>Iron</td><td>10</td><td>2738.0</td><td>[0,0,0,1,3,3,0,1,2,0,0,0,0,0,0,0,0,0,0,0,0,0,0,0,0,0]</td></tr><tr><th>24</th><td>Firefox Beta</td><td>9</td><td>10278.0</td><td>[0,0,0,0,0,0,0,0,1,0,0,1,0,0,0,1,0,0,1,1,0,0,0,0,1,3]</td></tr><tr><th>25</th><td>Opera Mobile</td><td>9</td><td>12235.0</td><td>[0,0,0,0,0,0,0,0,0,0,0,0,0,1,1,0,0,0,0,1,0,0,1,2,0,3]</td></tr><tr><th>26</th><td>Opera Mini</td><td>7</td><td>3835.0</td><td>[0,0,0,1,1,0,1,2,0,0,2,0,0,0,0,0,0,0,0,0,0,0,0,0,0,0]</td></tr><tr><th>27</th><td>Maxthon</td><td>6</td><td>3961.0</td><td>[0,0,0,0,1,1,1,0,1,0,0,0,0,1,0,0,0,0,0,0,0,0,0,0,1,0]</td></tr><tr><th>28</th><td>Chromium</td><td>5</td><td>2772.0</td><td>[0,0,0,0,2,1,0,0,0,1,0,0,0,0,0,1,0,0,0,0,0,0,0,0,0,0]</td></tr><tr><th>29</th><td>Puffin</td><td>5</td><td>922.0</td><td>[0,4,0,0,0,1,0,0,0,0,0,0,0,0,0,0,0,0,0,0,0,0,0,0,0,0]</td></tr><tr><th>30</th><td>Opera Coast</td><td>3</td><td>6091.0</td><td>[0,0,0,0,0,0,0,1,0,0,0,1,0,0,0,0,1,0,0,0,0,0,0,0,0,0]</td></tr><tr><th>&vellip;</th><td>&vellip;</td><td>&vellip;</td><td>&vellip;</td><td>&vellip;</td></tr></table>"
      ],
      "text/plain": [
       "36x4 DataFrames.DataFrame\n",
       "| Row | user_agent_family              | count | median  |\n",
       "|-----|--------------------------------|-------|---------|\n",
       "| 1   | \"Mobile Safari\"                | 87775 | 4147.0  |\n",
       "| 2   | \"Chrome\"                       | 53086 | 3129.0  |\n",
       "| 3   | \"IE\"                           | 35360 | 2862.0  |\n",
       "| 4   | \"Chrome Mobile\"                | 31477 | 6776.0  |\n",
       "| 5   | \"Safari\"                       | 17116 | 2605.0  |\n",
       "| 6   | \"Firefox\"                      | 11984 | 3412.0  |\n",
       "| 7   | \"Edge\"                         | 6150  | 3187.0  |\n",
       "| 8   | \"Amazon Silk\"                  | 2323  | 7599.0  |\n",
       "| 9   | \"Chrome Mobile iOS\"            | 1987  | 4257.0  |\n",
       "| 10  | \"Android Browser\"              | 1752  | 11886.0 |\n",
       "| 11  | \"IE Mobile\"                    | 226   | 6265.5  |\n",
       "⋮\n",
       "| 25  | \"Opera Mobile\"                 | 9     | 12235.0 |\n",
       "| 26  | \"Opera Mini\"                   | 7     | 3835.0  |\n",
       "| 27  | \"Maxthon\"                      | 6     | 3961.0  |\n",
       "| 28  | \"Chromium\"                     | 5     | 2772.0  |\n",
       "| 29  | \"Puffin\"                       | 5     | 922.0   |\n",
       "| 30  | \"Opera Coast\"                  | 3     | 6091.0  |\n",
       "| 31  | \"UC Browser\"                   | 3     | 34914.0 |\n",
       "| 32  | \"moatbot\"                      | 2     | 4904.0  |\n",
       "| 33  | \"webOS Browser\"                | 2     | 17555.5 |\n",
       "| 34  | \"Firefox Alpha\"                | 1     | 3747.0  |\n",
       "| 35  | \"Nokia Services (WAP) Browser\" | 1     | 11402.0 |\n",
       "| 36  | \"SeaMonkey\"                    | 1     | 1996.0  |\n",
       "\n",
       "| Row | hist                                                                                                                            |\n",
       "|-----|---------------------------------------------------------------------------------------------------------------------------------|\n",
       "| 1   | \"[32,1018,4282,7212,8901,9018,7763,6621,5638,4906,4083,3472,2948,2340,2165,1890,1706,1601,1398,1157,1018,937,805,704,597,5562]\" |\n",
       "| 2   | \"[65,2116,6133,7217,6356,5033,3894,3216,2735,2225,1788,1558,1398,1164,993,872,711,606,563,464,437,342,322,275,246,2357]\"        |\n",
       "| 3   | \"[30,1305,4636,5553,4614,3543,2714,2141,1811,1395,1151,971,782,688,581,412,350,335,274,253,201,186,156,106,93,1079]\"            |\n",
       "| 4   | \"[0,1,23,60,230,594,1106,1698,2232,2663,2709,2494,2268,2082,1793,1607,1356,1140,997,835,671,612,504,402,369,3031]\"              |\n",
       "| 5   | \"[108,1339,2476,2686,2085,1532,1262,1032,875,598,424,385,366,310,199,180,171,122,110,74,55,72,65,36,42,512]\"                    |\n",
       "| 6   | \"[14,372,1051,1392,1398,1255,1085,832,803,575,548,383,322,267,220,156,148,115,134,99,74,82,64,38,52,505]\"                       |\n",
       "| 7   | \"[3,151,632,843,800,633,513,434,353,272,225,182,149,122,104,88,72,74,54,42,62,39,43,26,24,210]\"                                 |\n",
       "| 8   | \"[0,0,0,1,15,39,84,117,133,147,145,165,155,113,141,113,108,90,78,70,67,76,53,49,49,315]\"                                        |\n",
       "| 9   | \"[0,22,86,184,182,198,179,132,107,101,82,69,60,48,42,36,37,39,39,37,26,21,18,31,17,194]\"                                        |\n",
       "| 10  | \"[0,1,0,0,0,3,17,29,43,50,66,63,76,65,80,46,64,55,52,48,44,41,52,46,32,779]\"                                                    |\n",
       "| 11  | \"[0,0,0,0,0,2,6,10,15,18,34,30,14,15,10,6,13,5,7,2,4,4,1,2,1,27]\"                                                               |\n",
       "⋮\n",
       "| 25  | \"[0,0,0,0,0,0,0,0,0,0,0,0,0,1,1,0,0,0,0,1,0,0,1,2,0,3]\"                                                                         |\n",
       "| 26  | \"[0,0,0,1,1,0,1,2,0,0,2,0,0,0,0,0,0,0,0,0,0,0,0,0,0,0]\"                                                                         |\n",
       "| 27  | \"[0,0,0,0,1,1,1,0,1,0,0,0,0,1,0,0,0,0,0,0,0,0,0,0,1,0]\"                                                                         |\n",
       "| 28  | \"[0,0,0,0,2,1,0,0,0,1,0,0,0,0,0,1,0,0,0,0,0,0,0,0,0,0]\"                                                                         |\n",
       "| 29  | \"[0,4,0,0,0,1,0,0,0,0,0,0,0,0,0,0,0,0,0,0,0,0,0,0,0,0]\"                                                                         |\n",
       "| 30  | \"[0,0,0,0,0,0,0,1,0,0,0,1,0,0,0,0,1,0,0,0,0,0,0,0,0,0]\"                                                                         |\n",
       "| 31  | \"[0,0,0,0,0,0,0,0,0,0,0,0,0,0,0,0,0,0,0,0,0,0,0,0,0,3]\"                                                                         |\n",
       "| 32  | \"[0,0,0,0,1,0,0,0,0,0,0,0,0,1,0,0,0,0,0,0,0,0,0,0,0,0]\"                                                                         |\n",
       "| 33  | \"[0,0,0,0,0,0,0,0,0,0,0,0,0,0,0,0,0,0,0,0,0,0,0,0,0,2]\"                                                                         |\n",
       "| 34  | \"[0,0,0,0,0,0,0,1,0,0,0,0,0,0,0,0,0,0,0,0,0,0,0,0,0,0]\"                                                                         |\n",
       "| 35  | \"[0,0,0,0,0,0,0,0,0,0,0,0,0,0,0,0,0,0,0,0,0,1,0,0,0,0]\"                                                                         |\n",
       "| 36  | \"[0,0,0,1,0,0,0,0,0,0,0,0,0,0,0,0,0,0,0,0,0,0,0,0,0,0]\"                                                                         |"
      ]
     },
     "execution_count": 1,
     "metadata": {},
     "output_type": "execute_result"
    }
   ],
   "source": [
    "## We IF-GUARD this block because we do not want to include and load the data multiple times\n",
    "if !isdefined(:df)\n",
    "    using DataFrames\n",
    "    using JSON\n",
    "    df = readtable(\"data.csv\");\n",
    "    \n",
    "    # Function to set histogram thresholds after dropping outliers based on IQR\n",
    "    function getSymmetricThresholds(results::DataFrame; timer::Symbol=:timers_t_done)\n",
    "        summary = summarystats(results[timer])\n",
    "        fw  = (summary.q75-summary.q25)*1.5\n",
    "\n",
    "        low = round(Int64, max(summary.min, summary.q25-fw))\n",
    "        high = round(Int64, min(summary.max, summary.q75+fw))+1\n",
    "\n",
    "        thresholds::Array{Int64, 1} = []\n",
    "\n",
    "        nthresholds=25\n",
    "\n",
    "        range = high - low\n",
    "\n",
    "        for i in 0:nthresholds-1\n",
    "            push!(thresholds, round(Int64, low + i * range/nthresholds))\n",
    "        end\n",
    "\n",
    "        push!(thresholds, high)\n",
    "        if high < round(Int64, summary.max)\n",
    "            push!(thresholds, round(Int64, summary.max))\n",
    "        end\n",
    "\n",
    "        return thresholds\n",
    "    end\n",
    "    \n",
    "    thresholds = getSymmetricThresholds(df)\n",
    "\n",
    "    groups = by(\n",
    "        df,\n",
    "        :user_agent_family, \n",
    "        rows -> DataFrame(\n",
    "            count = size(rows, 1),\n",
    "            median = median(rows[:timers_t_done]),\n",
    "            hist = JSON.json(hist(rows[:timers_t_done], thresholds)[2])\n",
    "        )\n",
    "    )\n",
    "\n",
    "    sort!(groups, rev=true, cols=[:count]);\n",
    "end"
   ]
  },
  {
   "cell_type": "markdown",
   "metadata": {},
   "source": [
    "## Browser list\n",
    "\n",
    "The code in this cell returns the list of browsers.  We can use this to create a drop-down in our JavaScript.  We print the output as JSON so that JavaScript can read it easily.\n",
    "\n",
    "We add a token in a comment that our JavaScript can use to determine which cell to use for which widget"
   ]
  },
  {
   "cell_type": "code",
   "execution_count": 5,
   "metadata": {
    "collapsed": false
   },
   "outputs": [
    {
     "data": {
      "text/plain": [
       "\"[\\\"Mobile Safari\\\",\\\"Chrome\\\",\\\"IE\\\",\\\"Chrome Mobile\\\",\\\"Safari\\\",\\\"Firefox\\\",\\\"Edge\\\",\\\"Amazon Silk\\\",\\\"Chrome Mobile iOS\\\",\\\"Android Browser\\\",\\\"IE Mobile\\\",\\\"Firefox Mobile\\\",\\\"Opera\\\",\\\"Other\\\",\\\"PhantomJS\\\",\\\"(Unknown)\\\",\\\"BlackBerry WebKit\\\",\\\"Chrome Frame\\\",\\\"Pale Moon (Firefox Variant)\\\",\\\"AOL\\\",\\\"Yandex Browser\\\",\\\"Halebot\\\",\\\"Iron\\\",\\\"Firefox Beta\\\",\\\"Opera Mobile\\\",\\\"Opera Mini\\\",\\\"Maxthon\\\",\\\"Chromium\\\",\\\"Puffin\\\",\\\"Opera Coast\\\",\\\"UC Browser\\\",\\\"moatbot\\\",\\\"webOS Browser\\\",\\\"Firefox Alpha\\\",\\\"Nokia Services (WAP) Browser\\\",\\\"SeaMonkey\\\"]\""
      ]
     },
     "execution_count": 5,
     "metadata": {},
     "output_type": "execute_result"
    }
   ],
   "source": [
    "# browser-list-widget\n",
    "JSON.json(groups[:user_agent_family])"
   ]
  },
  {
   "cell_type": "markdown",
   "metadata": {},
   "source": [
    "## Data for a browser\n",
    "\n",
    "We now define a function that takes in a browser name as a parameter and returns the data for it"
   ]
  },
  {
   "cell_type": "code",
   "execution_count": 23,
   "metadata": {
    "collapsed": false
   },
   "outputs": [
    {
     "data": {
      "text/plain": [
       "getBrowserData (generic function with 1 method)"
      ]
     },
     "execution_count": 23,
     "metadata": {},
     "output_type": "execute_result"
    }
   ],
   "source": [
    "function getBrowserData(;browser=\"%browser%\")\n",
    "    data = groups[groups[:user_agent_family] .== browser, :]\n",
    "    \n",
    "    if size(data, 1) == 0\n",
    "        return \"{}\"\n",
    "    end\n",
    "    \n",
    "    out = Dict(\n",
    "        \"browser\" => data[1, :user_agent_family], \n",
    "        \"count\" => data[1, :count], \n",
    "        \"median\" => data[1, :median],\n",
    "        \"hist\" => JSON.parse(data[1, :hist])\n",
    "    )\n",
    "    \n",
    "    JSON.json(out)\n",
    "end"
   ]
  },
  {
   "cell_type": "markdown",
   "metadata": {},
   "source": [
    "### Note that we use a Dict\n",
    "\n",
    "A DataFrame is great for passing data between Julia functions, but because Julia data structures are columnar, converting this to JSON gives us a terribly unwieldy structure.  It's better to convert to a Dict and then JSON encode that.\n",
    "\n",
    "As part of our token comment, we also indicate which part of the cell can be replaced with text from JavaScript.  In this case, the `%browser%` token can be replaced with the actual name of the browser.  Note that this is a convention we've just invented, so feel free to use your own convention."
   ]
  },
  {
   "cell_type": "code",
   "execution_count": 25,
   "metadata": {
    "collapsed": false
   },
   "outputs": [
    {
     "data": {
      "text/plain": [
       "\"{}\""
      ]
     },
     "execution_count": 25,
     "metadata": {},
     "output_type": "execute_result"
    }
   ],
   "source": [
    "# browser-data-widget param=%browser%\n",
    "getBrowserData(browser=\"%browser%\")"
   ]
  },
  {
   "cell_type": "code",
   "execution_count": null,
   "metadata": {
    "collapsed": true
   },
   "outputs": [],
   "source": []
  }
 ],
 "metadata": {
  "kernelspec": {
   "display_name": "Julia 0.4.3",
   "language": "julia",
   "name": "julia-0.4"
  },
  "language_info": {
   "file_extension": ".jl",
   "mimetype": "application/julia",
   "name": "julia",
   "version": "0.4.3"
  }
 },
 "nbformat": 4,
 "nbformat_minor": 0
}
