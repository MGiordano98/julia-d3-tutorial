{
 "cells": [
  {
   "cell_type": "markdown",
   "metadata": {},
   "source": [
    "## We'll extend our previous examples\n",
    "\n",
    "We can now extend [05 - Include an IFrame.ipynb](05%20-%20Include%20an%20IFrame.ipynb) to pass data to the iframe using either the query string or using `window.postMessage`.  In this case we'll use `https://soasta.github.io/osbridge-julia-d3/d3/07-d3-external-data.html?data=<data>` as our URL.\n",
    "\n",
    "Our `createIFrame` and `updateIFrame` functions remain the same."
   ]
  },
  {
   "cell_type": "code",
   "execution_count": 15,
   "metadata": {
    "collapsed": false
   },
   "outputs": [
    {
     "data": {
      "text/plain": [
       "createIFrame (generic function with 1 method)"
      ]
     },
     "execution_count": 15,
     "metadata": {},
     "output_type": "execute_result"
    }
   ],
   "source": [
    "function createIFrame()\n",
    "    displayid = \"demo-iframe-\" * string(rand())\n",
    "    \n",
    "    display(\n",
    "        \"text/html\", \n",
    "        \"\"\"\n",
    "    <!-- First create an empty iframe that's 500px high and has this id -->\n",
    "    <iframe\n",
    "        id=\"$(displayid)\"\n",
    "        height=\"500\"\n",
    "        style=\"border:none;\"\n",
    "        src=\"about:blank\">\n",
    "    </iframe>\n",
    "\n",
    "\n",
    "    <!-- Next create a JavaScript function with the same name as the node -->\n",
    "    <script>\n",
    "        window[\"$(displayid)\"] = function(url) {\n",
    "            var iframe = document.getElementById(\"$(displayid)\");\n",
    "            if(iframe) {\n",
    "                iframe.width = iframe.parentNode.offsetWidth * 0.98;\n",
    "                iframe.src = url;\n",
    "            }\n",
    "        };\n",
    "    </script>\n",
    "        \"\"\"\n",
    "    )\n",
    "    \n",
    "    return displayid\n",
    "end"
   ]
  },
  {
   "cell_type": "markdown",
   "metadata": {},
   "source": [
    "### Add Type to `updateIFrame` signature\n",
    "\n",
    "Notice that we add a String Type for the `updateIFrame` method.  This will allow us to overload it later"
   ]
  },
  {
   "cell_type": "code",
   "execution_count": 16,
   "metadata": {
    "collapsed": false
   },
   "outputs": [
    {
     "data": {
      "text/plain": [
       "updateIFrame (generic function with 2 methods)"
      ]
     },
     "execution_count": 16,
     "metadata": {},
     "output_type": "execute_result"
    }
   ],
   "source": [
    "function updateIFrame(displayid::AbstractString, url::AbstractString)\n",
    "    display(\n",
    "        \"text/html\",\n",
    "        \"\"\"<script>window[\"$(displayid)\"](\"$(url)\");</script>\"\"\"\n",
    "    )\n",
    "end"
   ]
  },
  {
   "cell_type": "markdown",
   "metadata": {},
   "source": [
    "## Add `window.postMessage`\n",
    "\n",
    "We now overload the `updateIFrame` method to accept a Numeric Array and pass that on to the iframe using `window.postMessage`"
   ]
  },
  {
   "cell_type": "code",
   "execution_count": 25,
   "metadata": {
    "collapsed": false
   },
   "outputs": [
    {
     "data": {
      "text/plain": [
       "updateIFrame (generic function with 3 methods)"
      ]
     },
     "execution_count": 25,
     "metadata": {},
     "output_type": "execute_result"
    }
   ],
   "source": [
    "function updateIFrame(displayid::AbstractString, data::Array{Int64, 1})\n",
    "    display(\n",
    "        \"text/html\",\n",
    "        \"\"\"\n",
    "        <script>\n",
    "        (function() {\n",
    "            var iframe = document.getElementById(\"$(displayid)\");\n",
    "            if(iframe) {\n",
    "                iframe.contentWindow.postMessage($(JSON.json(data)), \"*\");\n",
    "            }\n",
    "        }())\n",
    "        </script>\n",
    "        \"\"\"\n",
    "    )\n",
    "end"
   ]
  },
  {
   "cell_type": "markdown",
   "metadata": {},
   "source": [
    "## Tying these together, we can draw and update the iframe"
   ]
  },
  {
   "cell_type": "code",
   "execution_count": 18,
   "metadata": {
    "collapsed": false
   },
   "outputs": [
    {
     "data": {
      "text/html": [
       "<!-- First create an empty iframe that's 500px high and has this id -->\n",
       "<iframe\n",
       "    id=\"demo-iframe-0.5657090769819568\"\n",
       "    height=\"500\"\n",
       "    style=\"border:none;\"\n",
       "    src=\"about:blank\">\n",
       "</iframe>\n",
       "\n",
       "\n",
       "<!-- Next create a JavaScript function with the same name as the node -->\n",
       "<script>\n",
       "    window[\"demo-iframe-0.5657090769819568\"] = function(url) {\n",
       "        var iframe = document.getElementById(\"demo-iframe-0.5657090769819568\");\n",
       "        if(iframe) {\n",
       "            iframe.width = iframe.parentNode.offsetWidth * 0.98;\n",
       "            iframe.src = url;\n",
       "        }\n",
       "    };\n",
       "</script>\n",
       "    "
      ]
     },
     "metadata": {},
     "output_type": "display_data"
    },
    {
     "data": {
      "text/html": [
       "<script>window[\"demo-iframe-0.5657090769819568\"](\"https://soasta.github.io/julia-d3-tutorial/d3/07-d3-external-data.html?data=36,90,168,370,589,867,951,873,838,752,637,542,479,359,303,291,199,186,146,119,115,100,77,90,67,753\");</script>"
      ]
     },
     "metadata": {},
     "output_type": "display_data"
    }
   ],
   "source": [
    "id = createIFrame()\n",
    "\n",
    "# Note that we do not include the [] for data here since this is not JSON, it's just a csv\n",
    "updateIFrame(id, \"https://soasta.github.io/julia-d3-tutorial/d3/07-d3-external-data.html?data=36,90,168,370,589,867,951,873,838,752,637,542,479,359,303,291,199,186,146,119,115,100,77,90,67,753\")"
   ]
  },
  {
   "cell_type": "markdown",
   "metadata": {},
   "source": [
    "## We can pass new data to the IFrame\n",
    "\n",
    "By calling `updateIFrame` with a a data array, we can change what's displayed"
   ]
  },
  {
   "cell_type": "code",
   "execution_count": 26,
   "metadata": {
    "collapsed": false
   },
   "outputs": [
    {
     "data": {
      "text/html": [
       "<script>\n",
       "(function() {\n",
       "    var iframe = document.getElementById(\"demo-iframe-0.5657090769819568\");\n",
       "    if(iframe) {\n",
       "        iframe.contentWindow.postMessage([0,0,0,2,6,5,10,11,15,18,25,11,19,8,4,8,3,10,6,6,2,2,1,1,1,24], \"*\");\n",
       "    }\n",
       "}())\n",
       "</script>\n"
      ]
     },
     "metadata": {},
     "output_type": "display_data"
    }
   ],
   "source": [
    "updateIFrame(id, Int64[0,0,0,2,6,5,10,11,15,18,25,11,19,8,4,8,3,10,6,6,2,2,1,1,1,24])"
   ]
  },
  {
   "cell_type": "markdown",
   "metadata": {
    "collapsed": true
   },
   "source": [
    "## DataFrame to IFrame\n",
    "\n",
    "We can even get our DataFrame code to pass data to the IFrame"
   ]
  },
  {
   "cell_type": "code",
   "execution_count": 27,
   "metadata": {
    "collapsed": false
   },
   "outputs": [
    {
     "data": {
      "text/plain": [
       "getSymmetricThresholds (generic function with 1 method)"
      ]
     },
     "execution_count": 27,
     "metadata": {},
     "output_type": "execute_result"
    }
   ],
   "source": [
    "using DataFrames\n",
    "df = readtable(\"data.csv\");\n",
    "\n",
    "# Function to set histogram thresholds after dropping outliers based on IQR\n",
    "function getSymmetricThresholds(results::DataFrame; timer::Symbol=:timers_t_done)\n",
    "    summary = summarystats(results[timer])\n",
    "    fw  = (summary.q75-summary.q25)*1.5\n",
    "\n",
    "    low = round(Int64, max(summary.min, summary.q25-fw))\n",
    "    high = round(Int64, min(summary.max, summary.q75+fw))+1\n",
    "\n",
    "    thresholds::Array{Int64, 1} = []\n",
    "\n",
    "    nthresholds=25\n",
    "\n",
    "    range = high - low\n",
    "\n",
    "    for i in 0:nthresholds-1\n",
    "        push!(thresholds, round(Int64, low + i * range/nthresholds))\n",
    "    end\n",
    "\n",
    "    push!(thresholds, high)\n",
    "    if high < round(Int64, summary.max)\n",
    "        push!(thresholds, round(Int64, summary.max))\n",
    "    end\n",
    "\n",
    "    return thresholds\n",
    "end"
   ]
  },
  {
   "cell_type": "code",
   "execution_count": 32,
   "metadata": {
    "collapsed": false
   },
   "outputs": [
    {
     "data": {
      "text/html": [
       "<table class=\"data-frame\"><tr><th></th><th>user_agent_family</th><th>count</th><th>median</th><th>hist</th></tr><tr><th>1</th><td>Mobile Safari</td><td>87775</td><td>4147.0</td><td>[32,1018,4282,7212,8901,9018,7763,6621,5638,4906,4083,3472,2948,2340,2165,1890,1706,1601,1398,1157,1018,937,805,704,597,5562]</td></tr><tr><th>2</th><td>Chrome</td><td>53086</td><td>3129.0</td><td>[65,2116,6133,7217,6356,5033,3894,3216,2735,2225,1788,1558,1398,1164,993,872,711,606,563,464,437,342,322,275,246,2357]</td></tr><tr><th>3</th><td>IE</td><td>35360</td><td>2862.0</td><td>[30,1305,4636,5553,4614,3543,2714,2141,1811,1395,1151,971,782,688,581,412,350,335,274,253,201,186,156,106,93,1079]</td></tr><tr><th>4</th><td>Chrome Mobile</td><td>31477</td><td>6776.0</td><td>[0,1,23,60,230,594,1106,1698,2232,2663,2709,2494,2268,2082,1793,1607,1356,1140,997,835,671,612,504,402,369,3031]</td></tr><tr><th>5</th><td>Safari</td><td>17116</td><td>2605.0</td><td>[108,1339,2476,2686,2085,1532,1262,1032,875,598,424,385,366,310,199,180,171,122,110,74,55,72,65,36,42,512]</td></tr><tr><th>6</th><td>Firefox</td><td>11984</td><td>3412.0</td><td>[14,372,1051,1392,1398,1255,1085,832,803,575,548,383,322,267,220,156,148,115,134,99,74,82,64,38,52,505]</td></tr><tr><th>7</th><td>Edge</td><td>6150</td><td>3187.0</td><td>[3,151,632,843,800,633,513,434,353,272,225,182,149,122,104,88,72,74,54,42,62,39,43,26,24,210]</td></tr><tr><th>8</th><td>Amazon Silk</td><td>2323</td><td>7599.0</td><td>[0,0,0,1,15,39,84,117,133,147,145,165,155,113,141,113,108,90,78,70,67,76,53,49,49,315]</td></tr><tr><th>9</th><td>Chrome Mobile iOS</td><td>1987</td><td>4257.0</td><td>[0,22,86,184,182,198,179,132,107,101,82,69,60,48,42,36,37,39,39,37,26,21,18,31,17,194]</td></tr><tr><th>10</th><td>Android Browser</td><td>1752</td><td>11886.0</td><td>[0,1,0,0,0,3,17,29,43,50,66,63,76,65,80,46,64,55,52,48,44,41,52,46,32,779]</td></tr><tr><th>11</th><td>IE Mobile</td><td>226</td><td>6265.5</td><td>[0,0,0,0,0,2,6,10,15,18,34,30,14,15,10,6,13,5,7,2,4,4,1,2,1,27]</td></tr><tr><th>12</th><td>Firefox Mobile</td><td>204</td><td>8456.0</td><td>[0,0,0,0,2,4,5,8,8,9,12,13,11,13,6,10,9,10,13,7,6,10,8,7,3,30]</td></tr><tr><th>13</th><td>Opera</td><td>123</td><td>12211.0</td><td>[0,0,1,2,2,4,9,6,3,5,4,4,4,1,4,1,4,1,2,0,1,0,3,2,1,59]</td></tr><tr><th>14</th><td>Other</td><td>86</td><td>4855.5</td><td>[0,0,0,3,3,5,7,8,15,14,4,4,4,1,1,1,1,1,1,1,1,1,1,1,0,8]</td></tr><tr><th>15</th><td>PhantomJS</td><td>78</td><td>1660.5</td><td>[0,7,27,26,10,7,1,0,0,0,0,0,0,0,0,0,0,0,0,0,0,0,0,0,0,0]</td></tr><tr><th>16</th><td>(Unknown)</td><td>73</td><td>3740.0</td><td>[0,1,8,9,6,5,7,5,0,2,1,2,4,0,0,3,1,5,3,1,2,2,0,1,0,5]</td></tr><tr><th>17</th><td>BlackBerry WebKit</td><td>43</td><td>8684.0</td><td>[0,0,0,0,1,1,1,0,2,1,2,1,3,3,4,1,3,0,2,1,0,2,2,0,1,12]</td></tr><tr><th>18</th><td>Chrome Frame</td><td>37</td><td>4067.0</td><td>[0,0,1,4,4,5,3,4,4,2,1,0,1,0,2,0,1,1,0,1,0,1,0,0,0,2]</td></tr><tr><th>19</th><td>Pale Moon (Firefox Variant)</td><td>18</td><td>4797.5</td><td>[0,0,0,1,1,2,0,4,1,1,2,4,0,1,0,0,0,1,0,0,0,0,0,0,0,0]</td></tr><tr><th>20</th><td>AOL</td><td>15</td><td>4857.0</td><td>[0,0,1,1,1,1,1,0,2,2,0,1,0,1,2,0,0,0,0,0,0,0,0,0,0,2]</td></tr><tr><th>21</th><td>Yandex Browser</td><td>13</td><td>8513.0</td><td>[0,0,0,0,0,0,3,0,0,1,1,0,0,0,1,0,1,1,0,2,0,0,0,1,0,2]</td></tr><tr><th>22</th><td>Halebot</td><td>10</td><td>4654.0</td><td>[0,0,0,2,1,1,0,0,2,1,0,0,1,0,0,0,0,2,0,0,0,0,0,0,0,0]</td></tr><tr><th>23</th><td>Iron</td><td>10</td><td>2738.0</td><td>[0,0,0,1,3,3,0,1,2,0,0,0,0,0,0,0,0,0,0,0,0,0,0,0,0,0]</td></tr><tr><th>24</th><td>Firefox Beta</td><td>9</td><td>10278.0</td><td>[0,0,0,0,0,0,0,0,1,0,0,1,0,0,0,1,0,0,1,1,0,0,0,0,1,3]</td></tr><tr><th>25</th><td>Opera Mobile</td><td>9</td><td>12235.0</td><td>[0,0,0,0,0,0,0,0,0,0,0,0,0,1,1,0,0,0,0,1,0,0,1,2,0,3]</td></tr><tr><th>26</th><td>Opera Mini</td><td>7</td><td>3835.0</td><td>[0,0,0,1,1,0,1,2,0,0,2,0,0,0,0,0,0,0,0,0,0,0,0,0,0,0]</td></tr><tr><th>27</th><td>Maxthon</td><td>6</td><td>3961.0</td><td>[0,0,0,0,1,1,1,0,1,0,0,0,0,1,0,0,0,0,0,0,0,0,0,0,1,0]</td></tr><tr><th>28</th><td>Chromium</td><td>5</td><td>2772.0</td><td>[0,0,0,0,2,1,0,0,0,1,0,0,0,0,0,1,0,0,0,0,0,0,0,0,0,0]</td></tr><tr><th>29</th><td>Puffin</td><td>5</td><td>922.0</td><td>[0,4,0,0,0,1,0,0,0,0,0,0,0,0,0,0,0,0,0,0,0,0,0,0,0,0]</td></tr><tr><th>30</th><td>Opera Coast</td><td>3</td><td>6091.0</td><td>[0,0,0,0,0,0,0,1,0,0,0,1,0,0,0,0,1,0,0,0,0,0,0,0,0,0]</td></tr><tr><th>&vellip;</th><td>&vellip;</td><td>&vellip;</td><td>&vellip;</td><td>&vellip;</td></tr></table>"
      ],
      "text/plain": [
       "36x4 DataFrames.DataFrame\n",
       "| Row | user_agent_family              | count | median  |\n",
       "|-----|--------------------------------|-------|---------|\n",
       "| 1   | \"Mobile Safari\"                | 87775 | 4147.0  |\n",
       "| 2   | \"Chrome\"                       | 53086 | 3129.0  |\n",
       "| 3   | \"IE\"                           | 35360 | 2862.0  |\n",
       "| 4   | \"Chrome Mobile\"                | 31477 | 6776.0  |\n",
       "| 5   | \"Safari\"                       | 17116 | 2605.0  |\n",
       "| 6   | \"Firefox\"                      | 11984 | 3412.0  |\n",
       "| 7   | \"Edge\"                         | 6150  | 3187.0  |\n",
       "| 8   | \"Amazon Silk\"                  | 2323  | 7599.0  |\n",
       "| 9   | \"Chrome Mobile iOS\"            | 1987  | 4257.0  |\n",
       "| 10  | \"Android Browser\"              | 1752  | 11886.0 |\n",
       "| 11  | \"IE Mobile\"                    | 226   | 6265.5  |\n",
       "⋮\n",
       "| 25  | \"Opera Mobile\"                 | 9     | 12235.0 |\n",
       "| 26  | \"Opera Mini\"                   | 7     | 3835.0  |\n",
       "| 27  | \"Maxthon\"                      | 6     | 3961.0  |\n",
       "| 28  | \"Chromium\"                     | 5     | 2772.0  |\n",
       "| 29  | \"Puffin\"                       | 5     | 922.0   |\n",
       "| 30  | \"Opera Coast\"                  | 3     | 6091.0  |\n",
       "| 31  | \"UC Browser\"                   | 3     | 34914.0 |\n",
       "| 32  | \"moatbot\"                      | 2     | 4904.0  |\n",
       "| 33  | \"webOS Browser\"                | 2     | 17555.5 |\n",
       "| 34  | \"Firefox Alpha\"                | 1     | 3747.0  |\n",
       "| 35  | \"Nokia Services (WAP) Browser\" | 1     | 11402.0 |\n",
       "| 36  | \"SeaMonkey\"                    | 1     | 1996.0  |\n",
       "\n",
       "| Row | hist                                                                                                                            |\n",
       "|-----|---------------------------------------------------------------------------------------------------------------------------------|\n",
       "| 1   | \"[32,1018,4282,7212,8901,9018,7763,6621,5638,4906,4083,3472,2948,2340,2165,1890,1706,1601,1398,1157,1018,937,805,704,597,5562]\" |\n",
       "| 2   | \"[65,2116,6133,7217,6356,5033,3894,3216,2735,2225,1788,1558,1398,1164,993,872,711,606,563,464,437,342,322,275,246,2357]\"        |\n",
       "| 3   | \"[30,1305,4636,5553,4614,3543,2714,2141,1811,1395,1151,971,782,688,581,412,350,335,274,253,201,186,156,106,93,1079]\"            |\n",
       "| 4   | \"[0,1,23,60,230,594,1106,1698,2232,2663,2709,2494,2268,2082,1793,1607,1356,1140,997,835,671,612,504,402,369,3031]\"              |\n",
       "| 5   | \"[108,1339,2476,2686,2085,1532,1262,1032,875,598,424,385,366,310,199,180,171,122,110,74,55,72,65,36,42,512]\"                    |\n",
       "| 6   | \"[14,372,1051,1392,1398,1255,1085,832,803,575,548,383,322,267,220,156,148,115,134,99,74,82,64,38,52,505]\"                       |\n",
       "| 7   | \"[3,151,632,843,800,633,513,434,353,272,225,182,149,122,104,88,72,74,54,42,62,39,43,26,24,210]\"                                 |\n",
       "| 8   | \"[0,0,0,1,15,39,84,117,133,147,145,165,155,113,141,113,108,90,78,70,67,76,53,49,49,315]\"                                        |\n",
       "| 9   | \"[0,22,86,184,182,198,179,132,107,101,82,69,60,48,42,36,37,39,39,37,26,21,18,31,17,194]\"                                        |\n",
       "| 10  | \"[0,1,0,0,0,3,17,29,43,50,66,63,76,65,80,46,64,55,52,48,44,41,52,46,32,779]\"                                                    |\n",
       "| 11  | \"[0,0,0,0,0,2,6,10,15,18,34,30,14,15,10,6,13,5,7,2,4,4,1,2,1,27]\"                                                               |\n",
       "⋮\n",
       "| 25  | \"[0,0,0,0,0,0,0,0,0,0,0,0,0,1,1,0,0,0,0,1,0,0,1,2,0,3]\"                                                                         |\n",
       "| 26  | \"[0,0,0,1,1,0,1,2,0,0,2,0,0,0,0,0,0,0,0,0,0,0,0,0,0,0]\"                                                                         |\n",
       "| 27  | \"[0,0,0,0,1,1,1,0,1,0,0,0,0,1,0,0,0,0,0,0,0,0,0,0,1,0]\"                                                                         |\n",
       "| 28  | \"[0,0,0,0,2,1,0,0,0,1,0,0,0,0,0,1,0,0,0,0,0,0,0,0,0,0]\"                                                                         |\n",
       "| 29  | \"[0,4,0,0,0,1,0,0,0,0,0,0,0,0,0,0,0,0,0,0,0,0,0,0,0,0]\"                                                                         |\n",
       "| 30  | \"[0,0,0,0,0,0,0,1,0,0,0,1,0,0,0,0,1,0,0,0,0,0,0,0,0,0]\"                                                                         |\n",
       "| 31  | \"[0,0,0,0,0,0,0,0,0,0,0,0,0,0,0,0,0,0,0,0,0,0,0,0,0,3]\"                                                                         |\n",
       "| 32  | \"[0,0,0,0,1,0,0,0,0,0,0,0,0,1,0,0,0,0,0,0,0,0,0,0,0,0]\"                                                                         |\n",
       "| 33  | \"[0,0,0,0,0,0,0,0,0,0,0,0,0,0,0,0,0,0,0,0,0,0,0,0,0,2]\"                                                                         |\n",
       "| 34  | \"[0,0,0,0,0,0,0,1,0,0,0,0,0,0,0,0,0,0,0,0,0,0,0,0,0,0]\"                                                                         |\n",
       "| 35  | \"[0,0,0,0,0,0,0,0,0,0,0,0,0,0,0,0,0,0,0,0,0,1,0,0,0,0]\"                                                                         |\n",
       "| 36  | \"[0,0,0,1,0,0,0,0,0,0,0,0,0,0,0,0,0,0,0,0,0,0,0,0,0,0]\"                                                                         |"
      ]
     },
     "execution_count": 32,
     "metadata": {},
     "output_type": "execute_result"
    }
   ],
   "source": [
    "thresholds = getSymmetricThresholds(df)\n",
    "\n",
    "groups = by(\n",
    "    df,\n",
    "    :user_agent_family, \n",
    "    rows -> DataFrame(\n",
    "        count = size(rows, 1),\n",
    "        median = median(rows[:timers_t_done]),\n",
    "        hist = JSON.json(hist(rows[:timers_t_done], thresholds)[2])\n",
    "    )\n",
    ")\n",
    "\n",
    "sort!(groups, rev=true, cols=[:count])"
   ]
  },
  {
   "cell_type": "code",
   "execution_count": 29,
   "metadata": {
    "collapsed": false
   },
   "outputs": [
    {
     "data": {
      "text/plain": [
       "\"[14,372,1051,1392,1398,1255,1085,832,803,575,548,383,322,267,220,156,148,115,134,99,74,82,64,38,52,505]\""
      ]
     },
     "execution_count": 29,
     "metadata": {},
     "output_type": "execute_result"
    }
   ],
   "source": [
    "groups[groups[:user_agent_family] .== \"Firefox\", :hist][1]"
   ]
  },
  {
   "cell_type": "code",
   "execution_count": 30,
   "metadata": {
    "collapsed": false
   },
   "outputs": [
    {
     "data": {
      "text/html": [
       "<script>\n",
       "(function() {\n",
       "    var iframe = document.getElementById(\"demo-iframe-0.5657090769819568\");\n",
       "    if(iframe) {\n",
       "        iframe.contentWindow.postMessage([14,372,1051,1392,1398,1255,1085,832,803,575,548,383,322,267,220,156,148,115,134,99,74,82,64,38,52,505], \"*\");\n",
       "    }\n",
       "}())\n",
       "</script>\n"
      ]
     },
     "metadata": {},
     "output_type": "display_data"
    }
   ],
   "source": [
    "# Take the histogram (string) out of the dataframe, and convert it to a numeric array\n",
    "groupdata = JSON.parse(groups[groups[:user_agent_family] .== \"Firefox\", :hist][1])\n",
    "\n",
    "\n",
    "# Pass that array to the IFrame\n",
    "updateIFrame(id, groupdata)"
   ]
  },
  {
   "cell_type": "markdown",
   "metadata": {},
   "source": [
    "The output shows up in the iframe above, so scroll up to see it\n",
    "\n",
    "In fact, we could draw multiple histograms, one for each of the groups that we created"
   ]
  },
  {
   "cell_type": "code",
   "execution_count": 33,
   "metadata": {
    "collapsed": false,
    "scrolled": false
   },
   "outputs": [
    {
     "data": {
      "text/html": [
       "<!-- First create an empty iframe that's 500px high and has this id -->\n",
       "<iframe\n",
       "    id=\"demo-iframe-0.8343903762601934\"\n",
       "    height=\"500\"\n",
       "    style=\"border:none;\"\n",
       "    src=\"about:blank\">\n",
       "</iframe>\n",
       "\n",
       "\n",
       "<!-- Next create a JavaScript function with the same name as the node -->\n",
       "<script>\n",
       "    window[\"demo-iframe-0.8343903762601934\"] = function(url) {\n",
       "        var iframe = document.getElementById(\"demo-iframe-0.8343903762601934\");\n",
       "        if(iframe) {\n",
       "            iframe.width = iframe.parentNode.offsetWidth * 0.98;\n",
       "            iframe.src = url;\n",
       "        }\n",
       "    };\n",
       "</script>\n",
       "    "
      ]
     },
     "metadata": {},
     "output_type": "display_data"
    },
    {
     "data": {
      "text/html": [
       "<script>window[\"demo-iframe-0.8343903762601934\"](\"https://soasta.github.io/julia-d3-tutorial/d3/07-d3-external-data.html?data=[32,1018,4282,7212,8901,9018,7763,6621,5638,4906,4083,3472,2948,2340,2165,1890,1706,1601,1398,1157,1018,937,805,704,597,5562]\");</script>"
      ]
     },
     "metadata": {},
     "output_type": "display_data"
    },
    {
     "data": {
      "text/html": [
       "<p style=\"border-top: dashed 1px #ddd; border-bottom: solid 2px #000; padding-bottom: 3em;\">\n",
       "    <strong>Mobile Safari:</strong>\n",
       "    <em>87775</em> records, median load time: <em>4147.0</em>ms\n",
       "    </p>\n",
       "    "
      ]
     },
     "metadata": {},
     "output_type": "display_data"
    },
    {
     "data": {
      "text/html": [
       "<!-- First create an empty iframe that's 500px high and has this id -->\n",
       "<iframe\n",
       "    id=\"demo-iframe-0.344371414282427\"\n",
       "    height=\"500\"\n",
       "    style=\"border:none;\"\n",
       "    src=\"about:blank\">\n",
       "</iframe>\n",
       "\n",
       "\n",
       "<!-- Next create a JavaScript function with the same name as the node -->\n",
       "<script>\n",
       "    window[\"demo-iframe-0.344371414282427\"] = function(url) {\n",
       "        var iframe = document.getElementById(\"demo-iframe-0.344371414282427\");\n",
       "        if(iframe) {\n",
       "            iframe.width = iframe.parentNode.offsetWidth * 0.98;\n",
       "            iframe.src = url;\n",
       "        }\n",
       "    };\n",
       "</script>\n",
       "    "
      ]
     },
     "metadata": {},
     "output_type": "display_data"
    },
    {
     "data": {
      "text/html": [
       "<script>window[\"demo-iframe-0.344371414282427\"](\"https://soasta.github.io/julia-d3-tutorial/d3/07-d3-external-data.html?data=[65,2116,6133,7217,6356,5033,3894,3216,2735,2225,1788,1558,1398,1164,993,872,711,606,563,464,437,342,322,275,246,2357]\");</script>"
      ]
     },
     "metadata": {},
     "output_type": "display_data"
    },
    {
     "data": {
      "text/html": [
       "<p style=\"border-top: dashed 1px #ddd; border-bottom: solid 2px #000; padding-bottom: 3em;\">\n",
       "    <strong>Chrome:</strong>\n",
       "    <em>53086</em> records, median load time: <em>3129.0</em>ms\n",
       "    </p>\n",
       "    "
      ]
     },
     "metadata": {},
     "output_type": "display_data"
    },
    {
     "data": {
      "text/html": [
       "<!-- First create an empty iframe that's 500px high and has this id -->\n",
       "<iframe\n",
       "    id=\"demo-iframe-0.08290915911769559\"\n",
       "    height=\"500\"\n",
       "    style=\"border:none;\"\n",
       "    src=\"about:blank\">\n",
       "</iframe>\n",
       "\n",
       "\n",
       "<!-- Next create a JavaScript function with the same name as the node -->\n",
       "<script>\n",
       "    window[\"demo-iframe-0.08290915911769559\"] = function(url) {\n",
       "        var iframe = document.getElementById(\"demo-iframe-0.08290915911769559\");\n",
       "        if(iframe) {\n",
       "            iframe.width = iframe.parentNode.offsetWidth * 0.98;\n",
       "            iframe.src = url;\n",
       "        }\n",
       "    };\n",
       "</script>\n",
       "    "
      ]
     },
     "metadata": {},
     "output_type": "display_data"
    },
    {
     "data": {
      "text/html": [
       "<script>window[\"demo-iframe-0.08290915911769559\"](\"https://soasta.github.io/julia-d3-tutorial/d3/07-d3-external-data.html?data=[30,1305,4636,5553,4614,3543,2714,2141,1811,1395,1151,971,782,688,581,412,350,335,274,253,201,186,156,106,93,1079]\");</script>"
      ]
     },
     "metadata": {},
     "output_type": "display_data"
    },
    {
     "data": {
      "text/html": [
       "<p style=\"border-top: dashed 1px #ddd; border-bottom: solid 2px #000; padding-bottom: 3em;\">\n",
       "    <strong>IE:</strong>\n",
       "    <em>35360</em> records, median load time: <em>2862.0</em>ms\n",
       "    </p>\n",
       "    "
      ]
     },
     "metadata": {},
     "output_type": "display_data"
    },
    {
     "data": {
      "text/html": [
       "<!-- First create an empty iframe that's 500px high and has this id -->\n",
       "<iframe\n",
       "    id=\"demo-iframe-0.8332585795518068\"\n",
       "    height=\"500\"\n",
       "    style=\"border:none;\"\n",
       "    src=\"about:blank\">\n",
       "</iframe>\n",
       "\n",
       "\n",
       "<!-- Next create a JavaScript function with the same name as the node -->\n",
       "<script>\n",
       "    window[\"demo-iframe-0.8332585795518068\"] = function(url) {\n",
       "        var iframe = document.getElementById(\"demo-iframe-0.8332585795518068\");\n",
       "        if(iframe) {\n",
       "            iframe.width = iframe.parentNode.offsetWidth * 0.98;\n",
       "            iframe.src = url;\n",
       "        }\n",
       "    };\n",
       "</script>\n",
       "    "
      ]
     },
     "metadata": {},
     "output_type": "display_data"
    },
    {
     "data": {
      "text/html": [
       "<script>window[\"demo-iframe-0.8332585795518068\"](\"https://soasta.github.io/julia-d3-tutorial/d3/07-d3-external-data.html?data=[0,1,23,60,230,594,1106,1698,2232,2663,2709,2494,2268,2082,1793,1607,1356,1140,997,835,671,612,504,402,369,3031]\");</script>"
      ]
     },
     "metadata": {},
     "output_type": "display_data"
    },
    {
     "data": {
      "text/html": [
       "<p style=\"border-top: dashed 1px #ddd; border-bottom: solid 2px #000; padding-bottom: 3em;\">\n",
       "    <strong>Chrome Mobile:</strong>\n",
       "    <em>31477</em> records, median load time: <em>6776.0</em>ms\n",
       "    </p>\n",
       "    "
      ]
     },
     "metadata": {},
     "output_type": "display_data"
    },
    {
     "data": {
      "text/html": [
       "<!-- First create an empty iframe that's 500px high and has this id -->\n",
       "<iframe\n",
       "    id=\"demo-iframe-0.6598387901199221\"\n",
       "    height=\"500\"\n",
       "    style=\"border:none;\"\n",
       "    src=\"about:blank\">\n",
       "</iframe>\n",
       "\n",
       "\n",
       "<!-- Next create a JavaScript function with the same name as the node -->\n",
       "<script>\n",
       "    window[\"demo-iframe-0.6598387901199221\"] = function(url) {\n",
       "        var iframe = document.getElementById(\"demo-iframe-0.6598387901199221\");\n",
       "        if(iframe) {\n",
       "            iframe.width = iframe.parentNode.offsetWidth * 0.98;\n",
       "            iframe.src = url;\n",
       "        }\n",
       "    };\n",
       "</script>\n",
       "    "
      ]
     },
     "metadata": {},
     "output_type": "display_data"
    },
    {
     "data": {
      "text/html": [
       "<script>window[\"demo-iframe-0.6598387901199221\"](\"https://soasta.github.io/julia-d3-tutorial/d3/07-d3-external-data.html?data=[108,1339,2476,2686,2085,1532,1262,1032,875,598,424,385,366,310,199,180,171,122,110,74,55,72,65,36,42,512]\");</script>"
      ]
     },
     "metadata": {},
     "output_type": "display_data"
    },
    {
     "data": {
      "text/html": [
       "<p style=\"border-top: dashed 1px #ddd; border-bottom: solid 2px #000; padding-bottom: 3em;\">\n",
       "    <strong>Safari:</strong>\n",
       "    <em>17116</em> records, median load time: <em>2605.0</em>ms\n",
       "    </p>\n",
       "    "
      ]
     },
     "metadata": {},
     "output_type": "display_data"
    },
    {
     "data": {
      "text/html": [
       "<!-- First create an empty iframe that's 500px high and has this id -->\n",
       "<iframe\n",
       "    id=\"demo-iframe-0.4181674552299879\"\n",
       "    height=\"500\"\n",
       "    style=\"border:none;\"\n",
       "    src=\"about:blank\">\n",
       "</iframe>\n",
       "\n",
       "\n",
       "<!-- Next create a JavaScript function with the same name as the node -->\n",
       "<script>\n",
       "    window[\"demo-iframe-0.4181674552299879\"] = function(url) {\n",
       "        var iframe = document.getElementById(\"demo-iframe-0.4181674552299879\");\n",
       "        if(iframe) {\n",
       "            iframe.width = iframe.parentNode.offsetWidth * 0.98;\n",
       "            iframe.src = url;\n",
       "        }\n",
       "    };\n",
       "</script>\n",
       "    "
      ]
     },
     "metadata": {},
     "output_type": "display_data"
    },
    {
     "data": {
      "text/html": [
       "<script>window[\"demo-iframe-0.4181674552299879\"](\"https://soasta.github.io/julia-d3-tutorial/d3/07-d3-external-data.html?data=[14,372,1051,1392,1398,1255,1085,832,803,575,548,383,322,267,220,156,148,115,134,99,74,82,64,38,52,505]\");</script>"
      ]
     },
     "metadata": {},
     "output_type": "display_data"
    },
    {
     "data": {
      "text/html": [
       "<p style=\"border-top: dashed 1px #ddd; border-bottom: solid 2px #000; padding-bottom: 3em;\">\n",
       "    <strong>Firefox:</strong>\n",
       "    <em>11984</em> records, median load time: <em>3412.0</em>ms\n",
       "    </p>\n",
       "    "
      ]
     },
     "metadata": {},
     "output_type": "display_data"
    },
    {
     "data": {
      "text/html": [
       "<!-- First create an empty iframe that's 500px high and has this id -->\n",
       "<iframe\n",
       "    id=\"demo-iframe-0.46827702649185055\"\n",
       "    height=\"500\"\n",
       "    style=\"border:none;\"\n",
       "    src=\"about:blank\">\n",
       "</iframe>\n",
       "\n",
       "\n",
       "<!-- Next create a JavaScript function with the same name as the node -->\n",
       "<script>\n",
       "    window[\"demo-iframe-0.46827702649185055\"] = function(url) {\n",
       "        var iframe = document.getElementById(\"demo-iframe-0.46827702649185055\");\n",
       "        if(iframe) {\n",
       "            iframe.width = iframe.parentNode.offsetWidth * 0.98;\n",
       "            iframe.src = url;\n",
       "        }\n",
       "    };\n",
       "</script>\n",
       "    "
      ]
     },
     "metadata": {},
     "output_type": "display_data"
    },
    {
     "data": {
      "text/html": [
       "<script>window[\"demo-iframe-0.46827702649185055\"](\"https://soasta.github.io/julia-d3-tutorial/d3/07-d3-external-data.html?data=[3,151,632,843,800,633,513,434,353,272,225,182,149,122,104,88,72,74,54,42,62,39,43,26,24,210]\");</script>"
      ]
     },
     "metadata": {},
     "output_type": "display_data"
    },
    {
     "data": {
      "text/html": [
       "<p style=\"border-top: dashed 1px #ddd; border-bottom: solid 2px #000; padding-bottom: 3em;\">\n",
       "    <strong>Edge:</strong>\n",
       "    <em>6150</em> records, median load time: <em>3187.0</em>ms\n",
       "    </p>\n",
       "    "
      ]
     },
     "metadata": {},
     "output_type": "display_data"
    },
    {
     "data": {
      "text/html": [
       "<!-- First create an empty iframe that's 500px high and has this id -->\n",
       "<iframe\n",
       "    id=\"demo-iframe-0.6094706676791144\"\n",
       "    height=\"500\"\n",
       "    style=\"border:none;\"\n",
       "    src=\"about:blank\">\n",
       "</iframe>\n",
       "\n",
       "\n",
       "<!-- Next create a JavaScript function with the same name as the node -->\n",
       "<script>\n",
       "    window[\"demo-iframe-0.6094706676791144\"] = function(url) {\n",
       "        var iframe = document.getElementById(\"demo-iframe-0.6094706676791144\");\n",
       "        if(iframe) {\n",
       "            iframe.width = iframe.parentNode.offsetWidth * 0.98;\n",
       "            iframe.src = url;\n",
       "        }\n",
       "    };\n",
       "</script>\n",
       "    "
      ]
     },
     "metadata": {},
     "output_type": "display_data"
    },
    {
     "data": {
      "text/html": [
       "<script>window[\"demo-iframe-0.6094706676791144\"](\"https://soasta.github.io/julia-d3-tutorial/d3/07-d3-external-data.html?data=[0,0,0,1,15,39,84,117,133,147,145,165,155,113,141,113,108,90,78,70,67,76,53,49,49,315]\");</script>"
      ]
     },
     "metadata": {},
     "output_type": "display_data"
    },
    {
     "data": {
      "text/html": [
       "<p style=\"border-top: dashed 1px #ddd; border-bottom: solid 2px #000; padding-bottom: 3em;\">\n",
       "    <strong>Amazon Silk:</strong>\n",
       "    <em>2323</em> records, median load time: <em>7599.0</em>ms\n",
       "    </p>\n",
       "    "
      ]
     },
     "metadata": {},
     "output_type": "display_data"
    },
    {
     "data": {
      "text/html": [
       "<!-- First create an empty iframe that's 500px high and has this id -->\n",
       "<iframe\n",
       "    id=\"demo-iframe-0.40443771565004605\"\n",
       "    height=\"500\"\n",
       "    style=\"border:none;\"\n",
       "    src=\"about:blank\">\n",
       "</iframe>\n",
       "\n",
       "\n",
       "<!-- Next create a JavaScript function with the same name as the node -->\n",
       "<script>\n",
       "    window[\"demo-iframe-0.40443771565004605\"] = function(url) {\n",
       "        var iframe = document.getElementById(\"demo-iframe-0.40443771565004605\");\n",
       "        if(iframe) {\n",
       "            iframe.width = iframe.parentNode.offsetWidth * 0.98;\n",
       "            iframe.src = url;\n",
       "        }\n",
       "    };\n",
       "</script>\n",
       "    "
      ]
     },
     "metadata": {},
     "output_type": "display_data"
    },
    {
     "data": {
      "text/html": [
       "<script>window[\"demo-iframe-0.40443771565004605\"](\"https://soasta.github.io/julia-d3-tutorial/d3/07-d3-external-data.html?data=[0,22,86,184,182,198,179,132,107,101,82,69,60,48,42,36,37,39,39,37,26,21,18,31,17,194]\");</script>"
      ]
     },
     "metadata": {},
     "output_type": "display_data"
    },
    {
     "data": {
      "text/html": [
       "<p style=\"border-top: dashed 1px #ddd; border-bottom: solid 2px #000; padding-bottom: 3em;\">\n",
       "    <strong>Chrome Mobile iOS:</strong>\n",
       "    <em>1987</em> records, median load time: <em>4257.0</em>ms\n",
       "    </p>\n",
       "    "
      ]
     },
     "metadata": {},
     "output_type": "display_data"
    },
    {
     "data": {
      "text/html": [
       "<!-- First create an empty iframe that's 500px high and has this id -->\n",
       "<iframe\n",
       "    id=\"demo-iframe-0.9811775062809025\"\n",
       "    height=\"500\"\n",
       "    style=\"border:none;\"\n",
       "    src=\"about:blank\">\n",
       "</iframe>\n",
       "\n",
       "\n",
       "<!-- Next create a JavaScript function with the same name as the node -->\n",
       "<script>\n",
       "    window[\"demo-iframe-0.9811775062809025\"] = function(url) {\n",
       "        var iframe = document.getElementById(\"demo-iframe-0.9811775062809025\");\n",
       "        if(iframe) {\n",
       "            iframe.width = iframe.parentNode.offsetWidth * 0.98;\n",
       "            iframe.src = url;\n",
       "        }\n",
       "    };\n",
       "</script>\n",
       "    "
      ]
     },
     "metadata": {},
     "output_type": "display_data"
    },
    {
     "data": {
      "text/html": [
       "<script>window[\"demo-iframe-0.9811775062809025\"](\"https://soasta.github.io/julia-d3-tutorial/d3/07-d3-external-data.html?data=[0,1,0,0,0,3,17,29,43,50,66,63,76,65,80,46,64,55,52,48,44,41,52,46,32,779]\");</script>"
      ]
     },
     "metadata": {},
     "output_type": "display_data"
    },
    {
     "data": {
      "text/html": [
       "<p style=\"border-top: dashed 1px #ddd; border-bottom: solid 2px #000; padding-bottom: 3em;\">\n",
       "    <strong>Android Browser:</strong>\n",
       "    <em>1752</em> records, median load time: <em>11886.0</em>ms\n",
       "    </p>\n",
       "    "
      ]
     },
     "metadata": {},
     "output_type": "display_data"
    }
   ],
   "source": [
    "for i in 1:min(10, size(groups, 1))\n",
    "    local id = createIFrame()\n",
    "    local data = groups[i, :hist]\n",
    "    updateIFrame(id, \"https://soasta.github.io/julia-d3-tutorial/d3/07-d3-external-data.html?data=$(data)\")\n",
    "\n",
    "    display(\"text/html\", \"\"\"\n",
    "    <p style=\"border-top: dashed 1px #ddd; border-bottom: solid 2px #000; padding-bottom: 3em;\">\n",
    "        <strong>$(groups[i, :user_agent_family]):</strong>\n",
    "        <em>$(groups[i, :count])</em> records, median load time: <em>$(groups[i, :median])</em>ms\n",
    "        </p>\n",
    "        \"\"\"\n",
    "    )\n",
    "end"
   ]
  },
  {
   "cell_type": "code",
   "execution_count": null,
   "metadata": {
    "collapsed": true
   },
   "outputs": [],
   "source": []
  }
 ],
 "metadata": {
  "kernelspec": {
   "display_name": "Julia 0.4.3",
   "language": "julia",
   "name": "julia-0.4"
  },
  "language_info": {
   "file_extension": ".jl",
   "mimetype": "application/julia",
   "name": "julia",
   "version": "0.4.3"
  }
 },
 "nbformat": 4,
 "nbformat_minor": 0
}
