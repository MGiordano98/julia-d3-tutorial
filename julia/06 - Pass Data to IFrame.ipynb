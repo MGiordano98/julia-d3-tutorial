{
 "cells": [
  {
   "cell_type": "markdown",
   "metadata": {},
   "source": [
    "## We'll extend our previous examples\n",
    "\n",
    "We can now extend [05 - Include an IFrame.ipynb](05%20-%20Include%20an%20IFrame.ipynb) to pass data to the iframe using either the query string or using `window.postMessage`.  In this case we'll use `https://soasta.github.io/osbridge-julia-d3/d3/07-d3-external-data.html?data=<data>` as our URL.\n",
    "\n",
    "Our `createIFrame` and `updateIFrame` functions remain the same."
   ]
  },
  {
   "cell_type": "code",
   "execution_count": 7,
   "metadata": {
    "collapsed": false
   },
   "outputs": [
    {
     "data": {
      "text/plain": [
       "createIFrame (generic function with 1 method)"
      ]
     },
     "execution_count": 7,
     "metadata": {},
     "output_type": "execute_result"
    }
   ],
   "source": [
    "function createIFrame()\n",
    "    displayid = \"demo-iframe-\" * string(rand())\n",
    "    \n",
    "    display(\n",
    "        \"text/html\", \n",
    "        \"\"\"\n",
    "    <!-- First create an empty iframe that's 500px high and has this id -->\n",
    "    <iframe\n",
    "        id=\"$(displayid)\"\n",
    "        height=\"500\"\n",
    "        style=\"border:none;\"\n",
    "        src=\"about:blank\">\n",
    "    </iframe>\n",
    "\n",
    "\n",
    "    <!-- Next create a JavaScript function with the same name as the node -->\n",
    "    <script>\n",
    "        window[\"$(displayid)\"] = function(url) {\n",
    "            var iframe = document.getElementById(\"$(displayid)\");\n",
    "            if(iframe) {\n",
    "                iframe.width = iframe.parentNode.offsetWidth * 0.98;\n",
    "                iframe.src = url;\n",
    "            }\n",
    "        };\n",
    "    </script>\n",
    "        \"\"\"\n",
    "    )\n",
    "    \n",
    "    return displayid\n",
    "end"
   ]
  },
  {
   "cell_type": "markdown",
   "metadata": {},
   "source": [
    "### Add Type to `updateIFrame` signature\n",
    "\n",
    "Notice that we add a String Type for the `updateIFrame` method.  This will allow us to overload it later"
   ]
  },
  {
   "cell_type": "code",
   "execution_count": 3,
   "metadata": {
    "collapsed": false
   },
   "outputs": [
    {
     "data": {
      "text/plain": [
       "updateIFrame (generic function with 1 method)"
      ]
     },
     "execution_count": 3,
     "metadata": {},
     "output_type": "execute_result"
    }
   ],
   "source": [
    "function updateIFrame(displayid::String, url::String)\n",
    "    display(\n",
    "        \"text/html\",\n",
    "        \"\"\"<script>window[\"$(displayid)\"](\"$(url)\");</script>\"\"\"\n",
    "    )\n",
    "end"
   ]
  },
  {
   "cell_type": "markdown",
   "metadata": {},
   "source": [
    "## Add `window.postMessage`\n",
    "\n",
    "We now overload the `updateIFrame` method to accept a Numeric Array and pass that on to the iframe using `window.postMessage`"
   ]
  },
  {
   "cell_type": "code",
   "execution_count": 29,
   "metadata": {
    "collapsed": false
   },
   "outputs": [
    {
     "data": {
      "text/plain": [
       "updateIFrame (generic function with 3 methods)"
      ]
     },
     "execution_count": 29,
     "metadata": {},
     "output_type": "execute_result"
    }
   ],
   "source": [
    "function updateIFrame(displayid::String, data::Array{Any, 1})\n",
    "    display(\n",
    "        \"text/html\",\n",
    "        \"\"\"\n",
    "        <script>\n",
    "        (function() {\n",
    "            var iframe = document.getElementById(\"$(displayid)\");\n",
    "            if(iframe) {\n",
    "                iframe.contentWindow.postMessage($(JSON.json(data)), \"*\");\n",
    "            }\n",
    "        }())\n",
    "        </script>\n",
    "        \"\"\"\n",
    "    )\n",
    "end"
   ]
  },
  {
   "cell_type": "markdown",
   "metadata": {},
   "source": [
    "## Tying these together, we can draw and update the iframe"
   ]
  },
  {
   "cell_type": "code",
   "execution_count": 17,
   "metadata": {
    "collapsed": false
   },
   "outputs": [
    {
     "data": {
      "text/html": [
       "<!-- First create an empty iframe that's 500px high and has this id -->\n",
       "<iframe\n",
       "id=\"demo-iframe-0.8031543824513792\"\n",
       "height=\"500\"\n",
       "style=\"border:none;\"\n",
       "src=\"about:blank\">\n",
       "</iframe>\n",
       "\n",
       "\n",
       "<!-- Next create a JavaScript function with the same name as the node -->\n",
       "<script>\n",
       "window[\"demo-iframe-0.8031543824513792\"] = function(url) {\n",
       "    var iframe = document.getElementById(\"demo-iframe-0.8031543824513792\");\n",
       "    if(iframe) {\n",
       "        iframe.width = iframe.parentNode.offsetWidth * 0.98;\n",
       "        iframe.src = url;\n",
       "    }\n",
       "};\n",
       "</script>\n"
      ]
     },
     "metadata": {},
     "output_type": "display_data"
    },
    {
     "data": {
      "text/html": [
       "<script>window[\"demo-iframe-0.8031543824513792\"](\"https://soasta.github.io/osbridge-julia-d3/d3/07-d3-external-data.html?data=36,90,168,370,589,867,951,873,838,752,637,542,479,359,303,291,199,186,146,119,115,100,77,90,67,753\");</script>"
      ]
     },
     "metadata": {},
     "output_type": "display_data"
    }
   ],
   "source": [
    "id = createIFrame()\n",
    "\n",
    "# Note that we do not include the [] for data here since this is not JSON, it's just a csv\n",
    "updateIFrame(id, \"https://soasta.github.io/osbridge-julia-d3/d3/07-d3-external-data.html?data=36,90,168,370,589,867,951,873,838,752,637,542,479,359,303,291,199,186,146,119,115,100,77,90,67,753\")"
   ]
  },
  {
   "cell_type": "markdown",
   "metadata": {},
   "source": [
    "## We can pass new data to the IFrame\n",
    "\n",
    "By calling `updateIFrame` with a a data array, we can change what's displayed"
   ]
  },
  {
   "cell_type": "code",
   "execution_count": 18,
   "metadata": {
    "collapsed": false
   },
   "outputs": [
    {
     "data": {
      "text/html": [
       "<script>\n",
       "(function() {\n",
       "    var iframe = document.getElementById(\"demo-iframe-0.8031543824513792\");\n",
       "    if(iframe) {\n",
       "        iframe.contentWindow.postMessage([0,0,0,2,6,5,10,11,15,18,25,11,19,8,4,8,3,10,6,6,2,2,1,1,1,24], \"*\");\n",
       "    }\n",
       "}())\n",
       "</script>\n"
      ]
     },
     "metadata": {},
     "output_type": "display_data"
    }
   ],
   "source": [
    "updateIFrame(id, Int64[0,0,0,2,6,5,10,11,15,18,25,11,19,8,4,8,3,10,6,6,2,2,1,1,1,24])"
   ]
  },
  {
   "cell_type": "markdown",
   "metadata": {
    "collapsed": true
   },
   "source": [
    "## DataFrame to IFrame\n",
    "\n",
    "We can even get our DataFrame code to pass data to the IFrame"
   ]
  },
  {
   "cell_type": "code",
   "execution_count": 20,
   "metadata": {
    "collapsed": false
   },
   "outputs": [
    {
     "data": {
      "text/plain": [
       "getSymmetricThresholds (generic function with 1 method)"
      ]
     },
     "execution_count": 20,
     "metadata": {},
     "output_type": "execute_result"
    }
   ],
   "source": [
    "using DataFrames\n",
    "df = readtable(\"data.csv\");\n",
    "\n",
    "# Function to set histogram thresholds after dropping outliers based on IQR\n",
    "function getSymmetricThresholds(results::DataFrame; timer::Symbol=:timers_t_done)\n",
    "    summary = summarystats(results[timer])\n",
    "    fw  = (summary.q75-summary.q25)*1.5\n",
    "\n",
    "    low = round(Int64, max(summary.min, summary.q25-fw))\n",
    "    high = round(Int64, min(summary.max, summary.q75+fw))+1\n",
    "\n",
    "    thresholds::Array{Int64, 1} = []\n",
    "\n",
    "    nthresholds=25\n",
    "\n",
    "    range = high - low\n",
    "\n",
    "    for i in 0:nthresholds-1\n",
    "        push!(thresholds, round(Int64, low + i * range/nthresholds))\n",
    "    end\n",
    "\n",
    "    push!(thresholds, high)\n",
    "    if high < round(Int64, summary.max)\n",
    "        push!(thresholds, round(Int64, summary.max))\n",
    "    end\n",
    "\n",
    "    return thresholds\n",
    "end"
   ]
  },
  {
   "cell_type": "code",
   "execution_count": 21,
   "metadata": {
    "collapsed": false
   },
   "outputs": [
    {
     "data": {
      "text/html": [
       "<table class=\"data-frame\"><tr><th></th><th>user_agent_family</th><th>count</th><th>median</th><th>hist</th></tr><tr><th>1</th><td>AOL</td><td>5</td><td>7119.0</td><td>[0,0,0,0,0,0,0,1,0,0,0,1,0,0,1,0,0,1,1,0,0,0,0,0,0,0]</td></tr><tr><th>2</th><td>Android Browser</td><td>32</td><td>14062.0</td><td>[0,0,0,0,1,0,0,0,1,1,1,2,0,0,1,0,0,2,1,0,1,1,0,0,0,20]</td></tr><tr><th>3</th><td>BlackBerry WebKit</td><td>3</td><td>11658.0</td><td>[0,0,0,0,0,0,0,0,0,0,0,0,0,0,0,0,0,1,0,0,0,0,0,0,1,1]</td></tr><tr><th>4</th><td>Chrome</td><td>3423</td><td>3961.0</td><td>[15,39,81,174,283,367,371,311,309,255,208,161,135,100,89,75,69,52,27,27,28,16,20,21,12,178]</td></tr><tr><th>5</th><td>Chrome Mobile</td><td>57</td><td>8059.0</td><td>[1,0,0,0,0,0,0,1,2,2,1,4,2,0,6,8,2,1,5,1,1,0,3,2,3,12]</td></tr><tr><th>6</th><td>Chrome Mobile iOS</td><td>3</td><td>8589.0</td><td>[0,0,0,0,0,0,0,0,0,0,0,1,0,0,0,0,0,1,0,0,0,0,0,0,0,1]</td></tr><tr><th>7</th><td>Firefox</td><td>1609</td><td>4978.0</td><td>[5,8,17,32,62,95,112,148,153,121,122,93,75,58,61,66,40,33,38,28,21,29,8,19,10,155]</td></tr><tr><th>8</th><td>IE</td><td>3309</td><td>5047.0</td><td>[6,25,34,75,136,234,270,253,243,268,226,214,204,152,122,110,69,68,50,46,54,48,37,37,36,291]</td></tr><tr><th>9</th><td>IE Mobile</td><td>20</td><td>14156.0</td><td>[0,0,0,0,0,0,0,0,0,0,0,0,0,1,0,0,0,0,0,0,2,0,2,2,1,12]</td></tr><tr><th>10</th><td>Iceweasel</td><td>1</td><td>5657.0</td><td>[0,0,0,0,0,0,0,0,0,0,0,1,0,0,0,0,0,0,0,0,0,0,0,0,0,0]</td></tr><tr><th>11</th><td>Mobile Safari</td><td>198</td><td>5479.0</td><td>[0,0,0,2,6,5,10,11,15,18,25,11,19,8,4,8,3,10,6,6,2,2,1,1,1,24]</td></tr><tr><th>12</th><td>Opera</td><td>19</td><td>5841.0</td><td>[0,1,1,2,0,0,0,3,1,0,1,0,3,0,3,0,1,0,1,0,1,0,0,0,0,1]</td></tr><tr><th>13</th><td>Pale Moon (Firefox Variant)</td><td>1</td><td>6097.0</td><td>[0,0,0,0,0,0,0,0,0,0,0,0,1,0,0,0,0,0,0,0,0,0,0,0,0,0]</td></tr><tr><th>14</th><td>Safari</td><td>1318</td><td>3574.5</td><td>[9,17,35,85,101,166,188,145,114,87,53,54,40,40,16,24,15,17,17,11,5,4,6,8,3,58]</td></tr></table>"
      ],
      "text/plain": [
       "14x4 DataFrame\n",
       "| Row | user_agent_family             | count | median  |\n",
       "|-----|-------------------------------|-------|---------|\n",
       "| 1   | \"AOL\"                         | 5     | 7119.0  |\n",
       "| 2   | \"Android Browser\"             | 32    | 14062.0 |\n",
       "| 3   | \"BlackBerry WebKit\"           | 3     | 11658.0 |\n",
       "| 4   | \"Chrome\"                      | 3423  | 3961.0  |\n",
       "| 5   | \"Chrome Mobile\"               | 57    | 8059.0  |\n",
       "| 6   | \"Chrome Mobile iOS\"           | 3     | 8589.0  |\n",
       "| 7   | \"Firefox\"                     | 1609  | 4978.0  |\n",
       "| 8   | \"IE\"                          | 3309  | 5047.0  |\n",
       "| 9   | \"IE Mobile\"                   | 20    | 14156.0 |\n",
       "| 10  | \"Iceweasel\"                   | 1     | 5657.0  |\n",
       "| 11  | \"Mobile Safari\"               | 198   | 5479.0  |\n",
       "| 12  | \"Opera\"                       | 19    | 5841.0  |\n",
       "| 13  | \"Pale Moon (Firefox Variant)\" | 1     | 6097.0  |\n",
       "| 14  | \"Safari\"                      | 1318  | 3574.5  |\n",
       "\n",
       "| Row | hist                                                                                          |\n",
       "|-----|-----------------------------------------------------------------------------------------------|\n",
       "| 1   | \"[0,0,0,0,0,0,0,1,0,0,0,1,0,0,1,0,0,1,1,0,0,0,0,0,0,0]\"                                       |\n",
       "| 2   | \"[0,0,0,0,1,0,0,0,1,1,1,2,0,0,1,0,0,2,1,0,1,1,0,0,0,20]\"                                      |\n",
       "| 3   | \"[0,0,0,0,0,0,0,0,0,0,0,0,0,0,0,0,0,1,0,0,0,0,0,0,1,1]\"                                       |\n",
       "| 4   | \"[15,39,81,174,283,367,371,311,309,255,208,161,135,100,89,75,69,52,27,27,28,16,20,21,12,178]\" |\n",
       "| 5   | \"[1,0,0,0,0,0,0,1,2,2,1,4,2,0,6,8,2,1,5,1,1,0,3,2,3,12]\"                                      |\n",
       "| 6   | \"[0,0,0,0,0,0,0,0,0,0,0,1,0,0,0,0,0,1,0,0,0,0,0,0,0,1]\"                                       |\n",
       "| 7   | \"[5,8,17,32,62,95,112,148,153,121,122,93,75,58,61,66,40,33,38,28,21,29,8,19,10,155]\"          |\n",
       "| 8   | \"[6,25,34,75,136,234,270,253,243,268,226,214,204,152,122,110,69,68,50,46,54,48,37,37,36,291]\" |\n",
       "| 9   | \"[0,0,0,0,0,0,0,0,0,0,0,0,0,1,0,0,0,0,0,0,2,0,2,2,1,12]\"                                      |\n",
       "| 10  | \"[0,0,0,0,0,0,0,0,0,0,0,1,0,0,0,0,0,0,0,0,0,0,0,0,0,0]\"                                       |\n",
       "| 11  | \"[0,0,0,2,6,5,10,11,15,18,25,11,19,8,4,8,3,10,6,6,2,2,1,1,1,24]\"                              |\n",
       "| 12  | \"[0,1,1,2,0,0,0,3,1,0,1,0,3,0,3,0,1,0,1,0,1,0,0,0,0,1]\"                                       |\n",
       "| 13  | \"[0,0,0,0,0,0,0,0,0,0,0,0,1,0,0,0,0,0,0,0,0,0,0,0,0,0]\"                                       |\n",
       "| 14  | \"[9,17,35,85,101,166,188,145,114,87,53,54,40,40,16,24,15,17,17,11,5,4,6,8,3,58]\"              |"
      ]
     },
     "execution_count": 21,
     "metadata": {},
     "output_type": "execute_result"
    }
   ],
   "source": [
    "thresholds = getSymmetricThresholds(df)\n",
    "\n",
    "groups = by(\n",
    "    df,\n",
    "    :user_agent_family, \n",
    "    rows -> DataFrame(\n",
    "        count = size(rows, 1),\n",
    "        median = median(rows[:timers_t_done]),\n",
    "        hist = JSON.json(hist(rows[:timers_t_done], thresholds)[2])\n",
    "    )\n",
    ")"
   ]
  },
  {
   "cell_type": "code",
   "execution_count": 27,
   "metadata": {
    "collapsed": false
   },
   "outputs": [
    {
     "data": {
      "text/plain": [
       "\"[5,8,17,32,62,95,112,148,153,121,122,93,75,58,61,66,40,33,38,28,21,29,8,19,10,155]\""
      ]
     },
     "execution_count": 27,
     "metadata": {},
     "output_type": "execute_result"
    }
   ],
   "source": [
    "groups[groups[:user_agent_family] .== \"Firefox\", :hist][1]"
   ]
  },
  {
   "cell_type": "code",
   "execution_count": 30,
   "metadata": {
    "collapsed": false
   },
   "outputs": [
    {
     "data": {
      "text/html": [
       "<script>\n",
       "(function() {\n",
       "    var iframe = document.getElementById(\"demo-iframe-0.8031543824513792\");\n",
       "    if(iframe) {\n",
       "        iframe.contentWindow.postMessage([5,8,17,32,62,95,112,148,153,121,122,93,75,58,61,66,40,33,38,28,21,29,8,19,10,155], \"*\");\n",
       "    }\n",
       "}())\n",
       "</script>\n"
      ]
     },
     "metadata": {},
     "output_type": "display_data"
    }
   ],
   "source": [
    "# Take the histogram (string) out of the dataframe, and convert it to a numeric array\n",
    "groupdata = JSON.parse(groups[groups[:user_agent_family] .== \"Firefox\", :hist][1])\n",
    "\n",
    "\n",
    "# Pass that array to the IFrame\n",
    "updateIFrame(id, groupdata)"
   ]
  },
  {
   "cell_type": "markdown",
   "metadata": {},
   "source": [
    "The output shows up in the iframe above, so scroll up to see it\n",
    "\n",
    "In fact, we could draw multiple histograms, one for each of the groups that we created"
   ]
  },
  {
   "cell_type": "code",
   "execution_count": 46,
   "metadata": {
    "collapsed": false,
    "scrolled": false
   },
   "outputs": [
    {
     "data": {
      "text/html": [
       "<!-- First create an empty iframe that's 500px high and has this id -->\n",
       "<iframe\n",
       "id=\"demo-iframe-0.12321200929416798\"\n",
       "height=\"500\"\n",
       "style=\"border:none;\"\n",
       "src=\"about:blank\">\n",
       "</iframe>\n",
       "\n",
       "\n",
       "<!-- Next create a JavaScript function with the same name as the node -->\n",
       "<script>\n",
       "window[\"demo-iframe-0.12321200929416798\"] = function(url) {\n",
       "    var iframe = document.getElementById(\"demo-iframe-0.12321200929416798\");\n",
       "    if(iframe) {\n",
       "        iframe.width = iframe.parentNode.offsetWidth * 0.98;\n",
       "        iframe.src = url;\n",
       "    }\n",
       "};\n",
       "</script>\n"
      ]
     },
     "metadata": {},
     "output_type": "display_data"
    },
    {
     "data": {
      "text/html": [
       "<script>window[\"demo-iframe-0.12321200929416798\"](\"https://soasta.github.io/osbridge-julia-d3/d3/07-d3-external-data.html?data=[0,0,0,0,0,0,0,1,0,0,0,1,0,0,1,0,0,1,1,0,0,0,0,0,0,0]\");</script>"
      ]
     },
     "metadata": {},
     "output_type": "display_data"
    },
    {
     "data": {
      "text/html": [
       "<p style=\"border-top: dashed 1px #ddd; border-bottom: solid 2px #000; padding-bottom: 3em;\">\n",
       "<strong>AOL:</strong>\n",
       "<em>5</em> records, median load time: <em>7119.0</em>ms\n",
       "</p>\n"
      ]
     },
     "metadata": {},
     "output_type": "display_data"
    },
    {
     "data": {
      "text/html": [
       "<!-- First create an empty iframe that's 500px high and has this id -->\n",
       "<iframe\n",
       "id=\"demo-iframe-0.9835246990399951\"\n",
       "height=\"500\"\n",
       "style=\"border:none;\"\n",
       "src=\"about:blank\">\n",
       "</iframe>\n",
       "\n",
       "\n",
       "<!-- Next create a JavaScript function with the same name as the node -->\n",
       "<script>\n",
       "window[\"demo-iframe-0.9835246990399951\"] = function(url) {\n",
       "    var iframe = document.getElementById(\"demo-iframe-0.9835246990399951\");\n",
       "    if(iframe) {\n",
       "        iframe.width = iframe.parentNode.offsetWidth * 0.98;\n",
       "        iframe.src = url;\n",
       "    }\n",
       "};\n",
       "</script>\n"
      ]
     },
     "metadata": {},
     "output_type": "display_data"
    },
    {
     "data": {
      "text/html": [
       "<script>window[\"demo-iframe-0.9835246990399951\"](\"https://soasta.github.io/osbridge-julia-d3/d3/07-d3-external-data.html?data=[0,0,0,0,1,0,0,0,1,1,1,2,0,0,1,0,0,2,1,0,1,1,0,0,0,20]\");</script>"
      ]
     },
     "metadata": {},
     "output_type": "display_data"
    },
    {
     "data": {
      "text/html": [
       "<p style=\"border-top: dashed 1px #ddd; border-bottom: solid 2px #000; padding-bottom: 3em;\">\n",
       "<strong>Android Browser:</strong>\n",
       "<em>32</em> records, median load time: <em>14062.0</em>ms\n",
       "</p>\n"
      ]
     },
     "metadata": {},
     "output_type": "display_data"
    },
    {
     "data": {
      "text/html": [
       "<!-- First create an empty iframe that's 500px high and has this id -->\n",
       "<iframe\n",
       "id=\"demo-iframe-0.2819176643728687\"\n",
       "height=\"500\"\n",
       "style=\"border:none;\"\n",
       "src=\"about:blank\">\n",
       "</iframe>\n",
       "\n",
       "\n",
       "<!-- Next create a JavaScript function with the same name as the node -->\n",
       "<script>\n",
       "window[\"demo-iframe-0.2819176643728687\"] = function(url) {\n",
       "    var iframe = document.getElementById(\"demo-iframe-0.2819176643728687\");\n",
       "    if(iframe) {\n",
       "        iframe.width = iframe.parentNode.offsetWidth * 0.98;\n",
       "        iframe.src = url;\n",
       "    }\n",
       "};\n",
       "</script>\n"
      ]
     },
     "metadata": {},
     "output_type": "display_data"
    },
    {
     "data": {
      "text/html": [
       "<script>window[\"demo-iframe-0.2819176643728687\"](\"https://soasta.github.io/osbridge-julia-d3/d3/07-d3-external-data.html?data=[0,0,0,0,0,0,0,0,0,0,0,0,0,0,0,0,0,1,0,0,0,0,0,0,1,1]\");</script>"
      ]
     },
     "metadata": {},
     "output_type": "display_data"
    },
    {
     "data": {
      "text/html": [
       "<p style=\"border-top: dashed 1px #ddd; border-bottom: solid 2px #000; padding-bottom: 3em;\">\n",
       "<strong>BlackBerry WebKit:</strong>\n",
       "<em>3</em> records, median load time: <em>11658.0</em>ms\n",
       "</p>\n"
      ]
     },
     "metadata": {},
     "output_type": "display_data"
    },
    {
     "data": {
      "text/html": [
       "<!-- First create an empty iframe that's 500px high and has this id -->\n",
       "<iframe\n",
       "id=\"demo-iframe-0.10329533919433964\"\n",
       "height=\"500\"\n",
       "style=\"border:none;\"\n",
       "src=\"about:blank\">\n",
       "</iframe>\n",
       "\n",
       "\n",
       "<!-- Next create a JavaScript function with the same name as the node -->\n",
       "<script>\n",
       "window[\"demo-iframe-0.10329533919433964\"] = function(url) {\n",
       "    var iframe = document.getElementById(\"demo-iframe-0.10329533919433964\");\n",
       "    if(iframe) {\n",
       "        iframe.width = iframe.parentNode.offsetWidth * 0.98;\n",
       "        iframe.src = url;\n",
       "    }\n",
       "};\n",
       "</script>\n"
      ]
     },
     "metadata": {},
     "output_type": "display_data"
    },
    {
     "data": {
      "text/html": [
       "<script>window[\"demo-iframe-0.10329533919433964\"](\"https://soasta.github.io/osbridge-julia-d3/d3/07-d3-external-data.html?data=[15,39,81,174,283,367,371,311,309,255,208,161,135,100,89,75,69,52,27,27,28,16,20,21,12,178]\");</script>"
      ]
     },
     "metadata": {},
     "output_type": "display_data"
    },
    {
     "data": {
      "text/html": [
       "<p style=\"border-top: dashed 1px #ddd; border-bottom: solid 2px #000; padding-bottom: 3em;\">\n",
       "<strong>Chrome:</strong>\n",
       "<em>3423</em> records, median load time: <em>3961.0</em>ms\n",
       "</p>\n"
      ]
     },
     "metadata": {},
     "output_type": "display_data"
    },
    {
     "data": {
      "text/html": [
       "<!-- First create an empty iframe that's 500px high and has this id -->\n",
       "<iframe\n",
       "id=\"demo-iframe-0.6360003619432462\"\n",
       "height=\"500\"\n",
       "style=\"border:none;\"\n",
       "src=\"about:blank\">\n",
       "</iframe>\n",
       "\n",
       "\n",
       "<!-- Next create a JavaScript function with the same name as the node -->\n",
       "<script>\n",
       "window[\"demo-iframe-0.6360003619432462\"] = function(url) {\n",
       "    var iframe = document.getElementById(\"demo-iframe-0.6360003619432462\");\n",
       "    if(iframe) {\n",
       "        iframe.width = iframe.parentNode.offsetWidth * 0.98;\n",
       "        iframe.src = url;\n",
       "    }\n",
       "};\n",
       "</script>\n"
      ]
     },
     "metadata": {},
     "output_type": "display_data"
    },
    {
     "data": {
      "text/html": [
       "<script>window[\"demo-iframe-0.6360003619432462\"](\"https://soasta.github.io/osbridge-julia-d3/d3/07-d3-external-data.html?data=[1,0,0,0,0,0,0,1,2,2,1,4,2,0,6,8,2,1,5,1,1,0,3,2,3,12]\");</script>"
      ]
     },
     "metadata": {},
     "output_type": "display_data"
    },
    {
     "data": {
      "text/html": [
       "<p style=\"border-top: dashed 1px #ddd; border-bottom: solid 2px #000; padding-bottom: 3em;\">\n",
       "<strong>Chrome Mobile:</strong>\n",
       "<em>57</em> records, median load time: <em>8059.0</em>ms\n",
       "</p>\n"
      ]
     },
     "metadata": {},
     "output_type": "display_data"
    },
    {
     "data": {
      "text/html": [
       "<!-- First create an empty iframe that's 500px high and has this id -->\n",
       "<iframe\n",
       "id=\"demo-iframe-0.26307410486878036\"\n",
       "height=\"500\"\n",
       "style=\"border:none;\"\n",
       "src=\"about:blank\">\n",
       "</iframe>\n",
       "\n",
       "\n",
       "<!-- Next create a JavaScript function with the same name as the node -->\n",
       "<script>\n",
       "window[\"demo-iframe-0.26307410486878036\"] = function(url) {\n",
       "    var iframe = document.getElementById(\"demo-iframe-0.26307410486878036\");\n",
       "    if(iframe) {\n",
       "        iframe.width = iframe.parentNode.offsetWidth * 0.98;\n",
       "        iframe.src = url;\n",
       "    }\n",
       "};\n",
       "</script>\n"
      ]
     },
     "metadata": {},
     "output_type": "display_data"
    },
    {
     "data": {
      "text/html": [
       "<script>window[\"demo-iframe-0.26307410486878036\"](\"https://soasta.github.io/osbridge-julia-d3/d3/07-d3-external-data.html?data=[0,0,0,0,0,0,0,0,0,0,0,1,0,0,0,0,0,1,0,0,0,0,0,0,0,1]\");</script>"
      ]
     },
     "metadata": {},
     "output_type": "display_data"
    },
    {
     "data": {
      "text/html": [
       "<p style=\"border-top: dashed 1px #ddd; border-bottom: solid 2px #000; padding-bottom: 3em;\">\n",
       "<strong>Chrome Mobile iOS:</strong>\n",
       "<em>3</em> records, median load time: <em>8589.0</em>ms\n",
       "</p>\n"
      ]
     },
     "metadata": {},
     "output_type": "display_data"
    },
    {
     "data": {
      "text/html": [
       "<!-- First create an empty iframe that's 500px high and has this id -->\n",
       "<iframe\n",
       "id=\"demo-iframe-0.6589061466552395\"\n",
       "height=\"500\"\n",
       "style=\"border:none;\"\n",
       "src=\"about:blank\">\n",
       "</iframe>\n",
       "\n",
       "\n",
       "<!-- Next create a JavaScript function with the same name as the node -->\n",
       "<script>\n",
       "window[\"demo-iframe-0.6589061466552395\"] = function(url) {\n",
       "    var iframe = document.getElementById(\"demo-iframe-0.6589061466552395\");\n",
       "    if(iframe) {\n",
       "        iframe.width = iframe.parentNode.offsetWidth * 0.98;\n",
       "        iframe.src = url;\n",
       "    }\n",
       "};\n",
       "</script>\n"
      ]
     },
     "metadata": {},
     "output_type": "display_data"
    },
    {
     "data": {
      "text/html": [
       "<script>window[\"demo-iframe-0.6589061466552395\"](\"https://soasta.github.io/osbridge-julia-d3/d3/07-d3-external-data.html?data=[5,8,17,32,62,95,112,148,153,121,122,93,75,58,61,66,40,33,38,28,21,29,8,19,10,155]\");</script>"
      ]
     },
     "metadata": {},
     "output_type": "display_data"
    },
    {
     "data": {
      "text/html": [
       "<p style=\"border-top: dashed 1px #ddd; border-bottom: solid 2px #000; padding-bottom: 3em;\">\n",
       "<strong>Firefox:</strong>\n",
       "<em>1609</em> records, median load time: <em>4978.0</em>ms\n",
       "</p>\n"
      ]
     },
     "metadata": {},
     "output_type": "display_data"
    },
    {
     "data": {
      "text/html": [
       "<!-- First create an empty iframe that's 500px high and has this id -->\n",
       "<iframe\n",
       "id=\"demo-iframe-0.48625435588959065\"\n",
       "height=\"500\"\n",
       "style=\"border:none;\"\n",
       "src=\"about:blank\">\n",
       "</iframe>\n",
       "\n",
       "\n",
       "<!-- Next create a JavaScript function with the same name as the node -->\n",
       "<script>\n",
       "window[\"demo-iframe-0.48625435588959065\"] = function(url) {\n",
       "    var iframe = document.getElementById(\"demo-iframe-0.48625435588959065\");\n",
       "    if(iframe) {\n",
       "        iframe.width = iframe.parentNode.offsetWidth * 0.98;\n",
       "        iframe.src = url;\n",
       "    }\n",
       "};\n",
       "</script>\n"
      ]
     },
     "metadata": {},
     "output_type": "display_data"
    },
    {
     "data": {
      "text/html": [
       "<script>window[\"demo-iframe-0.48625435588959065\"](\"https://soasta.github.io/osbridge-julia-d3/d3/07-d3-external-data.html?data=[6,25,34,75,136,234,270,253,243,268,226,214,204,152,122,110,69,68,50,46,54,48,37,37,36,291]\");</script>"
      ]
     },
     "metadata": {},
     "output_type": "display_data"
    },
    {
     "data": {
      "text/html": [
       "<p style=\"border-top: dashed 1px #ddd; border-bottom: solid 2px #000; padding-bottom: 3em;\">\n",
       "<strong>IE:</strong>\n",
       "<em>3309</em> records, median load time: <em>5047.0</em>ms\n",
       "</p>\n"
      ]
     },
     "metadata": {},
     "output_type": "display_data"
    },
    {
     "data": {
      "text/html": [
       "<!-- First create an empty iframe that's 500px high and has this id -->\n",
       "<iframe\n",
       "id=\"demo-iframe-0.1697180114918846\"\n",
       "height=\"500\"\n",
       "style=\"border:none;\"\n",
       "src=\"about:blank\">\n",
       "</iframe>\n",
       "\n",
       "\n",
       "<!-- Next create a JavaScript function with the same name as the node -->\n",
       "<script>\n",
       "window[\"demo-iframe-0.1697180114918846\"] = function(url) {\n",
       "    var iframe = document.getElementById(\"demo-iframe-0.1697180114918846\");\n",
       "    if(iframe) {\n",
       "        iframe.width = iframe.parentNode.offsetWidth * 0.98;\n",
       "        iframe.src = url;\n",
       "    }\n",
       "};\n",
       "</script>\n"
      ]
     },
     "metadata": {},
     "output_type": "display_data"
    },
    {
     "data": {
      "text/html": [
       "<script>window[\"demo-iframe-0.1697180114918846\"](\"https://soasta.github.io/osbridge-julia-d3/d3/07-d3-external-data.html?data=[0,0,0,0,0,0,0,0,0,0,0,0,0,1,0,0,0,0,0,0,2,0,2,2,1,12]\");</script>"
      ]
     },
     "metadata": {},
     "output_type": "display_data"
    },
    {
     "data": {
      "text/html": [
       "<p style=\"border-top: dashed 1px #ddd; border-bottom: solid 2px #000; padding-bottom: 3em;\">\n",
       "<strong>IE Mobile:</strong>\n",
       "<em>20</em> records, median load time: <em>14156.0</em>ms\n",
       "</p>\n"
      ]
     },
     "metadata": {},
     "output_type": "display_data"
    },
    {
     "data": {
      "text/html": [
       "<!-- First create an empty iframe that's 500px high and has this id -->\n",
       "<iframe\n",
       "id=\"demo-iframe-0.8598359679383336\"\n",
       "height=\"500\"\n",
       "style=\"border:none;\"\n",
       "src=\"about:blank\">\n",
       "</iframe>\n",
       "\n",
       "\n",
       "<!-- Next create a JavaScript function with the same name as the node -->\n",
       "<script>\n",
       "window[\"demo-iframe-0.8598359679383336\"] = function(url) {\n",
       "    var iframe = document.getElementById(\"demo-iframe-0.8598359679383336\");\n",
       "    if(iframe) {\n",
       "        iframe.width = iframe.parentNode.offsetWidth * 0.98;\n",
       "        iframe.src = url;\n",
       "    }\n",
       "};\n",
       "</script>\n"
      ]
     },
     "metadata": {},
     "output_type": "display_data"
    },
    {
     "data": {
      "text/html": [
       "<script>window[\"demo-iframe-0.8598359679383336\"](\"https://soasta.github.io/osbridge-julia-d3/d3/07-d3-external-data.html?data=[0,0,0,0,0,0,0,0,0,0,0,1,0,0,0,0,0,0,0,0,0,0,0,0,0,0]\");</script>"
      ]
     },
     "metadata": {},
     "output_type": "display_data"
    },
    {
     "data": {
      "text/html": [
       "<p style=\"border-top: dashed 1px #ddd; border-bottom: solid 2px #000; padding-bottom: 3em;\">\n",
       "<strong>Iceweasel:</strong>\n",
       "<em>1</em> records, median load time: <em>5657.0</em>ms\n",
       "</p>\n"
      ]
     },
     "metadata": {},
     "output_type": "display_data"
    },
    {
     "data": {
      "text/html": [
       "<!-- First create an empty iframe that's 500px high and has this id -->\n",
       "<iframe\n",
       "id=\"demo-iframe-0.04136311832486461\"\n",
       "height=\"500\"\n",
       "style=\"border:none;\"\n",
       "src=\"about:blank\">\n",
       "</iframe>\n",
       "\n",
       "\n",
       "<!-- Next create a JavaScript function with the same name as the node -->\n",
       "<script>\n",
       "window[\"demo-iframe-0.04136311832486461\"] = function(url) {\n",
       "    var iframe = document.getElementById(\"demo-iframe-0.04136311832486461\");\n",
       "    if(iframe) {\n",
       "        iframe.width = iframe.parentNode.offsetWidth * 0.98;\n",
       "        iframe.src = url;\n",
       "    }\n",
       "};\n",
       "</script>\n"
      ]
     },
     "metadata": {},
     "output_type": "display_data"
    },
    {
     "data": {
      "text/html": [
       "<script>window[\"demo-iframe-0.04136311832486461\"](\"https://soasta.github.io/osbridge-julia-d3/d3/07-d3-external-data.html?data=[0,0,0,2,6,5,10,11,15,18,25,11,19,8,4,8,3,10,6,6,2,2,1,1,1,24]\");</script>"
      ]
     },
     "metadata": {},
     "output_type": "display_data"
    },
    {
     "data": {
      "text/html": [
       "<p style=\"border-top: dashed 1px #ddd; border-bottom: solid 2px #000; padding-bottom: 3em;\">\n",
       "<strong>Mobile Safari:</strong>\n",
       "<em>198</em> records, median load time: <em>5479.0</em>ms\n",
       "</p>\n"
      ]
     },
     "metadata": {},
     "output_type": "display_data"
    },
    {
     "data": {
      "text/html": [
       "<!-- First create an empty iframe that's 500px high and has this id -->\n",
       "<iframe\n",
       "id=\"demo-iframe-0.47780007764609955\"\n",
       "height=\"500\"\n",
       "style=\"border:none;\"\n",
       "src=\"about:blank\">\n",
       "</iframe>\n",
       "\n",
       "\n",
       "<!-- Next create a JavaScript function with the same name as the node -->\n",
       "<script>\n",
       "window[\"demo-iframe-0.47780007764609955\"] = function(url) {\n",
       "    var iframe = document.getElementById(\"demo-iframe-0.47780007764609955\");\n",
       "    if(iframe) {\n",
       "        iframe.width = iframe.parentNode.offsetWidth * 0.98;\n",
       "        iframe.src = url;\n",
       "    }\n",
       "};\n",
       "</script>\n"
      ]
     },
     "metadata": {},
     "output_type": "display_data"
    },
    {
     "data": {
      "text/html": [
       "<script>window[\"demo-iframe-0.47780007764609955\"](\"https://soasta.github.io/osbridge-julia-d3/d3/07-d3-external-data.html?data=[0,1,1,2,0,0,0,3,1,0,1,0,3,0,3,0,1,0,1,0,1,0,0,0,0,1]\");</script>"
      ]
     },
     "metadata": {},
     "output_type": "display_data"
    },
    {
     "data": {
      "text/html": [
       "<p style=\"border-top: dashed 1px #ddd; border-bottom: solid 2px #000; padding-bottom: 3em;\">\n",
       "<strong>Opera:</strong>\n",
       "<em>19</em> records, median load time: <em>5841.0</em>ms\n",
       "</p>\n"
      ]
     },
     "metadata": {},
     "output_type": "display_data"
    },
    {
     "data": {
      "text/html": [
       "<!-- First create an empty iframe that's 500px high and has this id -->\n",
       "<iframe\n",
       "id=\"demo-iframe-0.7556677761768644\"\n",
       "height=\"500\"\n",
       "style=\"border:none;\"\n",
       "src=\"about:blank\">\n",
       "</iframe>\n",
       "\n",
       "\n",
       "<!-- Next create a JavaScript function with the same name as the node -->\n",
       "<script>\n",
       "window[\"demo-iframe-0.7556677761768644\"] = function(url) {\n",
       "    var iframe = document.getElementById(\"demo-iframe-0.7556677761768644\");\n",
       "    if(iframe) {\n",
       "        iframe.width = iframe.parentNode.offsetWidth * 0.98;\n",
       "        iframe.src = url;\n",
       "    }\n",
       "};\n",
       "</script>\n"
      ]
     },
     "metadata": {},
     "output_type": "display_data"
    },
    {
     "data": {
      "text/html": [
       "<script>window[\"demo-iframe-0.7556677761768644\"](\"https://soasta.github.io/osbridge-julia-d3/d3/07-d3-external-data.html?data=[0,0,0,0,0,0,0,0,0,0,0,0,1,0,0,0,0,0,0,0,0,0,0,0,0,0]\");</script>"
      ]
     },
     "metadata": {},
     "output_type": "display_data"
    },
    {
     "data": {
      "text/html": [
       "<p style=\"border-top: dashed 1px #ddd; border-bottom: solid 2px #000; padding-bottom: 3em;\">\n",
       "<strong>Pale Moon (Firefox Variant):</strong>\n",
       "<em>1</em> records, median load time: <em>6097.0</em>ms\n",
       "</p>\n"
      ]
     },
     "metadata": {},
     "output_type": "display_data"
    },
    {
     "data": {
      "text/html": [
       "<!-- First create an empty iframe that's 500px high and has this id -->\n",
       "<iframe\n",
       "id=\"demo-iframe-0.5159075890477409\"\n",
       "height=\"500\"\n",
       "style=\"border:none;\"\n",
       "src=\"about:blank\">\n",
       "</iframe>\n",
       "\n",
       "\n",
       "<!-- Next create a JavaScript function with the same name as the node -->\n",
       "<script>\n",
       "window[\"demo-iframe-0.5159075890477409\"] = function(url) {\n",
       "    var iframe = document.getElementById(\"demo-iframe-0.5159075890477409\");\n",
       "    if(iframe) {\n",
       "        iframe.width = iframe.parentNode.offsetWidth * 0.98;\n",
       "        iframe.src = url;\n",
       "    }\n",
       "};\n",
       "</script>\n"
      ]
     },
     "metadata": {},
     "output_type": "display_data"
    },
    {
     "data": {
      "text/html": [
       "<script>window[\"demo-iframe-0.5159075890477409\"](\"https://soasta.github.io/osbridge-julia-d3/d3/07-d3-external-data.html?data=[9,17,35,85,101,166,188,145,114,87,53,54,40,40,16,24,15,17,17,11,5,4,6,8,3,58]\");</script>"
      ]
     },
     "metadata": {},
     "output_type": "display_data"
    },
    {
     "data": {
      "text/html": [
       "<p style=\"border-top: dashed 1px #ddd; border-bottom: solid 2px #000; padding-bottom: 3em;\">\n",
       "<strong>Safari:</strong>\n",
       "<em>1318</em> records, median load time: <em>3574.5</em>ms\n",
       "</p>\n"
      ]
     },
     "metadata": {},
     "output_type": "display_data"
    }
   ],
   "source": [
    "for i in 1:size(groups, 1)\n",
    "    local id = createIFrame()\n",
    "    local data = groups[i, :hist]\n",
    "    updateIFrame(id, \"https://soasta.github.io/osbridge-julia-d3/d3/07-d3-external-data.html?data=$(data)\")\n",
    "\n",
    "    display(\"text/html\", \"\"\"\n",
    "    <p style=\"border-top: dashed 1px #ddd; border-bottom: solid 2px #000; padding-bottom: 3em;\">\n",
    "        <strong>$(groups[i, :user_agent_family]):</strong>\n",
    "        <em>$(groups[i, :count])</em> records, median load time: <em>$(groups[i, :median])</em>ms\n",
    "        </p>\n",
    "        \"\"\"\n",
    "    )\n",
    "end"
   ]
  },
  {
   "cell_type": "code",
   "execution_count": null,
   "metadata": {
    "collapsed": true
   },
   "outputs": [],
   "source": []
  }
 ],
 "metadata": {
  "kernelspec": {
   "display_name": "Julia 0.3.9",
   "language": "julia",
   "name": "julia-0.3"
  },
  "language_info": {
   "name": "julia",
   "version": "0.3.9"
  }
 },
 "nbformat": 4,
 "nbformat_minor": 0
}
